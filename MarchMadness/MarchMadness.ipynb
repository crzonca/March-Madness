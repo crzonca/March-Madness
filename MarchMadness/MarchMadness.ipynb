{
 "cells": [
  {
   "cell_type": "code",
   "execution_count": 535,
   "id": "initial_id",
   "metadata": {
    "collapsed": true,
    "ExecuteTime": {
     "end_time": "2023-12-29T21:44:57.180127100Z",
     "start_time": "2023-12-29T21:44:57.045172400Z"
    }
   },
   "outputs": [],
   "source": [
    "import pandas as pd\n",
    "import random\n",
    "import uuid\n",
    "import os"
   ]
  },
  {
   "cell_type": "markdown",
   "source": [
    "# Data Grooming"
   ],
   "metadata": {
    "collapsed": false
   },
   "id": "2f4ad8145ac05917"
  },
  {
   "cell_type": "markdown",
   "source": [
    "## Statline Data"
   ],
   "metadata": {
    "collapsed": false
   },
   "id": "6798a11c67ac26a2"
  },
  {
   "cell_type": "markdown",
   "source": [
    "### Load Historical Data"
   ],
   "metadata": {
    "collapsed": false
   },
   "id": "d9b1adf57504502"
  },
  {
   "cell_type": "code",
   "outputs": [
    {
     "data": {
      "text/plain": "                    Team        Res       Date   Opp Loc  MIN  PTS  O-PPP  \\\n0               Richmond   W, 44-42 2007-11-05   UME   N  200   44  0.663   \n1                  Maine   L, 42-44 2007-11-05  RICH   N  200   42  0.652   \n2       Tennessee-Martin  L, 71-102 2007-11-05   MEM   V  200   71  0.785   \n3                Memphis  W, 102-71 2007-11-05   UTM   H  200  102  1.149   \n4            Alabama A&M   L, 55-69 2007-11-06   GWB   N  200   55  0.702   \n...                  ...        ...        ...   ...  ..  ...  ...    ...   \n171966   San Diego State   W, 72-71 2023-04-01   FAU   H  195   72  1.135   \n171967  Florida Atlantic   L, 71-72 2023-04-01  SDSU   V  196   71  1.110   \n171968      Miami (Fla.)   L, 59-72 2023-04-01  CONN   V  195   59  0.912   \n171969   San Diego State   L, 59-76 2023-04-03  CONN   V  193   59  0.861   \n171970       Connecticut   W, 76-59 2023-04-03  SDSU   H  192   76  1.104   \n\n        Pace  FGM  ...  OREB  TmRb  REB  AST  STL  BLK  TO   F  Tm Pts  \\\n0         65   17  ...     6     0   18    9   13    6  18  10       0   \n1         65   19  ...    11     0   39    9    9    1  28  12       0   \n2         90   24  ...    15     0   41   16    5    2  18  22       0   \n3         90   37  ...    18     0   52   23    9   11  10  21       0   \n4         77   17  ...    10     0   30    9    4    8  27  24       0   \n...      ...  ...  ...   ...   ...  ...  ...  ...  ...  ..  ..     ...   \n171966    64   25  ...    12     0   35    8    3    2   8  17       0   \n171967    64   23  ...     7     0   31    6    6    2   9  17       0   \n171968    64   20  ...    12     0   29   10    8    1   9  12       0   \n171969    68   19  ...    12     0   33    7    7    2  12  20       0   \n171970    68   23  ...    10     0   40   13    8    6  13  15       0   \n\n                                    Obs UUID  \n0       a81c9171-eaf4-4ecc-b2bf-cae87dd82b0d  \n1       e93a5edf-b807-49dc-ad18-8a1a0dd87e4f  \n2       e1141379-f50a-4202-bd46-86c5039cdf57  \n3       f07a9cef-54f9-4ffe-bd6b-7456a599b59b  \n4       480f90ae-2f81-4997-aebf-7043d5e3899e  \n...                                      ...  \n171966  ca8a0f1b-573e-4cd9-8c35-236ca2fb5bdf  \n171967  fb606a53-2805-47a1-9a67-495d1c6fb9f6  \n171968  92e25ac8-5047-4c0d-97dd-31b930e236e7  \n171969  5a711232-0bde-4dc6-a4ea-cc7b3131cbb4  \n171970  ebbe360c-7cbb-4259-b84e-8db0af20deab  \n\n[171971 rows x 25 columns]",
      "text/html": "<div>\n<style scoped>\n    .dataframe tbody tr th:only-of-type {\n        vertical-align: middle;\n    }\n\n    .dataframe tbody tr th {\n        vertical-align: top;\n    }\n\n    .dataframe thead th {\n        text-align: right;\n    }\n</style>\n<table border=\"1\" class=\"dataframe\">\n  <thead>\n    <tr style=\"text-align: right;\">\n      <th></th>\n      <th>Team</th>\n      <th>Res</th>\n      <th>Date</th>\n      <th>Opp</th>\n      <th>Loc</th>\n      <th>MIN</th>\n      <th>PTS</th>\n      <th>O-PPP</th>\n      <th>Pace</th>\n      <th>FGM</th>\n      <th>...</th>\n      <th>OREB</th>\n      <th>TmRb</th>\n      <th>REB</th>\n      <th>AST</th>\n      <th>STL</th>\n      <th>BLK</th>\n      <th>TO</th>\n      <th>F</th>\n      <th>Tm Pts</th>\n      <th>Obs UUID</th>\n    </tr>\n  </thead>\n  <tbody>\n    <tr>\n      <th>0</th>\n      <td>Richmond</td>\n      <td>W, 44-42</td>\n      <td>2007-11-05</td>\n      <td>UME</td>\n      <td>N</td>\n      <td>200</td>\n      <td>44</td>\n      <td>0.663</td>\n      <td>65</td>\n      <td>17</td>\n      <td>...</td>\n      <td>6</td>\n      <td>0</td>\n      <td>18</td>\n      <td>9</td>\n      <td>13</td>\n      <td>6</td>\n      <td>18</td>\n      <td>10</td>\n      <td>0</td>\n      <td>a81c9171-eaf4-4ecc-b2bf-cae87dd82b0d</td>\n    </tr>\n    <tr>\n      <th>1</th>\n      <td>Maine</td>\n      <td>L, 42-44</td>\n      <td>2007-11-05</td>\n      <td>RICH</td>\n      <td>N</td>\n      <td>200</td>\n      <td>42</td>\n      <td>0.652</td>\n      <td>65</td>\n      <td>19</td>\n      <td>...</td>\n      <td>11</td>\n      <td>0</td>\n      <td>39</td>\n      <td>9</td>\n      <td>9</td>\n      <td>1</td>\n      <td>28</td>\n      <td>12</td>\n      <td>0</td>\n      <td>e93a5edf-b807-49dc-ad18-8a1a0dd87e4f</td>\n    </tr>\n    <tr>\n      <th>2</th>\n      <td>Tennessee-Martin</td>\n      <td>L, 71-102</td>\n      <td>2007-11-05</td>\n      <td>MEM</td>\n      <td>V</td>\n      <td>200</td>\n      <td>71</td>\n      <td>0.785</td>\n      <td>90</td>\n      <td>24</td>\n      <td>...</td>\n      <td>15</td>\n      <td>0</td>\n      <td>41</td>\n      <td>16</td>\n      <td>5</td>\n      <td>2</td>\n      <td>18</td>\n      <td>22</td>\n      <td>0</td>\n      <td>e1141379-f50a-4202-bd46-86c5039cdf57</td>\n    </tr>\n    <tr>\n      <th>3</th>\n      <td>Memphis</td>\n      <td>W, 102-71</td>\n      <td>2007-11-05</td>\n      <td>UTM</td>\n      <td>H</td>\n      <td>200</td>\n      <td>102</td>\n      <td>1.149</td>\n      <td>90</td>\n      <td>37</td>\n      <td>...</td>\n      <td>18</td>\n      <td>0</td>\n      <td>52</td>\n      <td>23</td>\n      <td>9</td>\n      <td>11</td>\n      <td>10</td>\n      <td>21</td>\n      <td>0</td>\n      <td>f07a9cef-54f9-4ffe-bd6b-7456a599b59b</td>\n    </tr>\n    <tr>\n      <th>4</th>\n      <td>Alabama A&amp;M</td>\n      <td>L, 55-69</td>\n      <td>2007-11-06</td>\n      <td>GWB</td>\n      <td>N</td>\n      <td>200</td>\n      <td>55</td>\n      <td>0.702</td>\n      <td>77</td>\n      <td>17</td>\n      <td>...</td>\n      <td>10</td>\n      <td>0</td>\n      <td>30</td>\n      <td>9</td>\n      <td>4</td>\n      <td>8</td>\n      <td>27</td>\n      <td>24</td>\n      <td>0</td>\n      <td>480f90ae-2f81-4997-aebf-7043d5e3899e</td>\n    </tr>\n    <tr>\n      <th>...</th>\n      <td>...</td>\n      <td>...</td>\n      <td>...</td>\n      <td>...</td>\n      <td>...</td>\n      <td>...</td>\n      <td>...</td>\n      <td>...</td>\n      <td>...</td>\n      <td>...</td>\n      <td>...</td>\n      <td>...</td>\n      <td>...</td>\n      <td>...</td>\n      <td>...</td>\n      <td>...</td>\n      <td>...</td>\n      <td>...</td>\n      <td>...</td>\n      <td>...</td>\n      <td>...</td>\n    </tr>\n    <tr>\n      <th>171966</th>\n      <td>San Diego State</td>\n      <td>W, 72-71</td>\n      <td>2023-04-01</td>\n      <td>FAU</td>\n      <td>H</td>\n      <td>195</td>\n      <td>72</td>\n      <td>1.135</td>\n      <td>64</td>\n      <td>25</td>\n      <td>...</td>\n      <td>12</td>\n      <td>0</td>\n      <td>35</td>\n      <td>8</td>\n      <td>3</td>\n      <td>2</td>\n      <td>8</td>\n      <td>17</td>\n      <td>0</td>\n      <td>ca8a0f1b-573e-4cd9-8c35-236ca2fb5bdf</td>\n    </tr>\n    <tr>\n      <th>171967</th>\n      <td>Florida Atlantic</td>\n      <td>L, 71-72</td>\n      <td>2023-04-01</td>\n      <td>SDSU</td>\n      <td>V</td>\n      <td>196</td>\n      <td>71</td>\n      <td>1.110</td>\n      <td>64</td>\n      <td>23</td>\n      <td>...</td>\n      <td>7</td>\n      <td>0</td>\n      <td>31</td>\n      <td>6</td>\n      <td>6</td>\n      <td>2</td>\n      <td>9</td>\n      <td>17</td>\n      <td>0</td>\n      <td>fb606a53-2805-47a1-9a67-495d1c6fb9f6</td>\n    </tr>\n    <tr>\n      <th>171968</th>\n      <td>Miami (Fla.)</td>\n      <td>L, 59-72</td>\n      <td>2023-04-01</td>\n      <td>CONN</td>\n      <td>V</td>\n      <td>195</td>\n      <td>59</td>\n      <td>0.912</td>\n      <td>64</td>\n      <td>20</td>\n      <td>...</td>\n      <td>12</td>\n      <td>0</td>\n      <td>29</td>\n      <td>10</td>\n      <td>8</td>\n      <td>1</td>\n      <td>9</td>\n      <td>12</td>\n      <td>0</td>\n      <td>92e25ac8-5047-4c0d-97dd-31b930e236e7</td>\n    </tr>\n    <tr>\n      <th>171969</th>\n      <td>San Diego State</td>\n      <td>L, 59-76</td>\n      <td>2023-04-03</td>\n      <td>CONN</td>\n      <td>V</td>\n      <td>193</td>\n      <td>59</td>\n      <td>0.861</td>\n      <td>68</td>\n      <td>19</td>\n      <td>...</td>\n      <td>12</td>\n      <td>0</td>\n      <td>33</td>\n      <td>7</td>\n      <td>7</td>\n      <td>2</td>\n      <td>12</td>\n      <td>20</td>\n      <td>0</td>\n      <td>5a711232-0bde-4dc6-a4ea-cc7b3131cbb4</td>\n    </tr>\n    <tr>\n      <th>171970</th>\n      <td>Connecticut</td>\n      <td>W, 76-59</td>\n      <td>2023-04-03</td>\n      <td>SDSU</td>\n      <td>H</td>\n      <td>192</td>\n      <td>76</td>\n      <td>1.104</td>\n      <td>68</td>\n      <td>23</td>\n      <td>...</td>\n      <td>10</td>\n      <td>0</td>\n      <td>40</td>\n      <td>13</td>\n      <td>8</td>\n      <td>6</td>\n      <td>13</td>\n      <td>15</td>\n      <td>0</td>\n      <td>ebbe360c-7cbb-4259-b84e-8db0af20deab</td>\n    </tr>\n  </tbody>\n</table>\n<p>171971 rows × 25 columns</p>\n</div>"
     },
     "execution_count": 536,
     "metadata": {},
     "output_type": "execute_result"
    }
   ],
   "source": [
    "statline_path = 'Historical Data/Team Statlines/Yearly/'\n",
    "dir_list = os.listdir(statline_path)\n",
    "\n",
    "statline_dfs = list()\n",
    "for file_name in dir_list:\n",
    "    statline_df = pd.read_csv(statline_path + file_name)\n",
    "    statline_dfs.append(statline_df)\n",
    "    \n",
    "statline_df = pd.concat(statline_dfs)\n",
    "statline_df = statline_df.drop_duplicates()\n",
    "statline_df['Date'] = pd.to_datetime(statline_df['Date'], format='mixed')\n",
    "statline_df = statline_df.sort_values(by='Date').reset_index(drop=True)\n",
    "statline_df['Obs UUID'] = statline_df.apply(lambda r: str(uuid.uuid4()), axis=1)\n",
    "statline_df"
   ],
   "metadata": {
    "collapsed": false,
    "ExecuteTime": {
     "end_time": "2023-12-29T21:44:58.520881500Z",
     "start_time": "2023-12-29T21:44:57.183622400Z"
    }
   },
   "id": "3f5ffd542f410378",
   "execution_count": 536
  },
  {
   "cell_type": "markdown",
   "source": [
    "### Team Abbreviation and Nickname Data"
   ],
   "metadata": {
    "collapsed": false
   },
   "id": "4b360a93fbbb2858"
  },
  {
   "cell_type": "code",
   "outputs": [
    {
     "data": {
      "text/plain": "             ID                               Name Abbrev Active  \\\nteam_376  376.0                         Akron Zips    AKR      Y   \nteam_344  344.0               Alabama Crimson Tide    ALA      Y   \nteam_545  545.0               Alabama A&M Bulldogs   ALAM      Y   \nteam_238  238.0              Alabama State Hornets   ALST      Y   \nteam_540  540.0                 Albany Great Danes    ALB      Y   \n...         ...                                ...    ...    ...   \nNaN         NaN                   Lindenwood Lions   LIND      Y   \nNaN         NaN               Queens (N.C.) Royals   QUNC      Y   \nNaN         NaN  Southern Indiana Screaming Eagles   SIND      Y   \nNaN         NaN                 Stonehill Skyhawks   STNH      Y   \nNaN         NaN           Texas A&M-Commerce Lions   TMCM      Y   \n\n                  Nickname  \nteam_376              Zips  \nteam_344      Crimson Tide  \nteam_545          Bulldogs  \nteam_238           Hornets  \nteam_540       Great Danes  \n...                    ...  \nNaN                  Lions  \nNaN                 Royals  \nNaN       Screaming Eagles  \nNaN               Skyhawks  \nNaN                  Lions  \n\n[367 rows x 5 columns]",
      "text/html": "<div>\n<style scoped>\n    .dataframe tbody tr th:only-of-type {\n        vertical-align: middle;\n    }\n\n    .dataframe tbody tr th {\n        vertical-align: top;\n    }\n\n    .dataframe thead th {\n        text-align: right;\n    }\n</style>\n<table border=\"1\" class=\"dataframe\">\n  <thead>\n    <tr style=\"text-align: right;\">\n      <th></th>\n      <th>ID</th>\n      <th>Name</th>\n      <th>Abbrev</th>\n      <th>Active</th>\n      <th>Nickname</th>\n    </tr>\n  </thead>\n  <tbody>\n    <tr>\n      <th>team_376</th>\n      <td>376.0</td>\n      <td>Akron Zips</td>\n      <td>AKR</td>\n      <td>Y</td>\n      <td>Zips</td>\n    </tr>\n    <tr>\n      <th>team_344</th>\n      <td>344.0</td>\n      <td>Alabama Crimson Tide</td>\n      <td>ALA</td>\n      <td>Y</td>\n      <td>Crimson Tide</td>\n    </tr>\n    <tr>\n      <th>team_545</th>\n      <td>545.0</td>\n      <td>Alabama A&amp;M Bulldogs</td>\n      <td>ALAM</td>\n      <td>Y</td>\n      <td>Bulldogs</td>\n    </tr>\n    <tr>\n      <th>team_238</th>\n      <td>238.0</td>\n      <td>Alabama State Hornets</td>\n      <td>ALST</td>\n      <td>Y</td>\n      <td>Hornets</td>\n    </tr>\n    <tr>\n      <th>team_540</th>\n      <td>540.0</td>\n      <td>Albany Great Danes</td>\n      <td>ALB</td>\n      <td>Y</td>\n      <td>Great Danes</td>\n    </tr>\n    <tr>\n      <th>...</th>\n      <td>...</td>\n      <td>...</td>\n      <td>...</td>\n      <td>...</td>\n      <td>...</td>\n    </tr>\n    <tr>\n      <th>NaN</th>\n      <td>NaN</td>\n      <td>Lindenwood Lions</td>\n      <td>LIND</td>\n      <td>Y</td>\n      <td>Lions</td>\n    </tr>\n    <tr>\n      <th>NaN</th>\n      <td>NaN</td>\n      <td>Queens (N.C.) Royals</td>\n      <td>QUNC</td>\n      <td>Y</td>\n      <td>Royals</td>\n    </tr>\n    <tr>\n      <th>NaN</th>\n      <td>NaN</td>\n      <td>Southern Indiana Screaming Eagles</td>\n      <td>SIND</td>\n      <td>Y</td>\n      <td>Screaming Eagles</td>\n    </tr>\n    <tr>\n      <th>NaN</th>\n      <td>NaN</td>\n      <td>Stonehill Skyhawks</td>\n      <td>STNH</td>\n      <td>Y</td>\n      <td>Skyhawks</td>\n    </tr>\n    <tr>\n      <th>NaN</th>\n      <td>NaN</td>\n      <td>Texas A&amp;M-Commerce Lions</td>\n      <td>TMCM</td>\n      <td>Y</td>\n      <td>Lions</td>\n    </tr>\n  </tbody>\n</table>\n<p>367 rows × 5 columns</p>\n</div>"
     },
     "execution_count": 537,
     "metadata": {},
     "output_type": "execute_result"
    }
   ],
   "source": [
    "team_df = pd.read_csv('Historical Data/ncaamTeams.csv', index_col=0)\n",
    "team_df = team_df.drop_duplicates()\n",
    "team_df"
   ],
   "metadata": {
    "collapsed": false,
    "ExecuteTime": {
     "end_time": "2023-12-29T21:44:58.534356800Z",
     "start_time": "2023-12-29T21:44:58.519379600Z"
    }
   },
   "id": "e7fa3e868341927",
   "execution_count": 537
  },
  {
   "cell_type": "markdown",
   "source": [
    "Make sure each team's full name ends with their nickname"
   ],
   "metadata": {
    "collapsed": false
   },
   "id": "866dac1a5c452061"
  },
  {
   "cell_type": "code",
   "outputs": [
    {
     "data": {
      "text/plain": "Empty DataFrame\nColumns: [ID, Name, Abbrev, Active, Nickname, Correct]\nIndex: []",
      "text/html": "<div>\n<style scoped>\n    .dataframe tbody tr th:only-of-type {\n        vertical-align: middle;\n    }\n\n    .dataframe tbody tr th {\n        vertical-align: top;\n    }\n\n    .dataframe thead th {\n        text-align: right;\n    }\n</style>\n<table border=\"1\" class=\"dataframe\">\n  <thead>\n    <tr style=\"text-align: right;\">\n      <th></th>\n      <th>ID</th>\n      <th>Name</th>\n      <th>Abbrev</th>\n      <th>Active</th>\n      <th>Nickname</th>\n      <th>Correct</th>\n    </tr>\n  </thead>\n  <tbody>\n  </tbody>\n</table>\n</div>"
     },
     "execution_count": 538,
     "metadata": {},
     "output_type": "execute_result"
    }
   ],
   "source": [
    "team_df['Correct'] = team_df.apply(lambda row: row['Name'].endswith(row['Nickname']), axis=1)\n",
    "team_df.loc[team_df['Correct'] == False]"
   ],
   "metadata": {
    "collapsed": false,
    "ExecuteTime": {
     "end_time": "2023-12-29T21:44:58.586469800Z",
     "start_time": "2023-12-29T21:44:58.534356800Z"
    }
   },
   "id": "fd48f563b6c4609b",
   "execution_count": 538
  },
  {
   "cell_type": "markdown",
   "source": [
    "The College of William & Mary (CWM) is often mislabeled as WMU (Western Michigan), similarly, Northwestern (NW) is often mislabeled as NU (Northeastern).  We are ignoring those abbreviations for the time being and will handle them later."
   ],
   "metadata": {
    "collapsed": false
   },
   "id": "e9fc3e2843e4f029"
  },
  {
   "cell_type": "code",
   "outputs": [],
   "source": [
    "abbrev_to_name = {row['Abbrev']: row['Name'].replace(row['Nickname'], '').strip() for index, row in team_df.iterrows()}\n",
    "del abbrev_to_name['WMU']\n",
    "del abbrev_to_name['NU']"
   ],
   "metadata": {
    "collapsed": false,
    "ExecuteTime": {
     "end_time": "2023-12-29T21:44:58.626138200Z",
     "start_time": "2023-12-29T21:44:58.551635600Z"
    }
   },
   "id": "665b29d1cdcb4700",
   "execution_count": 539
  },
  {
   "cell_type": "markdown",
   "source": [
    "### Rename Opponents"
   ],
   "metadata": {
    "collapsed": false
   },
   "id": "761a1cc5073e2517"
  },
  {
   "cell_type": "code",
   "outputs": [
    {
     "data": {
      "text/plain": "                    Team        Res       Date               Opp Loc  MIN  \\\n0               Richmond   W, 44-42 2007-11-05             Maine   N  200   \n1                  Maine   L, 42-44 2007-11-05          Richmond   N  200   \n2       Tennessee-Martin  L, 71-102 2007-11-05           Memphis   V  200   \n3                Memphis  W, 102-71 2007-11-05  Tennessee-Martin   H  200   \n4            Alabama A&M   L, 55-69 2007-11-06      Gardner-Webb   N  200   \n...                  ...        ...        ...               ...  ..  ...   \n171966   San Diego State   W, 72-71 2023-04-01  Florida Atlantic   H  195   \n171967  Florida Atlantic   L, 71-72 2023-04-01   San Diego State   V  196   \n171968      Miami (Fla.)   L, 59-72 2023-04-01       Connecticut   V  195   \n171969   San Diego State   L, 59-76 2023-04-03       Connecticut   V  193   \n171970       Connecticut   W, 76-59 2023-04-03   San Diego State   H  192   \n\n        PTS  O-PPP  Pace  FGM  ...  OREB  TmRb  REB  AST  STL  BLK  TO   F  \\\n0        44  0.663    65   17  ...     6     0   18    9   13    6  18  10   \n1        42  0.652    65   19  ...    11     0   39    9    9    1  28  12   \n2        71  0.785    90   24  ...    15     0   41   16    5    2  18  22   \n3       102  1.149    90   37  ...    18     0   52   23    9   11  10  21   \n4        55  0.702    77   17  ...    10     0   30    9    4    8  27  24   \n...     ...    ...   ...  ...  ...   ...   ...  ...  ...  ...  ...  ..  ..   \n171966   72  1.135    64   25  ...    12     0   35    8    3    2   8  17   \n171967   71  1.110    64   23  ...     7     0   31    6    6    2   9  17   \n171968   59  0.912    64   20  ...    12     0   29   10    8    1   9  12   \n171969   59  0.861    68   19  ...    12     0   33    7    7    2  12  20   \n171970   76  1.104    68   23  ...    10     0   40   13    8    6  13  15   \n\n        Tm Pts                              Obs UUID  \n0            0  a81c9171-eaf4-4ecc-b2bf-cae87dd82b0d  \n1            0  e93a5edf-b807-49dc-ad18-8a1a0dd87e4f  \n2            0  e1141379-f50a-4202-bd46-86c5039cdf57  \n3            0  f07a9cef-54f9-4ffe-bd6b-7456a599b59b  \n4            0  480f90ae-2f81-4997-aebf-7043d5e3899e  \n...        ...                                   ...  \n171966       0  ca8a0f1b-573e-4cd9-8c35-236ca2fb5bdf  \n171967       0  fb606a53-2805-47a1-9a67-495d1c6fb9f6  \n171968       0  92e25ac8-5047-4c0d-97dd-31b930e236e7  \n171969       0  5a711232-0bde-4dc6-a4ea-cc7b3131cbb4  \n171970       0  ebbe360c-7cbb-4259-b84e-8db0af20deab  \n\n[171971 rows x 25 columns]",
      "text/html": "<div>\n<style scoped>\n    .dataframe tbody tr th:only-of-type {\n        vertical-align: middle;\n    }\n\n    .dataframe tbody tr th {\n        vertical-align: top;\n    }\n\n    .dataframe thead th {\n        text-align: right;\n    }\n</style>\n<table border=\"1\" class=\"dataframe\">\n  <thead>\n    <tr style=\"text-align: right;\">\n      <th></th>\n      <th>Team</th>\n      <th>Res</th>\n      <th>Date</th>\n      <th>Opp</th>\n      <th>Loc</th>\n      <th>MIN</th>\n      <th>PTS</th>\n      <th>O-PPP</th>\n      <th>Pace</th>\n      <th>FGM</th>\n      <th>...</th>\n      <th>OREB</th>\n      <th>TmRb</th>\n      <th>REB</th>\n      <th>AST</th>\n      <th>STL</th>\n      <th>BLK</th>\n      <th>TO</th>\n      <th>F</th>\n      <th>Tm Pts</th>\n      <th>Obs UUID</th>\n    </tr>\n  </thead>\n  <tbody>\n    <tr>\n      <th>0</th>\n      <td>Richmond</td>\n      <td>W, 44-42</td>\n      <td>2007-11-05</td>\n      <td>Maine</td>\n      <td>N</td>\n      <td>200</td>\n      <td>44</td>\n      <td>0.663</td>\n      <td>65</td>\n      <td>17</td>\n      <td>...</td>\n      <td>6</td>\n      <td>0</td>\n      <td>18</td>\n      <td>9</td>\n      <td>13</td>\n      <td>6</td>\n      <td>18</td>\n      <td>10</td>\n      <td>0</td>\n      <td>a81c9171-eaf4-4ecc-b2bf-cae87dd82b0d</td>\n    </tr>\n    <tr>\n      <th>1</th>\n      <td>Maine</td>\n      <td>L, 42-44</td>\n      <td>2007-11-05</td>\n      <td>Richmond</td>\n      <td>N</td>\n      <td>200</td>\n      <td>42</td>\n      <td>0.652</td>\n      <td>65</td>\n      <td>19</td>\n      <td>...</td>\n      <td>11</td>\n      <td>0</td>\n      <td>39</td>\n      <td>9</td>\n      <td>9</td>\n      <td>1</td>\n      <td>28</td>\n      <td>12</td>\n      <td>0</td>\n      <td>e93a5edf-b807-49dc-ad18-8a1a0dd87e4f</td>\n    </tr>\n    <tr>\n      <th>2</th>\n      <td>Tennessee-Martin</td>\n      <td>L, 71-102</td>\n      <td>2007-11-05</td>\n      <td>Memphis</td>\n      <td>V</td>\n      <td>200</td>\n      <td>71</td>\n      <td>0.785</td>\n      <td>90</td>\n      <td>24</td>\n      <td>...</td>\n      <td>15</td>\n      <td>0</td>\n      <td>41</td>\n      <td>16</td>\n      <td>5</td>\n      <td>2</td>\n      <td>18</td>\n      <td>22</td>\n      <td>0</td>\n      <td>e1141379-f50a-4202-bd46-86c5039cdf57</td>\n    </tr>\n    <tr>\n      <th>3</th>\n      <td>Memphis</td>\n      <td>W, 102-71</td>\n      <td>2007-11-05</td>\n      <td>Tennessee-Martin</td>\n      <td>H</td>\n      <td>200</td>\n      <td>102</td>\n      <td>1.149</td>\n      <td>90</td>\n      <td>37</td>\n      <td>...</td>\n      <td>18</td>\n      <td>0</td>\n      <td>52</td>\n      <td>23</td>\n      <td>9</td>\n      <td>11</td>\n      <td>10</td>\n      <td>21</td>\n      <td>0</td>\n      <td>f07a9cef-54f9-4ffe-bd6b-7456a599b59b</td>\n    </tr>\n    <tr>\n      <th>4</th>\n      <td>Alabama A&amp;M</td>\n      <td>L, 55-69</td>\n      <td>2007-11-06</td>\n      <td>Gardner-Webb</td>\n      <td>N</td>\n      <td>200</td>\n      <td>55</td>\n      <td>0.702</td>\n      <td>77</td>\n      <td>17</td>\n      <td>...</td>\n      <td>10</td>\n      <td>0</td>\n      <td>30</td>\n      <td>9</td>\n      <td>4</td>\n      <td>8</td>\n      <td>27</td>\n      <td>24</td>\n      <td>0</td>\n      <td>480f90ae-2f81-4997-aebf-7043d5e3899e</td>\n    </tr>\n    <tr>\n      <th>...</th>\n      <td>...</td>\n      <td>...</td>\n      <td>...</td>\n      <td>...</td>\n      <td>...</td>\n      <td>...</td>\n      <td>...</td>\n      <td>...</td>\n      <td>...</td>\n      <td>...</td>\n      <td>...</td>\n      <td>...</td>\n      <td>...</td>\n      <td>...</td>\n      <td>...</td>\n      <td>...</td>\n      <td>...</td>\n      <td>...</td>\n      <td>...</td>\n      <td>...</td>\n      <td>...</td>\n    </tr>\n    <tr>\n      <th>171966</th>\n      <td>San Diego State</td>\n      <td>W, 72-71</td>\n      <td>2023-04-01</td>\n      <td>Florida Atlantic</td>\n      <td>H</td>\n      <td>195</td>\n      <td>72</td>\n      <td>1.135</td>\n      <td>64</td>\n      <td>25</td>\n      <td>...</td>\n      <td>12</td>\n      <td>0</td>\n      <td>35</td>\n      <td>8</td>\n      <td>3</td>\n      <td>2</td>\n      <td>8</td>\n      <td>17</td>\n      <td>0</td>\n      <td>ca8a0f1b-573e-4cd9-8c35-236ca2fb5bdf</td>\n    </tr>\n    <tr>\n      <th>171967</th>\n      <td>Florida Atlantic</td>\n      <td>L, 71-72</td>\n      <td>2023-04-01</td>\n      <td>San Diego State</td>\n      <td>V</td>\n      <td>196</td>\n      <td>71</td>\n      <td>1.110</td>\n      <td>64</td>\n      <td>23</td>\n      <td>...</td>\n      <td>7</td>\n      <td>0</td>\n      <td>31</td>\n      <td>6</td>\n      <td>6</td>\n      <td>2</td>\n      <td>9</td>\n      <td>17</td>\n      <td>0</td>\n      <td>fb606a53-2805-47a1-9a67-495d1c6fb9f6</td>\n    </tr>\n    <tr>\n      <th>171968</th>\n      <td>Miami (Fla.)</td>\n      <td>L, 59-72</td>\n      <td>2023-04-01</td>\n      <td>Connecticut</td>\n      <td>V</td>\n      <td>195</td>\n      <td>59</td>\n      <td>0.912</td>\n      <td>64</td>\n      <td>20</td>\n      <td>...</td>\n      <td>12</td>\n      <td>0</td>\n      <td>29</td>\n      <td>10</td>\n      <td>8</td>\n      <td>1</td>\n      <td>9</td>\n      <td>12</td>\n      <td>0</td>\n      <td>92e25ac8-5047-4c0d-97dd-31b930e236e7</td>\n    </tr>\n    <tr>\n      <th>171969</th>\n      <td>San Diego State</td>\n      <td>L, 59-76</td>\n      <td>2023-04-03</td>\n      <td>Connecticut</td>\n      <td>V</td>\n      <td>193</td>\n      <td>59</td>\n      <td>0.861</td>\n      <td>68</td>\n      <td>19</td>\n      <td>...</td>\n      <td>12</td>\n      <td>0</td>\n      <td>33</td>\n      <td>7</td>\n      <td>7</td>\n      <td>2</td>\n      <td>12</td>\n      <td>20</td>\n      <td>0</td>\n      <td>5a711232-0bde-4dc6-a4ea-cc7b3131cbb4</td>\n    </tr>\n    <tr>\n      <th>171970</th>\n      <td>Connecticut</td>\n      <td>W, 76-59</td>\n      <td>2023-04-03</td>\n      <td>San Diego State</td>\n      <td>H</td>\n      <td>192</td>\n      <td>76</td>\n      <td>1.104</td>\n      <td>68</td>\n      <td>23</td>\n      <td>...</td>\n      <td>10</td>\n      <td>0</td>\n      <td>40</td>\n      <td>13</td>\n      <td>8</td>\n      <td>6</td>\n      <td>13</td>\n      <td>15</td>\n      <td>0</td>\n      <td>ebbe360c-7cbb-4259-b84e-8db0af20deab</td>\n    </tr>\n  </tbody>\n</table>\n<p>171971 rows × 25 columns</p>\n</div>"
     },
     "execution_count": 540,
     "metadata": {},
     "output_type": "execute_result"
    }
   ],
   "source": [
    "statline_df['Opp'] = statline_df.apply(lambda row: abbrev_to_name.get(row['Opp'], row['Opp']), axis=1)\n",
    "statline_df"
   ],
   "metadata": {
    "collapsed": false,
    "ExecuteTime": {
     "end_time": "2023-12-29T21:44:59.639632300Z",
     "start_time": "2023-12-29T21:44:58.582481400Z"
    }
   },
   "id": "91b83fb35f7e2e46",
   "execution_count": 540
  },
  {
   "cell_type": "code",
   "outputs": [
    {
     "data": {
      "text/plain": "                    Team        Res       Date               Opp Loc  MIN  \\\n0               Richmond   W, 44-42 2007-11-05             Maine   N  200   \n1                  Maine   L, 42-44 2007-11-05          Richmond   N  200   \n2       Tennessee-Martin  L, 71-102 2007-11-05           Memphis   V  200   \n3                Memphis  W, 102-71 2007-11-05  Tennessee-Martin   H  200   \n4            Alabama A&M   L, 55-69 2007-11-06      Gardner-Webb   N  200   \n...                  ...        ...        ...               ...  ..  ...   \n171966   San Diego State   W, 72-71 2023-04-01               FAU   H  195   \n171967               FAU   L, 71-72 2023-04-01   San Diego State   V  196   \n171968      Miami (Fla.)   L, 59-72 2023-04-01       Connecticut   V  195   \n171969   San Diego State   L, 59-76 2023-04-03       Connecticut   V  193   \n171970       Connecticut   W, 76-59 2023-04-03   San Diego State   H  192   \n\n        PTS  O-PPP  Pace  FGM  ...  OREB  TmRb  REB  AST  STL  BLK  TO   F  \\\n0        44  0.663    65   17  ...     6     0   18    9   13    6  18  10   \n1        42  0.652    65   19  ...    11     0   39    9    9    1  28  12   \n2        71  0.785    90   24  ...    15     0   41   16    5    2  18  22   \n3       102  1.149    90   37  ...    18     0   52   23    9   11  10  21   \n4        55  0.702    77   17  ...    10     0   30    9    4    8  27  24   \n...     ...    ...   ...  ...  ...   ...   ...  ...  ...  ...  ...  ..  ..   \n171966   72  1.135    64   25  ...    12     0   35    8    3    2   8  17   \n171967   71  1.110    64   23  ...     7     0   31    6    6    2   9  17   \n171968   59  0.912    64   20  ...    12     0   29   10    8    1   9  12   \n171969   59  0.861    68   19  ...    12     0   33    7    7    2  12  20   \n171970   76  1.104    68   23  ...    10     0   40   13    8    6  13  15   \n\n        Tm Pts                              Obs UUID  \n0            0  a81c9171-eaf4-4ecc-b2bf-cae87dd82b0d  \n1            0  e93a5edf-b807-49dc-ad18-8a1a0dd87e4f  \n2            0  e1141379-f50a-4202-bd46-86c5039cdf57  \n3            0  f07a9cef-54f9-4ffe-bd6b-7456a599b59b  \n4            0  480f90ae-2f81-4997-aebf-7043d5e3899e  \n...        ...                                   ...  \n171966       0  ca8a0f1b-573e-4cd9-8c35-236ca2fb5bdf  \n171967       0  fb606a53-2805-47a1-9a67-495d1c6fb9f6  \n171968       0  92e25ac8-5047-4c0d-97dd-31b930e236e7  \n171969       0  5a711232-0bde-4dc6-a4ea-cc7b3131cbb4  \n171970       0  ebbe360c-7cbb-4259-b84e-8db0af20deab  \n\n[171971 rows x 25 columns]",
      "text/html": "<div>\n<style scoped>\n    .dataframe tbody tr th:only-of-type {\n        vertical-align: middle;\n    }\n\n    .dataframe tbody tr th {\n        vertical-align: top;\n    }\n\n    .dataframe thead th {\n        text-align: right;\n    }\n</style>\n<table border=\"1\" class=\"dataframe\">\n  <thead>\n    <tr style=\"text-align: right;\">\n      <th></th>\n      <th>Team</th>\n      <th>Res</th>\n      <th>Date</th>\n      <th>Opp</th>\n      <th>Loc</th>\n      <th>MIN</th>\n      <th>PTS</th>\n      <th>O-PPP</th>\n      <th>Pace</th>\n      <th>FGM</th>\n      <th>...</th>\n      <th>OREB</th>\n      <th>TmRb</th>\n      <th>REB</th>\n      <th>AST</th>\n      <th>STL</th>\n      <th>BLK</th>\n      <th>TO</th>\n      <th>F</th>\n      <th>Tm Pts</th>\n      <th>Obs UUID</th>\n    </tr>\n  </thead>\n  <tbody>\n    <tr>\n      <th>0</th>\n      <td>Richmond</td>\n      <td>W, 44-42</td>\n      <td>2007-11-05</td>\n      <td>Maine</td>\n      <td>N</td>\n      <td>200</td>\n      <td>44</td>\n      <td>0.663</td>\n      <td>65</td>\n      <td>17</td>\n      <td>...</td>\n      <td>6</td>\n      <td>0</td>\n      <td>18</td>\n      <td>9</td>\n      <td>13</td>\n      <td>6</td>\n      <td>18</td>\n      <td>10</td>\n      <td>0</td>\n      <td>a81c9171-eaf4-4ecc-b2bf-cae87dd82b0d</td>\n    </tr>\n    <tr>\n      <th>1</th>\n      <td>Maine</td>\n      <td>L, 42-44</td>\n      <td>2007-11-05</td>\n      <td>Richmond</td>\n      <td>N</td>\n      <td>200</td>\n      <td>42</td>\n      <td>0.652</td>\n      <td>65</td>\n      <td>19</td>\n      <td>...</td>\n      <td>11</td>\n      <td>0</td>\n      <td>39</td>\n      <td>9</td>\n      <td>9</td>\n      <td>1</td>\n      <td>28</td>\n      <td>12</td>\n      <td>0</td>\n      <td>e93a5edf-b807-49dc-ad18-8a1a0dd87e4f</td>\n    </tr>\n    <tr>\n      <th>2</th>\n      <td>Tennessee-Martin</td>\n      <td>L, 71-102</td>\n      <td>2007-11-05</td>\n      <td>Memphis</td>\n      <td>V</td>\n      <td>200</td>\n      <td>71</td>\n      <td>0.785</td>\n      <td>90</td>\n      <td>24</td>\n      <td>...</td>\n      <td>15</td>\n      <td>0</td>\n      <td>41</td>\n      <td>16</td>\n      <td>5</td>\n      <td>2</td>\n      <td>18</td>\n      <td>22</td>\n      <td>0</td>\n      <td>e1141379-f50a-4202-bd46-86c5039cdf57</td>\n    </tr>\n    <tr>\n      <th>3</th>\n      <td>Memphis</td>\n      <td>W, 102-71</td>\n      <td>2007-11-05</td>\n      <td>Tennessee-Martin</td>\n      <td>H</td>\n      <td>200</td>\n      <td>102</td>\n      <td>1.149</td>\n      <td>90</td>\n      <td>37</td>\n      <td>...</td>\n      <td>18</td>\n      <td>0</td>\n      <td>52</td>\n      <td>23</td>\n      <td>9</td>\n      <td>11</td>\n      <td>10</td>\n      <td>21</td>\n      <td>0</td>\n      <td>f07a9cef-54f9-4ffe-bd6b-7456a599b59b</td>\n    </tr>\n    <tr>\n      <th>4</th>\n      <td>Alabama A&amp;M</td>\n      <td>L, 55-69</td>\n      <td>2007-11-06</td>\n      <td>Gardner-Webb</td>\n      <td>N</td>\n      <td>200</td>\n      <td>55</td>\n      <td>0.702</td>\n      <td>77</td>\n      <td>17</td>\n      <td>...</td>\n      <td>10</td>\n      <td>0</td>\n      <td>30</td>\n      <td>9</td>\n      <td>4</td>\n      <td>8</td>\n      <td>27</td>\n      <td>24</td>\n      <td>0</td>\n      <td>480f90ae-2f81-4997-aebf-7043d5e3899e</td>\n    </tr>\n    <tr>\n      <th>...</th>\n      <td>...</td>\n      <td>...</td>\n      <td>...</td>\n      <td>...</td>\n      <td>...</td>\n      <td>...</td>\n      <td>...</td>\n      <td>...</td>\n      <td>...</td>\n      <td>...</td>\n      <td>...</td>\n      <td>...</td>\n      <td>...</td>\n      <td>...</td>\n      <td>...</td>\n      <td>...</td>\n      <td>...</td>\n      <td>...</td>\n      <td>...</td>\n      <td>...</td>\n      <td>...</td>\n    </tr>\n    <tr>\n      <th>171966</th>\n      <td>San Diego State</td>\n      <td>W, 72-71</td>\n      <td>2023-04-01</td>\n      <td>FAU</td>\n      <td>H</td>\n      <td>195</td>\n      <td>72</td>\n      <td>1.135</td>\n      <td>64</td>\n      <td>25</td>\n      <td>...</td>\n      <td>12</td>\n      <td>0</td>\n      <td>35</td>\n      <td>8</td>\n      <td>3</td>\n      <td>2</td>\n      <td>8</td>\n      <td>17</td>\n      <td>0</td>\n      <td>ca8a0f1b-573e-4cd9-8c35-236ca2fb5bdf</td>\n    </tr>\n    <tr>\n      <th>171967</th>\n      <td>FAU</td>\n      <td>L, 71-72</td>\n      <td>2023-04-01</td>\n      <td>San Diego State</td>\n      <td>V</td>\n      <td>196</td>\n      <td>71</td>\n      <td>1.110</td>\n      <td>64</td>\n      <td>23</td>\n      <td>...</td>\n      <td>7</td>\n      <td>0</td>\n      <td>31</td>\n      <td>6</td>\n      <td>6</td>\n      <td>2</td>\n      <td>9</td>\n      <td>17</td>\n      <td>0</td>\n      <td>fb606a53-2805-47a1-9a67-495d1c6fb9f6</td>\n    </tr>\n    <tr>\n      <th>171968</th>\n      <td>Miami (Fla.)</td>\n      <td>L, 59-72</td>\n      <td>2023-04-01</td>\n      <td>Connecticut</td>\n      <td>V</td>\n      <td>195</td>\n      <td>59</td>\n      <td>0.912</td>\n      <td>64</td>\n      <td>20</td>\n      <td>...</td>\n      <td>12</td>\n      <td>0</td>\n      <td>29</td>\n      <td>10</td>\n      <td>8</td>\n      <td>1</td>\n      <td>9</td>\n      <td>12</td>\n      <td>0</td>\n      <td>92e25ac8-5047-4c0d-97dd-31b930e236e7</td>\n    </tr>\n    <tr>\n      <th>171969</th>\n      <td>San Diego State</td>\n      <td>L, 59-76</td>\n      <td>2023-04-03</td>\n      <td>Connecticut</td>\n      <td>V</td>\n      <td>193</td>\n      <td>59</td>\n      <td>0.861</td>\n      <td>68</td>\n      <td>19</td>\n      <td>...</td>\n      <td>12</td>\n      <td>0</td>\n      <td>33</td>\n      <td>7</td>\n      <td>7</td>\n      <td>2</td>\n      <td>12</td>\n      <td>20</td>\n      <td>0</td>\n      <td>5a711232-0bde-4dc6-a4ea-cc7b3131cbb4</td>\n    </tr>\n    <tr>\n      <th>171970</th>\n      <td>Connecticut</td>\n      <td>W, 76-59</td>\n      <td>2023-04-03</td>\n      <td>San Diego State</td>\n      <td>H</td>\n      <td>192</td>\n      <td>76</td>\n      <td>1.104</td>\n      <td>68</td>\n      <td>23</td>\n      <td>...</td>\n      <td>10</td>\n      <td>0</td>\n      <td>40</td>\n      <td>13</td>\n      <td>8</td>\n      <td>6</td>\n      <td>13</td>\n      <td>15</td>\n      <td>0</td>\n      <td>ebbe360c-7cbb-4259-b84e-8db0af20deab</td>\n    </tr>\n  </tbody>\n</table>\n<p>171971 rows × 25 columns</p>\n</div>"
     },
     "execution_count": 541,
     "metadata": {},
     "output_type": "execute_result"
    }
   ],
   "source": [
    "shortened_names = {'Virginia Commonwealth': 'VCU',\n",
    "                   'Mount St. Mary`s': 'Mount Saint Mary`s',\n",
    "                   'Florida Atlantic': 'FAU',\n",
    "                   'Maryland-Baltimore County': 'UMBC',\n",
    "                   'Sam Houston': 'Sam Houston State',\n",
    "                   'Texas Christian': 'TCU'}\n",
    "\n",
    "statline_df['Team'] = statline_df.apply(lambda row: shortened_names.get(row['Team'], row['Team']), axis=1)\n",
    "statline_df['Opp'] = statline_df.apply(lambda row: shortened_names.get(row['Opp'], row['Opp']), axis=1)\n",
    "\n",
    "statline_df"
   ],
   "metadata": {
    "collapsed": false,
    "ExecuteTime": {
     "end_time": "2023-12-29T21:45:01.695036800Z",
     "start_time": "2023-12-29T21:44:59.641133900Z"
    }
   },
   "id": "e414cbcc9eb4989",
   "execution_count": 541
  },
  {
   "cell_type": "markdown",
   "source": [
    "### Remove \"ND1\" Opponents and Useless Columns"
   ],
   "metadata": {
    "collapsed": false
   },
   "id": "d9363230beab8840"
  },
  {
   "cell_type": "markdown",
   "source": [
    "A large percentage of opponents are listed as \"ND1\" the assumption is that this is short for Non-D1 opponent since the frequency is too high for any team. Since there is no mapping or data for ND1, these are removed"
   ],
   "metadata": {
    "collapsed": false
   },
   "id": "728d4dbff199ae14"
  },
  {
   "cell_type": "code",
   "outputs": [
    {
     "data": {
      "text/plain": "                    Team        Res       Date               Opp Loc  MIN  \\\n0               Richmond   W, 44-42 2007-11-05             Maine   N  200   \n1                  Maine   L, 42-44 2007-11-05          Richmond   N  200   \n2       Tennessee-Martin  L, 71-102 2007-11-05           Memphis   V  200   \n3                Memphis  W, 102-71 2007-11-05  Tennessee-Martin   H  200   \n4            Alabama A&M   L, 55-69 2007-11-06      Gardner-Webb   N  200   \n...                  ...        ...        ...               ...  ..  ...   \n171966   San Diego State   W, 72-71 2023-04-01               FAU   H  195   \n171967               FAU   L, 71-72 2023-04-01   San Diego State   V  196   \n171968      Miami (Fla.)   L, 59-72 2023-04-01       Connecticut   V  195   \n171969   San Diego State   L, 59-76 2023-04-03       Connecticut   V  193   \n171970       Connecticut   W, 76-59 2023-04-03   San Diego State   H  192   \n\n        PTS  O-PPP  Pace  FGM  ...  FTA  OREB  TmRb  REB  AST  STL  BLK  TO  \\\n0        44  0.663    65   17  ...    7     6     0   18    9   13    6  18   \n1        42  0.652    65   19  ...    5    11     0   39    9    9    1  28   \n2        71  0.785    90   24  ...   22    15     0   41   16    5    2  18   \n3       102  1.149    90   37  ...   29    18     0   52   23    9   11  10   \n4        55  0.702    77   17  ...   26    10     0   30    9    4    8  27   \n...     ...    ...   ...  ...  ...  ...   ...   ...  ...  ...  ...  ...  ..   \n171966   72  1.135    64   25  ...   22    12     0   35    8    3    2   8   \n171967   71  1.110    64   23  ...   21     7     0   31    6    6    2   9   \n171968   59  0.912    64   20  ...   12    12     0   29   10    8    1   9   \n171969   59  0.861    68   19  ...   20    12     0   33    7    7    2  12   \n171970   76  1.104    68   23  ...   27    10     0   40   13    8    6  13   \n\n         F                              Obs UUID  \n0       10  a81c9171-eaf4-4ecc-b2bf-cae87dd82b0d  \n1       12  e93a5edf-b807-49dc-ad18-8a1a0dd87e4f  \n2       22  e1141379-f50a-4202-bd46-86c5039cdf57  \n3       21  f07a9cef-54f9-4ffe-bd6b-7456a599b59b  \n4       24  480f90ae-2f81-4997-aebf-7043d5e3899e  \n...     ..                                   ...  \n171966  17  ca8a0f1b-573e-4cd9-8c35-236ca2fb5bdf  \n171967  17  fb606a53-2805-47a1-9a67-495d1c6fb9f6  \n171968  12  92e25ac8-5047-4c0d-97dd-31b930e236e7  \n171969  20  5a711232-0bde-4dc6-a4ea-cc7b3131cbb4  \n171970  15  ebbe360c-7cbb-4259-b84e-8db0af20deab  \n\n[170419 rows x 24 columns]",
      "text/html": "<div>\n<style scoped>\n    .dataframe tbody tr th:only-of-type {\n        vertical-align: middle;\n    }\n\n    .dataframe tbody tr th {\n        vertical-align: top;\n    }\n\n    .dataframe thead th {\n        text-align: right;\n    }\n</style>\n<table border=\"1\" class=\"dataframe\">\n  <thead>\n    <tr style=\"text-align: right;\">\n      <th></th>\n      <th>Team</th>\n      <th>Res</th>\n      <th>Date</th>\n      <th>Opp</th>\n      <th>Loc</th>\n      <th>MIN</th>\n      <th>PTS</th>\n      <th>O-PPP</th>\n      <th>Pace</th>\n      <th>FGM</th>\n      <th>...</th>\n      <th>FTA</th>\n      <th>OREB</th>\n      <th>TmRb</th>\n      <th>REB</th>\n      <th>AST</th>\n      <th>STL</th>\n      <th>BLK</th>\n      <th>TO</th>\n      <th>F</th>\n      <th>Obs UUID</th>\n    </tr>\n  </thead>\n  <tbody>\n    <tr>\n      <th>0</th>\n      <td>Richmond</td>\n      <td>W, 44-42</td>\n      <td>2007-11-05</td>\n      <td>Maine</td>\n      <td>N</td>\n      <td>200</td>\n      <td>44</td>\n      <td>0.663</td>\n      <td>65</td>\n      <td>17</td>\n      <td>...</td>\n      <td>7</td>\n      <td>6</td>\n      <td>0</td>\n      <td>18</td>\n      <td>9</td>\n      <td>13</td>\n      <td>6</td>\n      <td>18</td>\n      <td>10</td>\n      <td>a81c9171-eaf4-4ecc-b2bf-cae87dd82b0d</td>\n    </tr>\n    <tr>\n      <th>1</th>\n      <td>Maine</td>\n      <td>L, 42-44</td>\n      <td>2007-11-05</td>\n      <td>Richmond</td>\n      <td>N</td>\n      <td>200</td>\n      <td>42</td>\n      <td>0.652</td>\n      <td>65</td>\n      <td>19</td>\n      <td>...</td>\n      <td>5</td>\n      <td>11</td>\n      <td>0</td>\n      <td>39</td>\n      <td>9</td>\n      <td>9</td>\n      <td>1</td>\n      <td>28</td>\n      <td>12</td>\n      <td>e93a5edf-b807-49dc-ad18-8a1a0dd87e4f</td>\n    </tr>\n    <tr>\n      <th>2</th>\n      <td>Tennessee-Martin</td>\n      <td>L, 71-102</td>\n      <td>2007-11-05</td>\n      <td>Memphis</td>\n      <td>V</td>\n      <td>200</td>\n      <td>71</td>\n      <td>0.785</td>\n      <td>90</td>\n      <td>24</td>\n      <td>...</td>\n      <td>22</td>\n      <td>15</td>\n      <td>0</td>\n      <td>41</td>\n      <td>16</td>\n      <td>5</td>\n      <td>2</td>\n      <td>18</td>\n      <td>22</td>\n      <td>e1141379-f50a-4202-bd46-86c5039cdf57</td>\n    </tr>\n    <tr>\n      <th>3</th>\n      <td>Memphis</td>\n      <td>W, 102-71</td>\n      <td>2007-11-05</td>\n      <td>Tennessee-Martin</td>\n      <td>H</td>\n      <td>200</td>\n      <td>102</td>\n      <td>1.149</td>\n      <td>90</td>\n      <td>37</td>\n      <td>...</td>\n      <td>29</td>\n      <td>18</td>\n      <td>0</td>\n      <td>52</td>\n      <td>23</td>\n      <td>9</td>\n      <td>11</td>\n      <td>10</td>\n      <td>21</td>\n      <td>f07a9cef-54f9-4ffe-bd6b-7456a599b59b</td>\n    </tr>\n    <tr>\n      <th>4</th>\n      <td>Alabama A&amp;M</td>\n      <td>L, 55-69</td>\n      <td>2007-11-06</td>\n      <td>Gardner-Webb</td>\n      <td>N</td>\n      <td>200</td>\n      <td>55</td>\n      <td>0.702</td>\n      <td>77</td>\n      <td>17</td>\n      <td>...</td>\n      <td>26</td>\n      <td>10</td>\n      <td>0</td>\n      <td>30</td>\n      <td>9</td>\n      <td>4</td>\n      <td>8</td>\n      <td>27</td>\n      <td>24</td>\n      <td>480f90ae-2f81-4997-aebf-7043d5e3899e</td>\n    </tr>\n    <tr>\n      <th>...</th>\n      <td>...</td>\n      <td>...</td>\n      <td>...</td>\n      <td>...</td>\n      <td>...</td>\n      <td>...</td>\n      <td>...</td>\n      <td>...</td>\n      <td>...</td>\n      <td>...</td>\n      <td>...</td>\n      <td>...</td>\n      <td>...</td>\n      <td>...</td>\n      <td>...</td>\n      <td>...</td>\n      <td>...</td>\n      <td>...</td>\n      <td>...</td>\n      <td>...</td>\n      <td>...</td>\n    </tr>\n    <tr>\n      <th>171966</th>\n      <td>San Diego State</td>\n      <td>W, 72-71</td>\n      <td>2023-04-01</td>\n      <td>FAU</td>\n      <td>H</td>\n      <td>195</td>\n      <td>72</td>\n      <td>1.135</td>\n      <td>64</td>\n      <td>25</td>\n      <td>...</td>\n      <td>22</td>\n      <td>12</td>\n      <td>0</td>\n      <td>35</td>\n      <td>8</td>\n      <td>3</td>\n      <td>2</td>\n      <td>8</td>\n      <td>17</td>\n      <td>ca8a0f1b-573e-4cd9-8c35-236ca2fb5bdf</td>\n    </tr>\n    <tr>\n      <th>171967</th>\n      <td>FAU</td>\n      <td>L, 71-72</td>\n      <td>2023-04-01</td>\n      <td>San Diego State</td>\n      <td>V</td>\n      <td>196</td>\n      <td>71</td>\n      <td>1.110</td>\n      <td>64</td>\n      <td>23</td>\n      <td>...</td>\n      <td>21</td>\n      <td>7</td>\n      <td>0</td>\n      <td>31</td>\n      <td>6</td>\n      <td>6</td>\n      <td>2</td>\n      <td>9</td>\n      <td>17</td>\n      <td>fb606a53-2805-47a1-9a67-495d1c6fb9f6</td>\n    </tr>\n    <tr>\n      <th>171968</th>\n      <td>Miami (Fla.)</td>\n      <td>L, 59-72</td>\n      <td>2023-04-01</td>\n      <td>Connecticut</td>\n      <td>V</td>\n      <td>195</td>\n      <td>59</td>\n      <td>0.912</td>\n      <td>64</td>\n      <td>20</td>\n      <td>...</td>\n      <td>12</td>\n      <td>12</td>\n      <td>0</td>\n      <td>29</td>\n      <td>10</td>\n      <td>8</td>\n      <td>1</td>\n      <td>9</td>\n      <td>12</td>\n      <td>92e25ac8-5047-4c0d-97dd-31b930e236e7</td>\n    </tr>\n    <tr>\n      <th>171969</th>\n      <td>San Diego State</td>\n      <td>L, 59-76</td>\n      <td>2023-04-03</td>\n      <td>Connecticut</td>\n      <td>V</td>\n      <td>193</td>\n      <td>59</td>\n      <td>0.861</td>\n      <td>68</td>\n      <td>19</td>\n      <td>...</td>\n      <td>20</td>\n      <td>12</td>\n      <td>0</td>\n      <td>33</td>\n      <td>7</td>\n      <td>7</td>\n      <td>2</td>\n      <td>12</td>\n      <td>20</td>\n      <td>5a711232-0bde-4dc6-a4ea-cc7b3131cbb4</td>\n    </tr>\n    <tr>\n      <th>171970</th>\n      <td>Connecticut</td>\n      <td>W, 76-59</td>\n      <td>2023-04-03</td>\n      <td>San Diego State</td>\n      <td>H</td>\n      <td>192</td>\n      <td>76</td>\n      <td>1.104</td>\n      <td>68</td>\n      <td>23</td>\n      <td>...</td>\n      <td>27</td>\n      <td>10</td>\n      <td>0</td>\n      <td>40</td>\n      <td>13</td>\n      <td>8</td>\n      <td>6</td>\n      <td>13</td>\n      <td>15</td>\n      <td>ebbe360c-7cbb-4259-b84e-8db0af20deab</td>\n    </tr>\n  </tbody>\n</table>\n<p>170419 rows × 24 columns</p>\n</div>"
     },
     "execution_count": 542,
     "metadata": {},
     "output_type": "execute_result"
    }
   ],
   "source": [
    "statline_df = statline_df.loc[statline_df['Opp'] != 'ND1']\n",
    "statline_df = statline_df.drop(columns=['Tm Pts'])\n",
    "statline_df"
   ],
   "metadata": {
    "collapsed": false,
    "ExecuteTime": {
     "end_time": "2023-12-29T21:45:01.784676700Z",
     "start_time": "2023-12-29T21:45:01.691036300Z"
    }
   },
   "id": "b557359f5a5b6b75",
   "execution_count": 542
  },
  {
   "cell_type": "markdown",
   "source": [
    "### Parse Results, Date"
   ],
   "metadata": {
    "collapsed": false
   },
   "id": "ab225f127566cd2f"
  },
  {
   "cell_type": "code",
   "outputs": [
    {
     "data": {
      "text/plain": "                    Team        Res       Date               Opp Loc  MIN  \\\n0               Richmond   W, 44-42 2007-11-05             Maine   N  200   \n1                  Maine   L, 42-44 2007-11-05          Richmond   N  200   \n2       Tennessee-Martin  L, 71-102 2007-11-05           Memphis   V  200   \n3                Memphis  W, 102-71 2007-11-05  Tennessee-Martin   H  200   \n4            Alabama A&M   L, 55-69 2007-11-06      Gardner-Webb   N  200   \n...                  ...        ...        ...               ...  ..  ...   \n171966   San Diego State   W, 72-71 2023-04-01               FAU   H  195   \n171967               FAU   L, 71-72 2023-04-01   San Diego State   V  196   \n171968      Miami (Fla.)   L, 59-72 2023-04-01       Connecticut   V  195   \n171969   San Diego State   L, 59-76 2023-04-03       Connecticut   V  193   \n171970       Connecticut   W, 76-59 2023-04-03   San Diego State   H  192   \n\n        PTS  O-PPP  Pace  FGM  ...                              Obs UUID  \\\n0        44  0.663    65   17  ...  a81c9171-eaf4-4ecc-b2bf-cae87dd82b0d   \n1        42  0.652    65   19  ...  e93a5edf-b807-49dc-ad18-8a1a0dd87e4f   \n2        71  0.785    90   24  ...  e1141379-f50a-4202-bd46-86c5039cdf57   \n3       102  1.149    90   37  ...  f07a9cef-54f9-4ffe-bd6b-7456a599b59b   \n4        55  0.702    77   17  ...  480f90ae-2f81-4997-aebf-7043d5e3899e   \n...     ...    ...   ...  ...  ...                                   ...   \n171966   72  1.135    64   25  ...  ca8a0f1b-573e-4cd9-8c35-236ca2fb5bdf   \n171967   71  1.110    64   23  ...  fb606a53-2805-47a1-9a67-495d1c6fb9f6   \n171968   59  0.912    64   20  ...  92e25ac8-5047-4c0d-97dd-31b930e236e7   \n171969   59  0.861    68   19  ...  5a711232-0bde-4dc6-a4ea-cc7b3131cbb4   \n171970   76  1.104    68   23  ...  ebbe360c-7cbb-4259-b84e-8db0af20deab   \n\n        Victory  Year  Month  Day  Result Points  Result Points Allowed  \\\n0             1  2007     11    5             44                     42   \n1             0  2007     11    5             42                     44   \n2             0  2007     11    5             71                    102   \n3             1  2007     11    5            102                     71   \n4             0  2007     11    6             55                     69   \n...         ...   ...    ...  ...            ...                    ...   \n171966        1  2023      4    1             72                     71   \n171967        0  2023      4    1             71                     72   \n171968        0  2023      4    1             59                     72   \n171969        0  2023      4    3             59                     76   \n171970        1  2023      4    3             76                     59   \n\n        Season  Calculated Possessions  Points Per Possession  \n0         2008                      66               0.666667  \n1         2008                      64               0.656250  \n2         2008                      91               0.780220  \n3         2008                      89               1.146067  \n4         2008                      79               0.696203  \n...        ...                     ...                    ...  \n171966    2023                      64               1.125000  \n171967    2023                      64               1.109375  \n171968    2023                      65               0.907692  \n171969    2023                      69               0.855072  \n171970    2023                      69               1.101449  \n\n[170419 rows x 33 columns]",
      "text/html": "<div>\n<style scoped>\n    .dataframe tbody tr th:only-of-type {\n        vertical-align: middle;\n    }\n\n    .dataframe tbody tr th {\n        vertical-align: top;\n    }\n\n    .dataframe thead th {\n        text-align: right;\n    }\n</style>\n<table border=\"1\" class=\"dataframe\">\n  <thead>\n    <tr style=\"text-align: right;\">\n      <th></th>\n      <th>Team</th>\n      <th>Res</th>\n      <th>Date</th>\n      <th>Opp</th>\n      <th>Loc</th>\n      <th>MIN</th>\n      <th>PTS</th>\n      <th>O-PPP</th>\n      <th>Pace</th>\n      <th>FGM</th>\n      <th>...</th>\n      <th>Obs UUID</th>\n      <th>Victory</th>\n      <th>Year</th>\n      <th>Month</th>\n      <th>Day</th>\n      <th>Result Points</th>\n      <th>Result Points Allowed</th>\n      <th>Season</th>\n      <th>Calculated Possessions</th>\n      <th>Points Per Possession</th>\n    </tr>\n  </thead>\n  <tbody>\n    <tr>\n      <th>0</th>\n      <td>Richmond</td>\n      <td>W, 44-42</td>\n      <td>2007-11-05</td>\n      <td>Maine</td>\n      <td>N</td>\n      <td>200</td>\n      <td>44</td>\n      <td>0.663</td>\n      <td>65</td>\n      <td>17</td>\n      <td>...</td>\n      <td>a81c9171-eaf4-4ecc-b2bf-cae87dd82b0d</td>\n      <td>1</td>\n      <td>2007</td>\n      <td>11</td>\n      <td>5</td>\n      <td>44</td>\n      <td>42</td>\n      <td>2008</td>\n      <td>66</td>\n      <td>0.666667</td>\n    </tr>\n    <tr>\n      <th>1</th>\n      <td>Maine</td>\n      <td>L, 42-44</td>\n      <td>2007-11-05</td>\n      <td>Richmond</td>\n      <td>N</td>\n      <td>200</td>\n      <td>42</td>\n      <td>0.652</td>\n      <td>65</td>\n      <td>19</td>\n      <td>...</td>\n      <td>e93a5edf-b807-49dc-ad18-8a1a0dd87e4f</td>\n      <td>0</td>\n      <td>2007</td>\n      <td>11</td>\n      <td>5</td>\n      <td>42</td>\n      <td>44</td>\n      <td>2008</td>\n      <td>64</td>\n      <td>0.656250</td>\n    </tr>\n    <tr>\n      <th>2</th>\n      <td>Tennessee-Martin</td>\n      <td>L, 71-102</td>\n      <td>2007-11-05</td>\n      <td>Memphis</td>\n      <td>V</td>\n      <td>200</td>\n      <td>71</td>\n      <td>0.785</td>\n      <td>90</td>\n      <td>24</td>\n      <td>...</td>\n      <td>e1141379-f50a-4202-bd46-86c5039cdf57</td>\n      <td>0</td>\n      <td>2007</td>\n      <td>11</td>\n      <td>5</td>\n      <td>71</td>\n      <td>102</td>\n      <td>2008</td>\n      <td>91</td>\n      <td>0.780220</td>\n    </tr>\n    <tr>\n      <th>3</th>\n      <td>Memphis</td>\n      <td>W, 102-71</td>\n      <td>2007-11-05</td>\n      <td>Tennessee-Martin</td>\n      <td>H</td>\n      <td>200</td>\n      <td>102</td>\n      <td>1.149</td>\n      <td>90</td>\n      <td>37</td>\n      <td>...</td>\n      <td>f07a9cef-54f9-4ffe-bd6b-7456a599b59b</td>\n      <td>1</td>\n      <td>2007</td>\n      <td>11</td>\n      <td>5</td>\n      <td>102</td>\n      <td>71</td>\n      <td>2008</td>\n      <td>89</td>\n      <td>1.146067</td>\n    </tr>\n    <tr>\n      <th>4</th>\n      <td>Alabama A&amp;M</td>\n      <td>L, 55-69</td>\n      <td>2007-11-06</td>\n      <td>Gardner-Webb</td>\n      <td>N</td>\n      <td>200</td>\n      <td>55</td>\n      <td>0.702</td>\n      <td>77</td>\n      <td>17</td>\n      <td>...</td>\n      <td>480f90ae-2f81-4997-aebf-7043d5e3899e</td>\n      <td>0</td>\n      <td>2007</td>\n      <td>11</td>\n      <td>6</td>\n      <td>55</td>\n      <td>69</td>\n      <td>2008</td>\n      <td>79</td>\n      <td>0.696203</td>\n    </tr>\n    <tr>\n      <th>...</th>\n      <td>...</td>\n      <td>...</td>\n      <td>...</td>\n      <td>...</td>\n      <td>...</td>\n      <td>...</td>\n      <td>...</td>\n      <td>...</td>\n      <td>...</td>\n      <td>...</td>\n      <td>...</td>\n      <td>...</td>\n      <td>...</td>\n      <td>...</td>\n      <td>...</td>\n      <td>...</td>\n      <td>...</td>\n      <td>...</td>\n      <td>...</td>\n      <td>...</td>\n      <td>...</td>\n    </tr>\n    <tr>\n      <th>171966</th>\n      <td>San Diego State</td>\n      <td>W, 72-71</td>\n      <td>2023-04-01</td>\n      <td>FAU</td>\n      <td>H</td>\n      <td>195</td>\n      <td>72</td>\n      <td>1.135</td>\n      <td>64</td>\n      <td>25</td>\n      <td>...</td>\n      <td>ca8a0f1b-573e-4cd9-8c35-236ca2fb5bdf</td>\n      <td>1</td>\n      <td>2023</td>\n      <td>4</td>\n      <td>1</td>\n      <td>72</td>\n      <td>71</td>\n      <td>2023</td>\n      <td>64</td>\n      <td>1.125000</td>\n    </tr>\n    <tr>\n      <th>171967</th>\n      <td>FAU</td>\n      <td>L, 71-72</td>\n      <td>2023-04-01</td>\n      <td>San Diego State</td>\n      <td>V</td>\n      <td>196</td>\n      <td>71</td>\n      <td>1.110</td>\n      <td>64</td>\n      <td>23</td>\n      <td>...</td>\n      <td>fb606a53-2805-47a1-9a67-495d1c6fb9f6</td>\n      <td>0</td>\n      <td>2023</td>\n      <td>4</td>\n      <td>1</td>\n      <td>71</td>\n      <td>72</td>\n      <td>2023</td>\n      <td>64</td>\n      <td>1.109375</td>\n    </tr>\n    <tr>\n      <th>171968</th>\n      <td>Miami (Fla.)</td>\n      <td>L, 59-72</td>\n      <td>2023-04-01</td>\n      <td>Connecticut</td>\n      <td>V</td>\n      <td>195</td>\n      <td>59</td>\n      <td>0.912</td>\n      <td>64</td>\n      <td>20</td>\n      <td>...</td>\n      <td>92e25ac8-5047-4c0d-97dd-31b930e236e7</td>\n      <td>0</td>\n      <td>2023</td>\n      <td>4</td>\n      <td>1</td>\n      <td>59</td>\n      <td>72</td>\n      <td>2023</td>\n      <td>65</td>\n      <td>0.907692</td>\n    </tr>\n    <tr>\n      <th>171969</th>\n      <td>San Diego State</td>\n      <td>L, 59-76</td>\n      <td>2023-04-03</td>\n      <td>Connecticut</td>\n      <td>V</td>\n      <td>193</td>\n      <td>59</td>\n      <td>0.861</td>\n      <td>68</td>\n      <td>19</td>\n      <td>...</td>\n      <td>5a711232-0bde-4dc6-a4ea-cc7b3131cbb4</td>\n      <td>0</td>\n      <td>2023</td>\n      <td>4</td>\n      <td>3</td>\n      <td>59</td>\n      <td>76</td>\n      <td>2023</td>\n      <td>69</td>\n      <td>0.855072</td>\n    </tr>\n    <tr>\n      <th>171970</th>\n      <td>Connecticut</td>\n      <td>W, 76-59</td>\n      <td>2023-04-03</td>\n      <td>San Diego State</td>\n      <td>H</td>\n      <td>192</td>\n      <td>76</td>\n      <td>1.104</td>\n      <td>68</td>\n      <td>23</td>\n      <td>...</td>\n      <td>ebbe360c-7cbb-4259-b84e-8db0af20deab</td>\n      <td>1</td>\n      <td>2023</td>\n      <td>4</td>\n      <td>3</td>\n      <td>76</td>\n      <td>59</td>\n      <td>2023</td>\n      <td>69</td>\n      <td>1.101449</td>\n    </tr>\n  </tbody>\n</table>\n<p>170419 rows × 33 columns</p>\n</div>"
     },
     "execution_count": 543,
     "metadata": {},
     "output_type": "execute_result"
    }
   ],
   "source": [
    "statline_df['Victory'] = statline_df.apply(lambda r: 1 if r['Res'][0] == 'W' else 0, axis=1)\n",
    "statline_df['Year'] = statline_df.apply(lambda r: r['Date'].year, axis=1)\n",
    "statline_df['Month'] = statline_df.apply(lambda r: r['Date'].month, axis=1)\n",
    "statline_df['Day'] = statline_df.apply(lambda r: r['Date'].day, axis=1)\n",
    "statline_df['Result Points'] = statline_df.apply(lambda r: int(r['Res'].split()[1].split('-')[0]), axis=1)\n",
    "statline_df['Result Points Allowed'] = statline_df.apply(lambda r: int(r['Res'].split()[1].split('-')[1]), axis=1)\n",
    "statline_df['Season'] = statline_df.apply(lambda r: r['Year'] if r['Month'] < 6 else r['Year'] + 1, axis=1)\n",
    "statline_df['Calculated Possessions'] = statline_df.apply(lambda r: r['FGA'] - r['OREB'] + r['TO'] + int(r['FTA'] / 2), axis=1)\n",
    "statline_df['Points Per Possession'] = statline_df.apply(lambda r: 0 if r['Calculated Possessions'] == 0 else r['PTS'] / r['Calculated Possessions'], axis=1)\n",
    "statline_df"
   ],
   "metadata": {
    "collapsed": false,
    "ExecuteTime": {
     "end_time": "2023-12-29T21:45:09.673458Z",
     "start_time": "2023-12-29T21:45:01.784676700Z"
    }
   },
   "id": "555eab2f602ac829",
   "execution_count": 543
  },
  {
   "cell_type": "markdown",
   "source": [
    "### Parse Location"
   ],
   "metadata": {
    "collapsed": false
   },
   "id": "9c29ce16668c9ee6"
  },
  {
   "cell_type": "code",
   "outputs": [
    {
     "data": {
      "text/plain": "                    Team        Res       Date               Opp Loc  MIN  \\\n0               Richmond   W, 44-42 2007-11-05             Maine   N  200   \n1                  Maine   L, 42-44 2007-11-05          Richmond   N  200   \n2       Tennessee-Martin  L, 71-102 2007-11-05           Memphis   V  200   \n3                Memphis  W, 102-71 2007-11-05  Tennessee-Martin   H  200   \n4            Alabama A&M   L, 55-69 2007-11-06      Gardner-Webb   N  200   \n...                  ...        ...        ...               ...  ..  ...   \n171966   San Diego State   W, 72-71 2023-04-01               FAU   H  195   \n171967               FAU   L, 71-72 2023-04-01   San Diego State   V  196   \n171968      Miami (Fla.)   L, 59-72 2023-04-01       Connecticut   V  195   \n171969   San Diego State   L, 59-76 2023-04-03       Connecticut   V  193   \n171970       Connecticut   W, 76-59 2023-04-03   San Diego State   H  192   \n\n        PTS  O-PPP  Pace  FGM  ...  Victory  Year  Month  Day  Result Points  \\\n0        44  0.663    65   17  ...        1  2007     11    5             44   \n1        42  0.652    65   19  ...        0  2007     11    5             42   \n2        71  0.785    90   24  ...        0  2007     11    5             71   \n3       102  1.149    90   37  ...        1  2007     11    5            102   \n4        55  0.702    77   17  ...        0  2007     11    6             55   \n...     ...    ...   ...  ...  ...      ...   ...    ...  ...            ...   \n171966   72  1.135    64   25  ...        1  2023      4    1             72   \n171967   71  1.110    64   23  ...        0  2023      4    1             71   \n171968   59  0.912    64   20  ...        0  2023      4    1             59   \n171969   59  0.861    68   19  ...        0  2023      4    3             59   \n171970   76  1.104    68   23  ...        1  2023      4    3             76   \n\n        Result Points Allowed  Season  Calculated Possessions  \\\n0                          42    2008                      66   \n1                          44    2008                      64   \n2                         102    2008                      91   \n3                          71    2008                      89   \n4                          69    2008                      79   \n...                       ...     ...                     ...   \n171966                     71    2023                      64   \n171967                     72    2023                      64   \n171968                     72    2023                      65   \n171969                     76    2023                      69   \n171970                     59    2023                      69   \n\n        Points Per Possession  Location  \n0                    0.666667   Neutral  \n1                    0.656250   Neutral  \n2                    0.780220      Away  \n3                    1.146067      Home  \n4                    0.696203   Neutral  \n...                       ...       ...  \n171966               1.125000      Home  \n171967               1.109375      Away  \n171968               0.907692      Away  \n171969               0.855072      Away  \n171970               1.101449      Home  \n\n[170419 rows x 34 columns]",
      "text/html": "<div>\n<style scoped>\n    .dataframe tbody tr th:only-of-type {\n        vertical-align: middle;\n    }\n\n    .dataframe tbody tr th {\n        vertical-align: top;\n    }\n\n    .dataframe thead th {\n        text-align: right;\n    }\n</style>\n<table border=\"1\" class=\"dataframe\">\n  <thead>\n    <tr style=\"text-align: right;\">\n      <th></th>\n      <th>Team</th>\n      <th>Res</th>\n      <th>Date</th>\n      <th>Opp</th>\n      <th>Loc</th>\n      <th>MIN</th>\n      <th>PTS</th>\n      <th>O-PPP</th>\n      <th>Pace</th>\n      <th>FGM</th>\n      <th>...</th>\n      <th>Victory</th>\n      <th>Year</th>\n      <th>Month</th>\n      <th>Day</th>\n      <th>Result Points</th>\n      <th>Result Points Allowed</th>\n      <th>Season</th>\n      <th>Calculated Possessions</th>\n      <th>Points Per Possession</th>\n      <th>Location</th>\n    </tr>\n  </thead>\n  <tbody>\n    <tr>\n      <th>0</th>\n      <td>Richmond</td>\n      <td>W, 44-42</td>\n      <td>2007-11-05</td>\n      <td>Maine</td>\n      <td>N</td>\n      <td>200</td>\n      <td>44</td>\n      <td>0.663</td>\n      <td>65</td>\n      <td>17</td>\n      <td>...</td>\n      <td>1</td>\n      <td>2007</td>\n      <td>11</td>\n      <td>5</td>\n      <td>44</td>\n      <td>42</td>\n      <td>2008</td>\n      <td>66</td>\n      <td>0.666667</td>\n      <td>Neutral</td>\n    </tr>\n    <tr>\n      <th>1</th>\n      <td>Maine</td>\n      <td>L, 42-44</td>\n      <td>2007-11-05</td>\n      <td>Richmond</td>\n      <td>N</td>\n      <td>200</td>\n      <td>42</td>\n      <td>0.652</td>\n      <td>65</td>\n      <td>19</td>\n      <td>...</td>\n      <td>0</td>\n      <td>2007</td>\n      <td>11</td>\n      <td>5</td>\n      <td>42</td>\n      <td>44</td>\n      <td>2008</td>\n      <td>64</td>\n      <td>0.656250</td>\n      <td>Neutral</td>\n    </tr>\n    <tr>\n      <th>2</th>\n      <td>Tennessee-Martin</td>\n      <td>L, 71-102</td>\n      <td>2007-11-05</td>\n      <td>Memphis</td>\n      <td>V</td>\n      <td>200</td>\n      <td>71</td>\n      <td>0.785</td>\n      <td>90</td>\n      <td>24</td>\n      <td>...</td>\n      <td>0</td>\n      <td>2007</td>\n      <td>11</td>\n      <td>5</td>\n      <td>71</td>\n      <td>102</td>\n      <td>2008</td>\n      <td>91</td>\n      <td>0.780220</td>\n      <td>Away</td>\n    </tr>\n    <tr>\n      <th>3</th>\n      <td>Memphis</td>\n      <td>W, 102-71</td>\n      <td>2007-11-05</td>\n      <td>Tennessee-Martin</td>\n      <td>H</td>\n      <td>200</td>\n      <td>102</td>\n      <td>1.149</td>\n      <td>90</td>\n      <td>37</td>\n      <td>...</td>\n      <td>1</td>\n      <td>2007</td>\n      <td>11</td>\n      <td>5</td>\n      <td>102</td>\n      <td>71</td>\n      <td>2008</td>\n      <td>89</td>\n      <td>1.146067</td>\n      <td>Home</td>\n    </tr>\n    <tr>\n      <th>4</th>\n      <td>Alabama A&amp;M</td>\n      <td>L, 55-69</td>\n      <td>2007-11-06</td>\n      <td>Gardner-Webb</td>\n      <td>N</td>\n      <td>200</td>\n      <td>55</td>\n      <td>0.702</td>\n      <td>77</td>\n      <td>17</td>\n      <td>...</td>\n      <td>0</td>\n      <td>2007</td>\n      <td>11</td>\n      <td>6</td>\n      <td>55</td>\n      <td>69</td>\n      <td>2008</td>\n      <td>79</td>\n      <td>0.696203</td>\n      <td>Neutral</td>\n    </tr>\n    <tr>\n      <th>...</th>\n      <td>...</td>\n      <td>...</td>\n      <td>...</td>\n      <td>...</td>\n      <td>...</td>\n      <td>...</td>\n      <td>...</td>\n      <td>...</td>\n      <td>...</td>\n      <td>...</td>\n      <td>...</td>\n      <td>...</td>\n      <td>...</td>\n      <td>...</td>\n      <td>...</td>\n      <td>...</td>\n      <td>...</td>\n      <td>...</td>\n      <td>...</td>\n      <td>...</td>\n      <td>...</td>\n    </tr>\n    <tr>\n      <th>171966</th>\n      <td>San Diego State</td>\n      <td>W, 72-71</td>\n      <td>2023-04-01</td>\n      <td>FAU</td>\n      <td>H</td>\n      <td>195</td>\n      <td>72</td>\n      <td>1.135</td>\n      <td>64</td>\n      <td>25</td>\n      <td>...</td>\n      <td>1</td>\n      <td>2023</td>\n      <td>4</td>\n      <td>1</td>\n      <td>72</td>\n      <td>71</td>\n      <td>2023</td>\n      <td>64</td>\n      <td>1.125000</td>\n      <td>Home</td>\n    </tr>\n    <tr>\n      <th>171967</th>\n      <td>FAU</td>\n      <td>L, 71-72</td>\n      <td>2023-04-01</td>\n      <td>San Diego State</td>\n      <td>V</td>\n      <td>196</td>\n      <td>71</td>\n      <td>1.110</td>\n      <td>64</td>\n      <td>23</td>\n      <td>...</td>\n      <td>0</td>\n      <td>2023</td>\n      <td>4</td>\n      <td>1</td>\n      <td>71</td>\n      <td>72</td>\n      <td>2023</td>\n      <td>64</td>\n      <td>1.109375</td>\n      <td>Away</td>\n    </tr>\n    <tr>\n      <th>171968</th>\n      <td>Miami (Fla.)</td>\n      <td>L, 59-72</td>\n      <td>2023-04-01</td>\n      <td>Connecticut</td>\n      <td>V</td>\n      <td>195</td>\n      <td>59</td>\n      <td>0.912</td>\n      <td>64</td>\n      <td>20</td>\n      <td>...</td>\n      <td>0</td>\n      <td>2023</td>\n      <td>4</td>\n      <td>1</td>\n      <td>59</td>\n      <td>72</td>\n      <td>2023</td>\n      <td>65</td>\n      <td>0.907692</td>\n      <td>Away</td>\n    </tr>\n    <tr>\n      <th>171969</th>\n      <td>San Diego State</td>\n      <td>L, 59-76</td>\n      <td>2023-04-03</td>\n      <td>Connecticut</td>\n      <td>V</td>\n      <td>193</td>\n      <td>59</td>\n      <td>0.861</td>\n      <td>68</td>\n      <td>19</td>\n      <td>...</td>\n      <td>0</td>\n      <td>2023</td>\n      <td>4</td>\n      <td>3</td>\n      <td>59</td>\n      <td>76</td>\n      <td>2023</td>\n      <td>69</td>\n      <td>0.855072</td>\n      <td>Away</td>\n    </tr>\n    <tr>\n      <th>171970</th>\n      <td>Connecticut</td>\n      <td>W, 76-59</td>\n      <td>2023-04-03</td>\n      <td>San Diego State</td>\n      <td>H</td>\n      <td>192</td>\n      <td>76</td>\n      <td>1.104</td>\n      <td>68</td>\n      <td>23</td>\n      <td>...</td>\n      <td>1</td>\n      <td>2023</td>\n      <td>4</td>\n      <td>3</td>\n      <td>76</td>\n      <td>59</td>\n      <td>2023</td>\n      <td>69</td>\n      <td>1.101449</td>\n      <td>Home</td>\n    </tr>\n  </tbody>\n</table>\n<p>170419 rows × 34 columns</p>\n</div>"
     },
     "execution_count": 544,
     "metadata": {},
     "output_type": "execute_result"
    }
   ],
   "source": [
    "statline_df['Location'] = statline_df['Loc'].map({'H': 'Home',\n",
    "                                                  'V': 'Away',\n",
    "                                                  'N': 'Neutral'})\n",
    "statline_df"
   ],
   "metadata": {
    "collapsed": false,
    "ExecuteTime": {
     "end_time": "2023-12-29T21:45:09.733292400Z",
     "start_time": "2023-12-29T21:45:09.671033100Z"
    }
   },
   "id": "583ef48968842738",
   "execution_count": 544
  },
  {
   "cell_type": "markdown",
   "source": [
    "### 2 Point FGs"
   ],
   "metadata": {
    "collapsed": false
   },
   "id": "aebcfeb7e924eb6f"
  },
  {
   "cell_type": "code",
   "outputs": [
    {
     "data": {
      "text/plain": "                    Team        Res       Date               Opp Loc  MIN  \\\n0               Richmond   W, 44-42 2007-11-05             Maine   N  200   \n1                  Maine   L, 42-44 2007-11-05          Richmond   N  200   \n2       Tennessee-Martin  L, 71-102 2007-11-05           Memphis   V  200   \n3                Memphis  W, 102-71 2007-11-05  Tennessee-Martin   H  200   \n4            Alabama A&M   L, 55-69 2007-11-06      Gardner-Webb   N  200   \n...                  ...        ...        ...               ...  ..  ...   \n171966   San Diego State   W, 72-71 2023-04-01               FAU   H  195   \n171967               FAU   L, 71-72 2023-04-01   San Diego State   V  196   \n171968      Miami (Fla.)   L, 59-72 2023-04-01       Connecticut   V  195   \n171969   San Diego State   L, 59-76 2023-04-03       Connecticut   V  193   \n171970       Connecticut   W, 76-59 2023-04-03   San Diego State   H  192   \n\n        PTS  O-PPP  Pace  FGM  ...  Month  Day  Result Points  \\\n0        44  0.663    65   17  ...     11    5             44   \n1        42  0.652    65   19  ...     11    5             42   \n2        71  0.785    90   24  ...     11    5             71   \n3       102  1.149    90   37  ...     11    5            102   \n4        55  0.702    77   17  ...     11    6             55   \n...     ...    ...   ...  ...  ...    ...  ...            ...   \n171966   72  1.135    64   25  ...      4    1             72   \n171967   71  1.110    64   23  ...      4    1             71   \n171968   59  0.912    64   20  ...      4    1             59   \n171969   59  0.861    68   19  ...      4    3             59   \n171970   76  1.104    68   23  ...      4    3             76   \n\n        Result Points Allowed  Season  Calculated Possessions  \\\n0                          42    2008                      66   \n1                          44    2008                      64   \n2                         102    2008                      91   \n3                          71    2008                      89   \n4                          69    2008                      79   \n...                       ...     ...                     ...   \n171966                     71    2023                      64   \n171967                     72    2023                      64   \n171968                     72    2023                      65   \n171969                     76    2023                      69   \n171970                     59    2023                      69   \n\n        Points Per Possession  Location  2FM  2FA  \n0                    0.666667   Neutral   13   30  \n1                    0.656250   Neutral   18   34  \n2                    0.780220      Away   14   40  \n3                    1.146067      Home   26   48  \n4                    0.696203   Neutral   13   31  \n...                       ...       ...  ...  ...  \n171966               1.125000      Home   16   39  \n171967               1.109375      Away   14   30  \n171968               0.907692      Away   13   42  \n171969               0.855072      Away   13   36  \n171970               1.101449      Home   17   36  \n\n[170419 rows x 36 columns]",
      "text/html": "<div>\n<style scoped>\n    .dataframe tbody tr th:only-of-type {\n        vertical-align: middle;\n    }\n\n    .dataframe tbody tr th {\n        vertical-align: top;\n    }\n\n    .dataframe thead th {\n        text-align: right;\n    }\n</style>\n<table border=\"1\" class=\"dataframe\">\n  <thead>\n    <tr style=\"text-align: right;\">\n      <th></th>\n      <th>Team</th>\n      <th>Res</th>\n      <th>Date</th>\n      <th>Opp</th>\n      <th>Loc</th>\n      <th>MIN</th>\n      <th>PTS</th>\n      <th>O-PPP</th>\n      <th>Pace</th>\n      <th>FGM</th>\n      <th>...</th>\n      <th>Month</th>\n      <th>Day</th>\n      <th>Result Points</th>\n      <th>Result Points Allowed</th>\n      <th>Season</th>\n      <th>Calculated Possessions</th>\n      <th>Points Per Possession</th>\n      <th>Location</th>\n      <th>2FM</th>\n      <th>2FA</th>\n    </tr>\n  </thead>\n  <tbody>\n    <tr>\n      <th>0</th>\n      <td>Richmond</td>\n      <td>W, 44-42</td>\n      <td>2007-11-05</td>\n      <td>Maine</td>\n      <td>N</td>\n      <td>200</td>\n      <td>44</td>\n      <td>0.663</td>\n      <td>65</td>\n      <td>17</td>\n      <td>...</td>\n      <td>11</td>\n      <td>5</td>\n      <td>44</td>\n      <td>42</td>\n      <td>2008</td>\n      <td>66</td>\n      <td>0.666667</td>\n      <td>Neutral</td>\n      <td>13</td>\n      <td>30</td>\n    </tr>\n    <tr>\n      <th>1</th>\n      <td>Maine</td>\n      <td>L, 42-44</td>\n      <td>2007-11-05</td>\n      <td>Richmond</td>\n      <td>N</td>\n      <td>200</td>\n      <td>42</td>\n      <td>0.652</td>\n      <td>65</td>\n      <td>19</td>\n      <td>...</td>\n      <td>11</td>\n      <td>5</td>\n      <td>42</td>\n      <td>44</td>\n      <td>2008</td>\n      <td>64</td>\n      <td>0.656250</td>\n      <td>Neutral</td>\n      <td>18</td>\n      <td>34</td>\n    </tr>\n    <tr>\n      <th>2</th>\n      <td>Tennessee-Martin</td>\n      <td>L, 71-102</td>\n      <td>2007-11-05</td>\n      <td>Memphis</td>\n      <td>V</td>\n      <td>200</td>\n      <td>71</td>\n      <td>0.785</td>\n      <td>90</td>\n      <td>24</td>\n      <td>...</td>\n      <td>11</td>\n      <td>5</td>\n      <td>71</td>\n      <td>102</td>\n      <td>2008</td>\n      <td>91</td>\n      <td>0.780220</td>\n      <td>Away</td>\n      <td>14</td>\n      <td>40</td>\n    </tr>\n    <tr>\n      <th>3</th>\n      <td>Memphis</td>\n      <td>W, 102-71</td>\n      <td>2007-11-05</td>\n      <td>Tennessee-Martin</td>\n      <td>H</td>\n      <td>200</td>\n      <td>102</td>\n      <td>1.149</td>\n      <td>90</td>\n      <td>37</td>\n      <td>...</td>\n      <td>11</td>\n      <td>5</td>\n      <td>102</td>\n      <td>71</td>\n      <td>2008</td>\n      <td>89</td>\n      <td>1.146067</td>\n      <td>Home</td>\n      <td>26</td>\n      <td>48</td>\n    </tr>\n    <tr>\n      <th>4</th>\n      <td>Alabama A&amp;M</td>\n      <td>L, 55-69</td>\n      <td>2007-11-06</td>\n      <td>Gardner-Webb</td>\n      <td>N</td>\n      <td>200</td>\n      <td>55</td>\n      <td>0.702</td>\n      <td>77</td>\n      <td>17</td>\n      <td>...</td>\n      <td>11</td>\n      <td>6</td>\n      <td>55</td>\n      <td>69</td>\n      <td>2008</td>\n      <td>79</td>\n      <td>0.696203</td>\n      <td>Neutral</td>\n      <td>13</td>\n      <td>31</td>\n    </tr>\n    <tr>\n      <th>...</th>\n      <td>...</td>\n      <td>...</td>\n      <td>...</td>\n      <td>...</td>\n      <td>...</td>\n      <td>...</td>\n      <td>...</td>\n      <td>...</td>\n      <td>...</td>\n      <td>...</td>\n      <td>...</td>\n      <td>...</td>\n      <td>...</td>\n      <td>...</td>\n      <td>...</td>\n      <td>...</td>\n      <td>...</td>\n      <td>...</td>\n      <td>...</td>\n      <td>...</td>\n      <td>...</td>\n    </tr>\n    <tr>\n      <th>171966</th>\n      <td>San Diego State</td>\n      <td>W, 72-71</td>\n      <td>2023-04-01</td>\n      <td>FAU</td>\n      <td>H</td>\n      <td>195</td>\n      <td>72</td>\n      <td>1.135</td>\n      <td>64</td>\n      <td>25</td>\n      <td>...</td>\n      <td>4</td>\n      <td>1</td>\n      <td>72</td>\n      <td>71</td>\n      <td>2023</td>\n      <td>64</td>\n      <td>1.125000</td>\n      <td>Home</td>\n      <td>16</td>\n      <td>39</td>\n    </tr>\n    <tr>\n      <th>171967</th>\n      <td>FAU</td>\n      <td>L, 71-72</td>\n      <td>2023-04-01</td>\n      <td>San Diego State</td>\n      <td>V</td>\n      <td>196</td>\n      <td>71</td>\n      <td>1.110</td>\n      <td>64</td>\n      <td>23</td>\n      <td>...</td>\n      <td>4</td>\n      <td>1</td>\n      <td>71</td>\n      <td>72</td>\n      <td>2023</td>\n      <td>64</td>\n      <td>1.109375</td>\n      <td>Away</td>\n      <td>14</td>\n      <td>30</td>\n    </tr>\n    <tr>\n      <th>171968</th>\n      <td>Miami (Fla.)</td>\n      <td>L, 59-72</td>\n      <td>2023-04-01</td>\n      <td>Connecticut</td>\n      <td>V</td>\n      <td>195</td>\n      <td>59</td>\n      <td>0.912</td>\n      <td>64</td>\n      <td>20</td>\n      <td>...</td>\n      <td>4</td>\n      <td>1</td>\n      <td>59</td>\n      <td>72</td>\n      <td>2023</td>\n      <td>65</td>\n      <td>0.907692</td>\n      <td>Away</td>\n      <td>13</td>\n      <td>42</td>\n    </tr>\n    <tr>\n      <th>171969</th>\n      <td>San Diego State</td>\n      <td>L, 59-76</td>\n      <td>2023-04-03</td>\n      <td>Connecticut</td>\n      <td>V</td>\n      <td>193</td>\n      <td>59</td>\n      <td>0.861</td>\n      <td>68</td>\n      <td>19</td>\n      <td>...</td>\n      <td>4</td>\n      <td>3</td>\n      <td>59</td>\n      <td>76</td>\n      <td>2023</td>\n      <td>69</td>\n      <td>0.855072</td>\n      <td>Away</td>\n      <td>13</td>\n      <td>36</td>\n    </tr>\n    <tr>\n      <th>171970</th>\n      <td>Connecticut</td>\n      <td>W, 76-59</td>\n      <td>2023-04-03</td>\n      <td>San Diego State</td>\n      <td>H</td>\n      <td>192</td>\n      <td>76</td>\n      <td>1.104</td>\n      <td>68</td>\n      <td>23</td>\n      <td>...</td>\n      <td>4</td>\n      <td>3</td>\n      <td>76</td>\n      <td>59</td>\n      <td>2023</td>\n      <td>69</td>\n      <td>1.101449</td>\n      <td>Home</td>\n      <td>17</td>\n      <td>36</td>\n    </tr>\n  </tbody>\n</table>\n<p>170419 rows × 36 columns</p>\n</div>"
     },
     "execution_count": 545,
     "metadata": {},
     "output_type": "execute_result"
    }
   ],
   "source": [
    "statline_df['2FM'] = statline_df.apply(lambda r: r['FGM'] - r['3FM'], axis=1)\n",
    "statline_df['2FA'] = statline_df.apply(lambda r: r['FGA'] - r['3FA'], axis=1)\n",
    "statline_df"
   ],
   "metadata": {
    "collapsed": false,
    "ExecuteTime": {
     "end_time": "2023-12-29T21:45:11.798078200Z",
     "start_time": "2023-12-29T21:45:09.734289Z"
    }
   },
   "id": "e61d33a6dce0fe5a",
   "execution_count": 545
  },
  {
   "cell_type": "code",
   "outputs": [
    {
     "data": {
      "text/plain": "                    Team        Res       Date               Opp Loc  MIN  \\\n0               Richmond   W, 44-42 2007-11-05             Maine   N  200   \n1                  Maine   L, 42-44 2007-11-05          Richmond   N  200   \n2       Tennessee-Martin  L, 71-102 2007-11-05           Memphis   V  200   \n3                Memphis  W, 102-71 2007-11-05  Tennessee-Martin   H  200   \n4            Alabama A&M   L, 55-69 2007-11-06      Gardner-Webb   N  200   \n...                  ...        ...        ...               ...  ..  ...   \n171966   San Diego State   W, 72-71 2023-04-01               FAU   H  195   \n171967               FAU   L, 71-72 2023-04-01   San Diego State   V  196   \n171968      Miami (Fla.)   L, 59-72 2023-04-01       Connecticut   V  195   \n171969   San Diego State   L, 59-76 2023-04-03       Connecticut   V  193   \n171970       Connecticut   W, 76-59 2023-04-03   San Diego State   H  192   \n\n        PTS  O-PPP  Pace  FGM  ...  Day  Result Points  Result Points Allowed  \\\n0        44  0.663    65   17  ...    5             44                     42   \n1        42  0.652    65   19  ...    5             42                     44   \n2        71  0.785    90   24  ...    5             71                    102   \n3       102  1.149    90   37  ...    5            102                     71   \n4        55  0.702    77   17  ...    6             55                     69   \n...     ...    ...   ...  ...  ...  ...            ...                    ...   \n171966   72  1.135    64   25  ...    1             72                     71   \n171967   71  1.110    64   23  ...    1             71                     72   \n171968   59  0.912    64   20  ...    1             59                     72   \n171969   59  0.861    68   19  ...    3             59                     76   \n171970   76  1.104    68   23  ...    3             76                     59   \n\n        Season  Calculated Possessions  Points Per Possession  Location  2FM  \\\n0         2008                      66               0.666667   Neutral   13   \n1         2008                      64               0.656250   Neutral   18   \n2         2008                      91               0.780220      Away   14   \n3         2008                      89               1.146067      Home   26   \n4         2008                      79               0.696203   Neutral   13   \n...        ...                     ...                    ...       ...  ...   \n171966    2023                      64               1.125000      Home   16   \n171967    2023                      64               1.109375      Away   14   \n171968    2023                      65               0.907692      Away   13   \n171969    2023                      69               0.855072      Away   13   \n171970    2023                      69               1.101449      Home   17   \n\n        2FA  Calculated Points  \n0        30                 44  \n1        34                 42  \n2        40                 71  \n3        48                102  \n4        31                 55  \n...     ...                ...  \n171966   39                 72  \n171967   30                 71  \n171968   42                 59  \n171969   36                 59  \n171970   36                 76  \n\n[170419 rows x 37 columns]",
      "text/html": "<div>\n<style scoped>\n    .dataframe tbody tr th:only-of-type {\n        vertical-align: middle;\n    }\n\n    .dataframe tbody tr th {\n        vertical-align: top;\n    }\n\n    .dataframe thead th {\n        text-align: right;\n    }\n</style>\n<table border=\"1\" class=\"dataframe\">\n  <thead>\n    <tr style=\"text-align: right;\">\n      <th></th>\n      <th>Team</th>\n      <th>Res</th>\n      <th>Date</th>\n      <th>Opp</th>\n      <th>Loc</th>\n      <th>MIN</th>\n      <th>PTS</th>\n      <th>O-PPP</th>\n      <th>Pace</th>\n      <th>FGM</th>\n      <th>...</th>\n      <th>Day</th>\n      <th>Result Points</th>\n      <th>Result Points Allowed</th>\n      <th>Season</th>\n      <th>Calculated Possessions</th>\n      <th>Points Per Possession</th>\n      <th>Location</th>\n      <th>2FM</th>\n      <th>2FA</th>\n      <th>Calculated Points</th>\n    </tr>\n  </thead>\n  <tbody>\n    <tr>\n      <th>0</th>\n      <td>Richmond</td>\n      <td>W, 44-42</td>\n      <td>2007-11-05</td>\n      <td>Maine</td>\n      <td>N</td>\n      <td>200</td>\n      <td>44</td>\n      <td>0.663</td>\n      <td>65</td>\n      <td>17</td>\n      <td>...</td>\n      <td>5</td>\n      <td>44</td>\n      <td>42</td>\n      <td>2008</td>\n      <td>66</td>\n      <td>0.666667</td>\n      <td>Neutral</td>\n      <td>13</td>\n      <td>30</td>\n      <td>44</td>\n    </tr>\n    <tr>\n      <th>1</th>\n      <td>Maine</td>\n      <td>L, 42-44</td>\n      <td>2007-11-05</td>\n      <td>Richmond</td>\n      <td>N</td>\n      <td>200</td>\n      <td>42</td>\n      <td>0.652</td>\n      <td>65</td>\n      <td>19</td>\n      <td>...</td>\n      <td>5</td>\n      <td>42</td>\n      <td>44</td>\n      <td>2008</td>\n      <td>64</td>\n      <td>0.656250</td>\n      <td>Neutral</td>\n      <td>18</td>\n      <td>34</td>\n      <td>42</td>\n    </tr>\n    <tr>\n      <th>2</th>\n      <td>Tennessee-Martin</td>\n      <td>L, 71-102</td>\n      <td>2007-11-05</td>\n      <td>Memphis</td>\n      <td>V</td>\n      <td>200</td>\n      <td>71</td>\n      <td>0.785</td>\n      <td>90</td>\n      <td>24</td>\n      <td>...</td>\n      <td>5</td>\n      <td>71</td>\n      <td>102</td>\n      <td>2008</td>\n      <td>91</td>\n      <td>0.780220</td>\n      <td>Away</td>\n      <td>14</td>\n      <td>40</td>\n      <td>71</td>\n    </tr>\n    <tr>\n      <th>3</th>\n      <td>Memphis</td>\n      <td>W, 102-71</td>\n      <td>2007-11-05</td>\n      <td>Tennessee-Martin</td>\n      <td>H</td>\n      <td>200</td>\n      <td>102</td>\n      <td>1.149</td>\n      <td>90</td>\n      <td>37</td>\n      <td>...</td>\n      <td>5</td>\n      <td>102</td>\n      <td>71</td>\n      <td>2008</td>\n      <td>89</td>\n      <td>1.146067</td>\n      <td>Home</td>\n      <td>26</td>\n      <td>48</td>\n      <td>102</td>\n    </tr>\n    <tr>\n      <th>4</th>\n      <td>Alabama A&amp;M</td>\n      <td>L, 55-69</td>\n      <td>2007-11-06</td>\n      <td>Gardner-Webb</td>\n      <td>N</td>\n      <td>200</td>\n      <td>55</td>\n      <td>0.702</td>\n      <td>77</td>\n      <td>17</td>\n      <td>...</td>\n      <td>6</td>\n      <td>55</td>\n      <td>69</td>\n      <td>2008</td>\n      <td>79</td>\n      <td>0.696203</td>\n      <td>Neutral</td>\n      <td>13</td>\n      <td>31</td>\n      <td>55</td>\n    </tr>\n    <tr>\n      <th>...</th>\n      <td>...</td>\n      <td>...</td>\n      <td>...</td>\n      <td>...</td>\n      <td>...</td>\n      <td>...</td>\n      <td>...</td>\n      <td>...</td>\n      <td>...</td>\n      <td>...</td>\n      <td>...</td>\n      <td>...</td>\n      <td>...</td>\n      <td>...</td>\n      <td>...</td>\n      <td>...</td>\n      <td>...</td>\n      <td>...</td>\n      <td>...</td>\n      <td>...</td>\n      <td>...</td>\n    </tr>\n    <tr>\n      <th>171966</th>\n      <td>San Diego State</td>\n      <td>W, 72-71</td>\n      <td>2023-04-01</td>\n      <td>FAU</td>\n      <td>H</td>\n      <td>195</td>\n      <td>72</td>\n      <td>1.135</td>\n      <td>64</td>\n      <td>25</td>\n      <td>...</td>\n      <td>1</td>\n      <td>72</td>\n      <td>71</td>\n      <td>2023</td>\n      <td>64</td>\n      <td>1.125000</td>\n      <td>Home</td>\n      <td>16</td>\n      <td>39</td>\n      <td>72</td>\n    </tr>\n    <tr>\n      <th>171967</th>\n      <td>FAU</td>\n      <td>L, 71-72</td>\n      <td>2023-04-01</td>\n      <td>San Diego State</td>\n      <td>V</td>\n      <td>196</td>\n      <td>71</td>\n      <td>1.110</td>\n      <td>64</td>\n      <td>23</td>\n      <td>...</td>\n      <td>1</td>\n      <td>71</td>\n      <td>72</td>\n      <td>2023</td>\n      <td>64</td>\n      <td>1.109375</td>\n      <td>Away</td>\n      <td>14</td>\n      <td>30</td>\n      <td>71</td>\n    </tr>\n    <tr>\n      <th>171968</th>\n      <td>Miami (Fla.)</td>\n      <td>L, 59-72</td>\n      <td>2023-04-01</td>\n      <td>Connecticut</td>\n      <td>V</td>\n      <td>195</td>\n      <td>59</td>\n      <td>0.912</td>\n      <td>64</td>\n      <td>20</td>\n      <td>...</td>\n      <td>1</td>\n      <td>59</td>\n      <td>72</td>\n      <td>2023</td>\n      <td>65</td>\n      <td>0.907692</td>\n      <td>Away</td>\n      <td>13</td>\n      <td>42</td>\n      <td>59</td>\n    </tr>\n    <tr>\n      <th>171969</th>\n      <td>San Diego State</td>\n      <td>L, 59-76</td>\n      <td>2023-04-03</td>\n      <td>Connecticut</td>\n      <td>V</td>\n      <td>193</td>\n      <td>59</td>\n      <td>0.861</td>\n      <td>68</td>\n      <td>19</td>\n      <td>...</td>\n      <td>3</td>\n      <td>59</td>\n      <td>76</td>\n      <td>2023</td>\n      <td>69</td>\n      <td>0.855072</td>\n      <td>Away</td>\n      <td>13</td>\n      <td>36</td>\n      <td>59</td>\n    </tr>\n    <tr>\n      <th>171970</th>\n      <td>Connecticut</td>\n      <td>W, 76-59</td>\n      <td>2023-04-03</td>\n      <td>San Diego State</td>\n      <td>H</td>\n      <td>192</td>\n      <td>76</td>\n      <td>1.104</td>\n      <td>68</td>\n      <td>23</td>\n      <td>...</td>\n      <td>3</td>\n      <td>76</td>\n      <td>59</td>\n      <td>2023</td>\n      <td>69</td>\n      <td>1.101449</td>\n      <td>Home</td>\n      <td>17</td>\n      <td>36</td>\n      <td>76</td>\n    </tr>\n  </tbody>\n</table>\n<p>170419 rows × 37 columns</p>\n</div>"
     },
     "execution_count": 546,
     "metadata": {},
     "output_type": "execute_result"
    }
   ],
   "source": [
    "statline_df['Calculated Points'] = statline_df.apply(lambda r: r['3FM'] * 3 + r['2FM'] * 2 + r['FTM'], axis=1)\n",
    "statline_df"
   ],
   "metadata": {
    "collapsed": false,
    "ExecuteTime": {
     "end_time": "2023-12-29T21:45:13.088216500Z",
     "start_time": "2023-12-29T21:45:11.798078200Z"
    }
   },
   "id": "b96dde8658503017",
   "execution_count": 546
  },
  {
   "cell_type": "markdown",
   "source": [
    "### Error Checking"
   ],
   "metadata": {
    "collapsed": false
   },
   "id": "d3de85e7b9f749a8"
  },
  {
   "cell_type": "code",
   "outputs": [
    {
     "data": {
      "text/plain": "                        Team        Res       Date                     Opp  \\\n72        Jacksonville State  L, 65-107 2007-11-09                 Georgia   \n168                 Nebraska   W, 67-52 2007-11-10            Presbyterian   \n516       Northwestern State   L, 66-72 2007-11-14             New Orleans   \n529               Washington   W, 81-77 2007-11-14                    Utah   \n1880    Cal State Northridge   W, 69-43 2007-12-01  North Carolina Central   \n...                      ...        ...        ...                     ...   \n167849      Louisiana-Monroe   L, 45-58 2023-01-28           James Madison   \n167857         James Madison   W, 58-45 2023-01-28        Louisiana-Monroe   \n167941              Richmond   L, 60-86 2023-01-28                  Dayton   \n169102              Michigan   L, 61-62 2023-02-11                 Indiana   \n171733                  Iona   W, 76-55 2023-03-11                  Marist   \n\n       Loc  MIN  PTS  O-PPP  Pace  FGM  ...  Day  Result Points  \\\n72       V  182   58  0.827    77   23  ...    9             65   \n168      H  222   69  1.177    58   26  ...   10             67   \n516      H  216   68  1.079    62   24  ...   14             66   \n529      H  200   83  1.228    66   26  ...   14             81   \n1880     V  211   72  0.890    80   26  ...    1             69   \n...     ..  ...  ...    ...   ...  ...  ...  ...            ...   \n167849   V  150   37  0.815    40   15  ...   28             45   \n167857   H   96   37  1.095    40   13  ...   28             58   \n167941   V  182   55  0.861    56   24  ...   28             60   \n169102   H  132   41  0.859    60   15  ...   11             61   \n171733   H  196   74  1.081    69   24  ...   11             76   \n\n        Result Points Allowed  Season  Calculated Possessions  \\\n72                        107    2008                      70   \n168                        52    2008                      59   \n516                        72    2008                      63   \n529                        77    2008                      68   \n1880                       43    2008                      81   \n...                       ...     ...                     ...   \n167849                     58    2023                      45   \n167857                     45    2023                      34   \n167941                     86    2023                      64   \n169102                     62    2023                      48   \n171733                     55    2023                      69   \n\n        Points Per Possession  Location  2FM  2FA  Calculated Points  \n72                   0.828571      Away   14   45                 58  \n168                  1.169492      Home   18   24                 69  \n516                  1.079365      Home   17   36                 68  \n529                  1.220588      Home   22   50                 83  \n1880                 0.888889      Away   22   42                 72  \n...                       ...       ...  ...  ...                ...  \n167849               0.822222      Away   11   20                 37  \n167857               1.088235      Home    7   13                 37  \n167941               0.859375      Away   20   39                 55  \n169102               0.854167      Home   11   22                 41  \n171733               1.072464      Home   15   36                 74  \n\n[507 rows x 37 columns]",
      "text/html": "<div>\n<style scoped>\n    .dataframe tbody tr th:only-of-type {\n        vertical-align: middle;\n    }\n\n    .dataframe tbody tr th {\n        vertical-align: top;\n    }\n\n    .dataframe thead th {\n        text-align: right;\n    }\n</style>\n<table border=\"1\" class=\"dataframe\">\n  <thead>\n    <tr style=\"text-align: right;\">\n      <th></th>\n      <th>Team</th>\n      <th>Res</th>\n      <th>Date</th>\n      <th>Opp</th>\n      <th>Loc</th>\n      <th>MIN</th>\n      <th>PTS</th>\n      <th>O-PPP</th>\n      <th>Pace</th>\n      <th>FGM</th>\n      <th>...</th>\n      <th>Day</th>\n      <th>Result Points</th>\n      <th>Result Points Allowed</th>\n      <th>Season</th>\n      <th>Calculated Possessions</th>\n      <th>Points Per Possession</th>\n      <th>Location</th>\n      <th>2FM</th>\n      <th>2FA</th>\n      <th>Calculated Points</th>\n    </tr>\n  </thead>\n  <tbody>\n    <tr>\n      <th>72</th>\n      <td>Jacksonville State</td>\n      <td>L, 65-107</td>\n      <td>2007-11-09</td>\n      <td>Georgia</td>\n      <td>V</td>\n      <td>182</td>\n      <td>58</td>\n      <td>0.827</td>\n      <td>77</td>\n      <td>23</td>\n      <td>...</td>\n      <td>9</td>\n      <td>65</td>\n      <td>107</td>\n      <td>2008</td>\n      <td>70</td>\n      <td>0.828571</td>\n      <td>Away</td>\n      <td>14</td>\n      <td>45</td>\n      <td>58</td>\n    </tr>\n    <tr>\n      <th>168</th>\n      <td>Nebraska</td>\n      <td>W, 67-52</td>\n      <td>2007-11-10</td>\n      <td>Presbyterian</td>\n      <td>H</td>\n      <td>222</td>\n      <td>69</td>\n      <td>1.177</td>\n      <td>58</td>\n      <td>26</td>\n      <td>...</td>\n      <td>10</td>\n      <td>67</td>\n      <td>52</td>\n      <td>2008</td>\n      <td>59</td>\n      <td>1.169492</td>\n      <td>Home</td>\n      <td>18</td>\n      <td>24</td>\n      <td>69</td>\n    </tr>\n    <tr>\n      <th>516</th>\n      <td>Northwestern State</td>\n      <td>L, 66-72</td>\n      <td>2007-11-14</td>\n      <td>New Orleans</td>\n      <td>H</td>\n      <td>216</td>\n      <td>68</td>\n      <td>1.079</td>\n      <td>62</td>\n      <td>24</td>\n      <td>...</td>\n      <td>14</td>\n      <td>66</td>\n      <td>72</td>\n      <td>2008</td>\n      <td>63</td>\n      <td>1.079365</td>\n      <td>Home</td>\n      <td>17</td>\n      <td>36</td>\n      <td>68</td>\n    </tr>\n    <tr>\n      <th>529</th>\n      <td>Washington</td>\n      <td>W, 81-77</td>\n      <td>2007-11-14</td>\n      <td>Utah</td>\n      <td>H</td>\n      <td>200</td>\n      <td>83</td>\n      <td>1.228</td>\n      <td>66</td>\n      <td>26</td>\n      <td>...</td>\n      <td>14</td>\n      <td>81</td>\n      <td>77</td>\n      <td>2008</td>\n      <td>68</td>\n      <td>1.220588</td>\n      <td>Home</td>\n      <td>22</td>\n      <td>50</td>\n      <td>83</td>\n    </tr>\n    <tr>\n      <th>1880</th>\n      <td>Cal State Northridge</td>\n      <td>W, 69-43</td>\n      <td>2007-12-01</td>\n      <td>North Carolina Central</td>\n      <td>V</td>\n      <td>211</td>\n      <td>72</td>\n      <td>0.890</td>\n      <td>80</td>\n      <td>26</td>\n      <td>...</td>\n      <td>1</td>\n      <td>69</td>\n      <td>43</td>\n      <td>2008</td>\n      <td>81</td>\n      <td>0.888889</td>\n      <td>Away</td>\n      <td>22</td>\n      <td>42</td>\n      <td>72</td>\n    </tr>\n    <tr>\n      <th>...</th>\n      <td>...</td>\n      <td>...</td>\n      <td>...</td>\n      <td>...</td>\n      <td>...</td>\n      <td>...</td>\n      <td>...</td>\n      <td>...</td>\n      <td>...</td>\n      <td>...</td>\n      <td>...</td>\n      <td>...</td>\n      <td>...</td>\n      <td>...</td>\n      <td>...</td>\n      <td>...</td>\n      <td>...</td>\n      <td>...</td>\n      <td>...</td>\n      <td>...</td>\n      <td>...</td>\n    </tr>\n    <tr>\n      <th>167849</th>\n      <td>Louisiana-Monroe</td>\n      <td>L, 45-58</td>\n      <td>2023-01-28</td>\n      <td>James Madison</td>\n      <td>V</td>\n      <td>150</td>\n      <td>37</td>\n      <td>0.815</td>\n      <td>40</td>\n      <td>15</td>\n      <td>...</td>\n      <td>28</td>\n      <td>45</td>\n      <td>58</td>\n      <td>2023</td>\n      <td>45</td>\n      <td>0.822222</td>\n      <td>Away</td>\n      <td>11</td>\n      <td>20</td>\n      <td>37</td>\n    </tr>\n    <tr>\n      <th>167857</th>\n      <td>James Madison</td>\n      <td>W, 58-45</td>\n      <td>2023-01-28</td>\n      <td>Louisiana-Monroe</td>\n      <td>H</td>\n      <td>96</td>\n      <td>37</td>\n      <td>1.095</td>\n      <td>40</td>\n      <td>13</td>\n      <td>...</td>\n      <td>28</td>\n      <td>58</td>\n      <td>45</td>\n      <td>2023</td>\n      <td>34</td>\n      <td>1.088235</td>\n      <td>Home</td>\n      <td>7</td>\n      <td>13</td>\n      <td>37</td>\n    </tr>\n    <tr>\n      <th>167941</th>\n      <td>Richmond</td>\n      <td>L, 60-86</td>\n      <td>2023-01-28</td>\n      <td>Dayton</td>\n      <td>V</td>\n      <td>182</td>\n      <td>55</td>\n      <td>0.861</td>\n      <td>56</td>\n      <td>24</td>\n      <td>...</td>\n      <td>28</td>\n      <td>60</td>\n      <td>86</td>\n      <td>2023</td>\n      <td>64</td>\n      <td>0.859375</td>\n      <td>Away</td>\n      <td>20</td>\n      <td>39</td>\n      <td>55</td>\n    </tr>\n    <tr>\n      <th>169102</th>\n      <td>Michigan</td>\n      <td>L, 61-62</td>\n      <td>2023-02-11</td>\n      <td>Indiana</td>\n      <td>H</td>\n      <td>132</td>\n      <td>41</td>\n      <td>0.859</td>\n      <td>60</td>\n      <td>15</td>\n      <td>...</td>\n      <td>11</td>\n      <td>61</td>\n      <td>62</td>\n      <td>2023</td>\n      <td>48</td>\n      <td>0.854167</td>\n      <td>Home</td>\n      <td>11</td>\n      <td>22</td>\n      <td>41</td>\n    </tr>\n    <tr>\n      <th>171733</th>\n      <td>Iona</td>\n      <td>W, 76-55</td>\n      <td>2023-03-11</td>\n      <td>Marist</td>\n      <td>H</td>\n      <td>196</td>\n      <td>74</td>\n      <td>1.081</td>\n      <td>69</td>\n      <td>24</td>\n      <td>...</td>\n      <td>11</td>\n      <td>76</td>\n      <td>55</td>\n      <td>2023</td>\n      <td>69</td>\n      <td>1.072464</td>\n      <td>Home</td>\n      <td>15</td>\n      <td>36</td>\n      <td>74</td>\n    </tr>\n  </tbody>\n</table>\n<p>507 rows × 37 columns</p>\n</div>"
     },
     "execution_count": 547,
     "metadata": {},
     "output_type": "execute_result"
    }
   ],
   "source": [
    "statline_df.loc[statline_df['PTS'] != statline_df['Result Points']]"
   ],
   "metadata": {
    "collapsed": false,
    "ExecuteTime": {
     "end_time": "2023-12-29T21:45:13.111005500Z",
     "start_time": "2023-12-29T21:45:13.089213100Z"
    }
   },
   "id": "cda7c8b4feff0228",
   "execution_count": 547
  },
  {
   "cell_type": "code",
   "outputs": [
    {
     "data": {
      "text/plain": "Empty DataFrame\nColumns: [Team, Res, Date, Opp, Loc, MIN, PTS, O-PPP, Pace, FGM, FGA, 3FM, 3FA, FTM, FTA, OREB, TmRb, REB, AST, STL, BLK, TO, F, Obs UUID, Victory, Year, Month, Day, Result Points, Result Points Allowed, Season, Calculated Possessions, Points Per Possession, Location, 2FM, 2FA, Calculated Points]\nIndex: []\n\n[0 rows x 37 columns]",
      "text/html": "<div>\n<style scoped>\n    .dataframe tbody tr th:only-of-type {\n        vertical-align: middle;\n    }\n\n    .dataframe tbody tr th {\n        vertical-align: top;\n    }\n\n    .dataframe thead th {\n        text-align: right;\n    }\n</style>\n<table border=\"1\" class=\"dataframe\">\n  <thead>\n    <tr style=\"text-align: right;\">\n      <th></th>\n      <th>Team</th>\n      <th>Res</th>\n      <th>Date</th>\n      <th>Opp</th>\n      <th>Loc</th>\n      <th>MIN</th>\n      <th>PTS</th>\n      <th>O-PPP</th>\n      <th>Pace</th>\n      <th>FGM</th>\n      <th>...</th>\n      <th>Day</th>\n      <th>Result Points</th>\n      <th>Result Points Allowed</th>\n      <th>Season</th>\n      <th>Calculated Possessions</th>\n      <th>Points Per Possession</th>\n      <th>Location</th>\n      <th>2FM</th>\n      <th>2FA</th>\n      <th>Calculated Points</th>\n    </tr>\n  </thead>\n  <tbody>\n  </tbody>\n</table>\n<p>0 rows × 37 columns</p>\n</div>"
     },
     "execution_count": 548,
     "metadata": {},
     "output_type": "execute_result"
    }
   ],
   "source": [
    "statline_df.loc[statline_df['PTS'] != statline_df['Calculated Points']]"
   ],
   "metadata": {
    "collapsed": false,
    "ExecuteTime": {
     "end_time": "2023-12-29T21:45:13.150307400Z",
     "start_time": "2023-12-29T21:45:13.103030200Z"
    }
   },
   "id": "166215ca959bc86",
   "execution_count": 548
  },
  {
   "cell_type": "code",
   "outputs": [
    {
     "data": {
      "text/plain": "                        Team        Res       Date                     Opp  \\\n72        Jacksonville State  L, 65-107 2007-11-09                 Georgia   \n168                 Nebraska   W, 67-52 2007-11-10            Presbyterian   \n516       Northwestern State   L, 66-72 2007-11-14             New Orleans   \n529               Washington   W, 81-77 2007-11-14                    Utah   \n1880    Cal State Northridge   W, 69-43 2007-12-01  North Carolina Central   \n...                      ...        ...        ...                     ...   \n167849      Louisiana-Monroe   L, 45-58 2023-01-28           James Madison   \n167857         James Madison   W, 58-45 2023-01-28        Louisiana-Monroe   \n167941              Richmond   L, 60-86 2023-01-28                  Dayton   \n169102              Michigan   L, 61-62 2023-02-11                 Indiana   \n171733                  Iona   W, 76-55 2023-03-11                  Marist   \n\n       Loc  MIN  PTS  O-PPP  Pace  FGM  ...  Day  Result Points  \\\n72       V  182   58  0.827    77   23  ...    9             65   \n168      H  222   69  1.177    58   26  ...   10             67   \n516      H  216   68  1.079    62   24  ...   14             66   \n529      H  200   83  1.228    66   26  ...   14             81   \n1880     V  211   72  0.890    80   26  ...    1             69   \n...     ..  ...  ...    ...   ...  ...  ...  ...            ...   \n167849   V  150   37  0.815    40   15  ...   28             45   \n167857   H   96   37  1.095    40   13  ...   28             58   \n167941   V  182   55  0.861    56   24  ...   28             60   \n169102   H  132   41  0.859    60   15  ...   11             61   \n171733   H  196   74  1.081    69   24  ...   11             76   \n\n        Result Points Allowed  Season  Calculated Possessions  \\\n72                        107    2008                      70   \n168                        52    2008                      59   \n516                        72    2008                      63   \n529                        77    2008                      68   \n1880                       43    2008                      81   \n...                       ...     ...                     ...   \n167849                     58    2023                      45   \n167857                     45    2023                      34   \n167941                     86    2023                      64   \n169102                     62    2023                      48   \n171733                     55    2023                      69   \n\n        Points Per Possession  Location  2FM  2FA  Calculated Points  \n72                   0.828571      Away   14   45                 58  \n168                  1.169492      Home   18   24                 69  \n516                  1.079365      Home   17   36                 68  \n529                  1.220588      Home   22   50                 83  \n1880                 0.888889      Away   22   42                 72  \n...                       ...       ...  ...  ...                ...  \n167849               0.822222      Away   11   20                 37  \n167857               1.088235      Home    7   13                 37  \n167941               0.859375      Away   20   39                 55  \n169102               0.854167      Home   11   22                 41  \n171733               1.072464      Home   15   36                 74  \n\n[507 rows x 37 columns]",
      "text/html": "<div>\n<style scoped>\n    .dataframe tbody tr th:only-of-type {\n        vertical-align: middle;\n    }\n\n    .dataframe tbody tr th {\n        vertical-align: top;\n    }\n\n    .dataframe thead th {\n        text-align: right;\n    }\n</style>\n<table border=\"1\" class=\"dataframe\">\n  <thead>\n    <tr style=\"text-align: right;\">\n      <th></th>\n      <th>Team</th>\n      <th>Res</th>\n      <th>Date</th>\n      <th>Opp</th>\n      <th>Loc</th>\n      <th>MIN</th>\n      <th>PTS</th>\n      <th>O-PPP</th>\n      <th>Pace</th>\n      <th>FGM</th>\n      <th>...</th>\n      <th>Day</th>\n      <th>Result Points</th>\n      <th>Result Points Allowed</th>\n      <th>Season</th>\n      <th>Calculated Possessions</th>\n      <th>Points Per Possession</th>\n      <th>Location</th>\n      <th>2FM</th>\n      <th>2FA</th>\n      <th>Calculated Points</th>\n    </tr>\n  </thead>\n  <tbody>\n    <tr>\n      <th>72</th>\n      <td>Jacksonville State</td>\n      <td>L, 65-107</td>\n      <td>2007-11-09</td>\n      <td>Georgia</td>\n      <td>V</td>\n      <td>182</td>\n      <td>58</td>\n      <td>0.827</td>\n      <td>77</td>\n      <td>23</td>\n      <td>...</td>\n      <td>9</td>\n      <td>65</td>\n      <td>107</td>\n      <td>2008</td>\n      <td>70</td>\n      <td>0.828571</td>\n      <td>Away</td>\n      <td>14</td>\n      <td>45</td>\n      <td>58</td>\n    </tr>\n    <tr>\n      <th>168</th>\n      <td>Nebraska</td>\n      <td>W, 67-52</td>\n      <td>2007-11-10</td>\n      <td>Presbyterian</td>\n      <td>H</td>\n      <td>222</td>\n      <td>69</td>\n      <td>1.177</td>\n      <td>58</td>\n      <td>26</td>\n      <td>...</td>\n      <td>10</td>\n      <td>67</td>\n      <td>52</td>\n      <td>2008</td>\n      <td>59</td>\n      <td>1.169492</td>\n      <td>Home</td>\n      <td>18</td>\n      <td>24</td>\n      <td>69</td>\n    </tr>\n    <tr>\n      <th>516</th>\n      <td>Northwestern State</td>\n      <td>L, 66-72</td>\n      <td>2007-11-14</td>\n      <td>New Orleans</td>\n      <td>H</td>\n      <td>216</td>\n      <td>68</td>\n      <td>1.079</td>\n      <td>62</td>\n      <td>24</td>\n      <td>...</td>\n      <td>14</td>\n      <td>66</td>\n      <td>72</td>\n      <td>2008</td>\n      <td>63</td>\n      <td>1.079365</td>\n      <td>Home</td>\n      <td>17</td>\n      <td>36</td>\n      <td>68</td>\n    </tr>\n    <tr>\n      <th>529</th>\n      <td>Washington</td>\n      <td>W, 81-77</td>\n      <td>2007-11-14</td>\n      <td>Utah</td>\n      <td>H</td>\n      <td>200</td>\n      <td>83</td>\n      <td>1.228</td>\n      <td>66</td>\n      <td>26</td>\n      <td>...</td>\n      <td>14</td>\n      <td>81</td>\n      <td>77</td>\n      <td>2008</td>\n      <td>68</td>\n      <td>1.220588</td>\n      <td>Home</td>\n      <td>22</td>\n      <td>50</td>\n      <td>83</td>\n    </tr>\n    <tr>\n      <th>1880</th>\n      <td>Cal State Northridge</td>\n      <td>W, 69-43</td>\n      <td>2007-12-01</td>\n      <td>North Carolina Central</td>\n      <td>V</td>\n      <td>211</td>\n      <td>72</td>\n      <td>0.890</td>\n      <td>80</td>\n      <td>26</td>\n      <td>...</td>\n      <td>1</td>\n      <td>69</td>\n      <td>43</td>\n      <td>2008</td>\n      <td>81</td>\n      <td>0.888889</td>\n      <td>Away</td>\n      <td>22</td>\n      <td>42</td>\n      <td>72</td>\n    </tr>\n    <tr>\n      <th>...</th>\n      <td>...</td>\n      <td>...</td>\n      <td>...</td>\n      <td>...</td>\n      <td>...</td>\n      <td>...</td>\n      <td>...</td>\n      <td>...</td>\n      <td>...</td>\n      <td>...</td>\n      <td>...</td>\n      <td>...</td>\n      <td>...</td>\n      <td>...</td>\n      <td>...</td>\n      <td>...</td>\n      <td>...</td>\n      <td>...</td>\n      <td>...</td>\n      <td>...</td>\n      <td>...</td>\n    </tr>\n    <tr>\n      <th>167849</th>\n      <td>Louisiana-Monroe</td>\n      <td>L, 45-58</td>\n      <td>2023-01-28</td>\n      <td>James Madison</td>\n      <td>V</td>\n      <td>150</td>\n      <td>37</td>\n      <td>0.815</td>\n      <td>40</td>\n      <td>15</td>\n      <td>...</td>\n      <td>28</td>\n      <td>45</td>\n      <td>58</td>\n      <td>2023</td>\n      <td>45</td>\n      <td>0.822222</td>\n      <td>Away</td>\n      <td>11</td>\n      <td>20</td>\n      <td>37</td>\n    </tr>\n    <tr>\n      <th>167857</th>\n      <td>James Madison</td>\n      <td>W, 58-45</td>\n      <td>2023-01-28</td>\n      <td>Louisiana-Monroe</td>\n      <td>H</td>\n      <td>96</td>\n      <td>37</td>\n      <td>1.095</td>\n      <td>40</td>\n      <td>13</td>\n      <td>...</td>\n      <td>28</td>\n      <td>58</td>\n      <td>45</td>\n      <td>2023</td>\n      <td>34</td>\n      <td>1.088235</td>\n      <td>Home</td>\n      <td>7</td>\n      <td>13</td>\n      <td>37</td>\n    </tr>\n    <tr>\n      <th>167941</th>\n      <td>Richmond</td>\n      <td>L, 60-86</td>\n      <td>2023-01-28</td>\n      <td>Dayton</td>\n      <td>V</td>\n      <td>182</td>\n      <td>55</td>\n      <td>0.861</td>\n      <td>56</td>\n      <td>24</td>\n      <td>...</td>\n      <td>28</td>\n      <td>60</td>\n      <td>86</td>\n      <td>2023</td>\n      <td>64</td>\n      <td>0.859375</td>\n      <td>Away</td>\n      <td>20</td>\n      <td>39</td>\n      <td>55</td>\n    </tr>\n    <tr>\n      <th>169102</th>\n      <td>Michigan</td>\n      <td>L, 61-62</td>\n      <td>2023-02-11</td>\n      <td>Indiana</td>\n      <td>H</td>\n      <td>132</td>\n      <td>41</td>\n      <td>0.859</td>\n      <td>60</td>\n      <td>15</td>\n      <td>...</td>\n      <td>11</td>\n      <td>61</td>\n      <td>62</td>\n      <td>2023</td>\n      <td>48</td>\n      <td>0.854167</td>\n      <td>Home</td>\n      <td>11</td>\n      <td>22</td>\n      <td>41</td>\n    </tr>\n    <tr>\n      <th>171733</th>\n      <td>Iona</td>\n      <td>W, 76-55</td>\n      <td>2023-03-11</td>\n      <td>Marist</td>\n      <td>H</td>\n      <td>196</td>\n      <td>74</td>\n      <td>1.081</td>\n      <td>69</td>\n      <td>24</td>\n      <td>...</td>\n      <td>11</td>\n      <td>76</td>\n      <td>55</td>\n      <td>2023</td>\n      <td>69</td>\n      <td>1.072464</td>\n      <td>Home</td>\n      <td>15</td>\n      <td>36</td>\n      <td>74</td>\n    </tr>\n  </tbody>\n</table>\n<p>507 rows × 37 columns</p>\n</div>"
     },
     "execution_count": 549,
     "metadata": {},
     "output_type": "execute_result"
    }
   ],
   "source": [
    "statline_df.loc[statline_df['Calculated Points'] != statline_df['Result Points']]"
   ],
   "metadata": {
    "collapsed": false,
    "ExecuteTime": {
     "end_time": "2023-12-29T21:45:13.219667300Z",
     "start_time": "2023-12-29T21:45:13.119449200Z"
    }
   },
   "id": "f9b6929af960d26b",
   "execution_count": 549
  },
  {
   "cell_type": "markdown",
   "source": [
    "Result Points is wrong"
   ],
   "metadata": {
    "collapsed": false
   },
   "id": "78684898d060d75f"
  },
  {
   "cell_type": "code",
   "outputs": [
    {
     "data": {
      "text/plain": "                    Team        Res       Date               Opp Loc  MIN  \\\n0               Richmond   W, 44-42 2007-11-05             Maine   N  200   \n1                  Maine   L, 42-44 2007-11-05          Richmond   N  200   \n2       Tennessee-Martin  L, 71-102 2007-11-05           Memphis   V  200   \n3                Memphis  W, 102-71 2007-11-05  Tennessee-Martin   H  200   \n4            Alabama A&M   L, 55-69 2007-11-06      Gardner-Webb   N  200   \n...                  ...        ...        ...               ...  ..  ...   \n171966   San Diego State   W, 72-71 2023-04-01               FAU   H  195   \n171967               FAU   L, 71-72 2023-04-01   San Diego State   V  196   \n171968      Miami (Fla.)   L, 59-72 2023-04-01       Connecticut   V  195   \n171969   San Diego State   L, 59-76 2023-04-03       Connecticut   V  193   \n171970       Connecticut   W, 76-59 2023-04-03   San Diego State   H  192   \n\n        PTS  O-PPP  Pace  FGM  ...  Year  Month  Day  Season  \\\n0        44  0.663    65   17  ...  2007     11    5    2008   \n1        42  0.652    65   19  ...  2007     11    5    2008   \n2        71  0.785    90   24  ...  2007     11    5    2008   \n3       102  1.149    90   37  ...  2007     11    5    2008   \n4        55  0.702    77   17  ...  2007     11    6    2008   \n...     ...    ...   ...  ...  ...   ...    ...  ...     ...   \n171966   72  1.135    64   25  ...  2023      4    1    2023   \n171967   71  1.110    64   23  ...  2023      4    1    2023   \n171968   59  0.912    64   20  ...  2023      4    1    2023   \n171969   59  0.861    68   19  ...  2023      4    3    2023   \n171970   76  1.104    68   23  ...  2023      4    3    2023   \n\n        Calculated Possessions  Points Per Possession  Location  2FM  2FA  \\\n0                           66               0.666667   Neutral   13   30   \n1                           64               0.656250   Neutral   18   34   \n2                           91               0.780220      Away   14   40   \n3                           89               1.146067      Home   26   48   \n4                           79               0.696203   Neutral   13   31   \n...                        ...                    ...       ...  ...  ...   \n171966                      64               1.125000      Home   16   39   \n171967                      64               1.109375      Away   14   30   \n171968                      65               0.907692      Away   13   42   \n171969                      69               0.855072      Away   13   36   \n171970                      69               1.101449      Home   17   36   \n\n        Calculated Points  \n0                      44  \n1                      42  \n2                      71  \n3                     102  \n4                      55  \n...                   ...  \n171966                 72  \n171967                 71  \n171968                 59  \n171969                 59  \n171970                 76  \n\n[170419 rows x 35 columns]",
      "text/html": "<div>\n<style scoped>\n    .dataframe tbody tr th:only-of-type {\n        vertical-align: middle;\n    }\n\n    .dataframe tbody tr th {\n        vertical-align: top;\n    }\n\n    .dataframe thead th {\n        text-align: right;\n    }\n</style>\n<table border=\"1\" class=\"dataframe\">\n  <thead>\n    <tr style=\"text-align: right;\">\n      <th></th>\n      <th>Team</th>\n      <th>Res</th>\n      <th>Date</th>\n      <th>Opp</th>\n      <th>Loc</th>\n      <th>MIN</th>\n      <th>PTS</th>\n      <th>O-PPP</th>\n      <th>Pace</th>\n      <th>FGM</th>\n      <th>...</th>\n      <th>Year</th>\n      <th>Month</th>\n      <th>Day</th>\n      <th>Season</th>\n      <th>Calculated Possessions</th>\n      <th>Points Per Possession</th>\n      <th>Location</th>\n      <th>2FM</th>\n      <th>2FA</th>\n      <th>Calculated Points</th>\n    </tr>\n  </thead>\n  <tbody>\n    <tr>\n      <th>0</th>\n      <td>Richmond</td>\n      <td>W, 44-42</td>\n      <td>2007-11-05</td>\n      <td>Maine</td>\n      <td>N</td>\n      <td>200</td>\n      <td>44</td>\n      <td>0.663</td>\n      <td>65</td>\n      <td>17</td>\n      <td>...</td>\n      <td>2007</td>\n      <td>11</td>\n      <td>5</td>\n      <td>2008</td>\n      <td>66</td>\n      <td>0.666667</td>\n      <td>Neutral</td>\n      <td>13</td>\n      <td>30</td>\n      <td>44</td>\n    </tr>\n    <tr>\n      <th>1</th>\n      <td>Maine</td>\n      <td>L, 42-44</td>\n      <td>2007-11-05</td>\n      <td>Richmond</td>\n      <td>N</td>\n      <td>200</td>\n      <td>42</td>\n      <td>0.652</td>\n      <td>65</td>\n      <td>19</td>\n      <td>...</td>\n      <td>2007</td>\n      <td>11</td>\n      <td>5</td>\n      <td>2008</td>\n      <td>64</td>\n      <td>0.656250</td>\n      <td>Neutral</td>\n      <td>18</td>\n      <td>34</td>\n      <td>42</td>\n    </tr>\n    <tr>\n      <th>2</th>\n      <td>Tennessee-Martin</td>\n      <td>L, 71-102</td>\n      <td>2007-11-05</td>\n      <td>Memphis</td>\n      <td>V</td>\n      <td>200</td>\n      <td>71</td>\n      <td>0.785</td>\n      <td>90</td>\n      <td>24</td>\n      <td>...</td>\n      <td>2007</td>\n      <td>11</td>\n      <td>5</td>\n      <td>2008</td>\n      <td>91</td>\n      <td>0.780220</td>\n      <td>Away</td>\n      <td>14</td>\n      <td>40</td>\n      <td>71</td>\n    </tr>\n    <tr>\n      <th>3</th>\n      <td>Memphis</td>\n      <td>W, 102-71</td>\n      <td>2007-11-05</td>\n      <td>Tennessee-Martin</td>\n      <td>H</td>\n      <td>200</td>\n      <td>102</td>\n      <td>1.149</td>\n      <td>90</td>\n      <td>37</td>\n      <td>...</td>\n      <td>2007</td>\n      <td>11</td>\n      <td>5</td>\n      <td>2008</td>\n      <td>89</td>\n      <td>1.146067</td>\n      <td>Home</td>\n      <td>26</td>\n      <td>48</td>\n      <td>102</td>\n    </tr>\n    <tr>\n      <th>4</th>\n      <td>Alabama A&amp;M</td>\n      <td>L, 55-69</td>\n      <td>2007-11-06</td>\n      <td>Gardner-Webb</td>\n      <td>N</td>\n      <td>200</td>\n      <td>55</td>\n      <td>0.702</td>\n      <td>77</td>\n      <td>17</td>\n      <td>...</td>\n      <td>2007</td>\n      <td>11</td>\n      <td>6</td>\n      <td>2008</td>\n      <td>79</td>\n      <td>0.696203</td>\n      <td>Neutral</td>\n      <td>13</td>\n      <td>31</td>\n      <td>55</td>\n    </tr>\n    <tr>\n      <th>...</th>\n      <td>...</td>\n      <td>...</td>\n      <td>...</td>\n      <td>...</td>\n      <td>...</td>\n      <td>...</td>\n      <td>...</td>\n      <td>...</td>\n      <td>...</td>\n      <td>...</td>\n      <td>...</td>\n      <td>...</td>\n      <td>...</td>\n      <td>...</td>\n      <td>...</td>\n      <td>...</td>\n      <td>...</td>\n      <td>...</td>\n      <td>...</td>\n      <td>...</td>\n      <td>...</td>\n    </tr>\n    <tr>\n      <th>171966</th>\n      <td>San Diego State</td>\n      <td>W, 72-71</td>\n      <td>2023-04-01</td>\n      <td>FAU</td>\n      <td>H</td>\n      <td>195</td>\n      <td>72</td>\n      <td>1.135</td>\n      <td>64</td>\n      <td>25</td>\n      <td>...</td>\n      <td>2023</td>\n      <td>4</td>\n      <td>1</td>\n      <td>2023</td>\n      <td>64</td>\n      <td>1.125000</td>\n      <td>Home</td>\n      <td>16</td>\n      <td>39</td>\n      <td>72</td>\n    </tr>\n    <tr>\n      <th>171967</th>\n      <td>FAU</td>\n      <td>L, 71-72</td>\n      <td>2023-04-01</td>\n      <td>San Diego State</td>\n      <td>V</td>\n      <td>196</td>\n      <td>71</td>\n      <td>1.110</td>\n      <td>64</td>\n      <td>23</td>\n      <td>...</td>\n      <td>2023</td>\n      <td>4</td>\n      <td>1</td>\n      <td>2023</td>\n      <td>64</td>\n      <td>1.109375</td>\n      <td>Away</td>\n      <td>14</td>\n      <td>30</td>\n      <td>71</td>\n    </tr>\n    <tr>\n      <th>171968</th>\n      <td>Miami (Fla.)</td>\n      <td>L, 59-72</td>\n      <td>2023-04-01</td>\n      <td>Connecticut</td>\n      <td>V</td>\n      <td>195</td>\n      <td>59</td>\n      <td>0.912</td>\n      <td>64</td>\n      <td>20</td>\n      <td>...</td>\n      <td>2023</td>\n      <td>4</td>\n      <td>1</td>\n      <td>2023</td>\n      <td>65</td>\n      <td>0.907692</td>\n      <td>Away</td>\n      <td>13</td>\n      <td>42</td>\n      <td>59</td>\n    </tr>\n    <tr>\n      <th>171969</th>\n      <td>San Diego State</td>\n      <td>L, 59-76</td>\n      <td>2023-04-03</td>\n      <td>Connecticut</td>\n      <td>V</td>\n      <td>193</td>\n      <td>59</td>\n      <td>0.861</td>\n      <td>68</td>\n      <td>19</td>\n      <td>...</td>\n      <td>2023</td>\n      <td>4</td>\n      <td>3</td>\n      <td>2023</td>\n      <td>69</td>\n      <td>0.855072</td>\n      <td>Away</td>\n      <td>13</td>\n      <td>36</td>\n      <td>59</td>\n    </tr>\n    <tr>\n      <th>171970</th>\n      <td>Connecticut</td>\n      <td>W, 76-59</td>\n      <td>2023-04-03</td>\n      <td>San Diego State</td>\n      <td>H</td>\n      <td>192</td>\n      <td>76</td>\n      <td>1.104</td>\n      <td>68</td>\n      <td>23</td>\n      <td>...</td>\n      <td>2023</td>\n      <td>4</td>\n      <td>3</td>\n      <td>2023</td>\n      <td>69</td>\n      <td>1.101449</td>\n      <td>Home</td>\n      <td>17</td>\n      <td>36</td>\n      <td>76</td>\n    </tr>\n  </tbody>\n</table>\n<p>170419 rows × 35 columns</p>\n</div>"
     },
     "execution_count": 550,
     "metadata": {},
     "output_type": "execute_result"
    }
   ],
   "source": [
    "statline_df = statline_df.drop(columns=['Result Points', 'Result Points Allowed'])\n",
    "statline_df"
   ],
   "metadata": {
    "collapsed": false,
    "ExecuteTime": {
     "end_time": "2023-12-29T21:45:13.240147300Z",
     "start_time": "2023-12-29T21:45:13.151303900Z"
    }
   },
   "id": "d6d3fa12d6f6c52c",
   "execution_count": 550
  },
  {
   "cell_type": "markdown",
   "source": [
    "### Fix Incorrect Abbreviations for Northwestern and William & Mary"
   ],
   "metadata": {
    "collapsed": false
   },
   "id": "e04dda42b0cf670c"
  },
  {
   "cell_type": "markdown",
   "source": [
    "The mislabeling of Northwestern/Northeastern and William & Mary/ Western Michigan is handled here"
   ],
   "metadata": {
    "collapsed": false
   },
   "id": "c5efd4258f6af0ad"
  },
  {
   "cell_type": "code",
   "outputs": [
    {
     "data": {
      "text/plain": "                    Team        Res       Date               Opp Loc  MIN  \\\n0               Richmond   W, 44-42 2007-11-05             Maine   N  200   \n1                  Maine   L, 42-44 2007-11-05          Richmond   N  200   \n2       Tennessee-Martin  L, 71-102 2007-11-05           Memphis   V  200   \n3                Memphis  W, 102-71 2007-11-05  Tennessee-Martin   H  200   \n4            Alabama A&M   L, 55-69 2007-11-06      Gardner-Webb   N  200   \n...                  ...        ...        ...               ...  ..  ...   \n171966   San Diego State   W, 72-71 2023-04-01               FAU   H  195   \n171967               FAU   L, 71-72 2023-04-01   San Diego State   V  196   \n171968      Miami (Fla.)   L, 59-72 2023-04-01       Connecticut   V  195   \n171969   San Diego State   L, 59-76 2023-04-03       Connecticut   V  193   \n171970       Connecticut   W, 76-59 2023-04-03   San Diego State   H  192   \n\n        PTS  O-PPP  Pace  FGM  ...  Year  Month  Day  Season  \\\n0        44  0.663    65   17  ...  2007     11    5    2008   \n1        42  0.652    65   19  ...  2007     11    5    2008   \n2        71  0.785    90   24  ...  2007     11    5    2008   \n3       102  1.149    90   37  ...  2007     11    5    2008   \n4        55  0.702    77   17  ...  2007     11    6    2008   \n...     ...    ...   ...  ...  ...   ...    ...  ...     ...   \n171966   72  1.135    64   25  ...  2023      4    1    2023   \n171967   71  1.110    64   23  ...  2023      4    1    2023   \n171968   59  0.912    64   20  ...  2023      4    1    2023   \n171969   59  0.861    68   19  ...  2023      4    3    2023   \n171970   76  1.104    68   23  ...  2023      4    3    2023   \n\n        Calculated Possessions  Points Per Possession  Location  2FM  2FA  \\\n0                           66               0.666667   Neutral   13   30   \n1                           64               0.656250   Neutral   18   34   \n2                           91               0.780220      Away   14   40   \n3                           89               1.146067      Home   26   48   \n4                           79               0.696203   Neutral   13   31   \n...                        ...                    ...       ...  ...  ...   \n171966                      64               1.125000      Home   16   39   \n171967                      64               1.109375      Away   14   30   \n171968                      65               0.907692      Away   13   42   \n171969                      69               0.855072      Away   13   36   \n171970                      69               1.101449      Home   17   36   \n\n        Calculated Points  \n0                      44  \n1                      42  \n2                      71  \n3                     102  \n4                      55  \n...                   ...  \n171966                 72  \n171967                 71  \n171968                 59  \n171969                 59  \n171970                 76  \n\n[170419 rows x 35 columns]",
      "text/html": "<div>\n<style scoped>\n    .dataframe tbody tr th:only-of-type {\n        vertical-align: middle;\n    }\n\n    .dataframe tbody tr th {\n        vertical-align: top;\n    }\n\n    .dataframe thead th {\n        text-align: right;\n    }\n</style>\n<table border=\"1\" class=\"dataframe\">\n  <thead>\n    <tr style=\"text-align: right;\">\n      <th></th>\n      <th>Team</th>\n      <th>Res</th>\n      <th>Date</th>\n      <th>Opp</th>\n      <th>Loc</th>\n      <th>MIN</th>\n      <th>PTS</th>\n      <th>O-PPP</th>\n      <th>Pace</th>\n      <th>FGM</th>\n      <th>...</th>\n      <th>Year</th>\n      <th>Month</th>\n      <th>Day</th>\n      <th>Season</th>\n      <th>Calculated Possessions</th>\n      <th>Points Per Possession</th>\n      <th>Location</th>\n      <th>2FM</th>\n      <th>2FA</th>\n      <th>Calculated Points</th>\n    </tr>\n  </thead>\n  <tbody>\n    <tr>\n      <th>0</th>\n      <td>Richmond</td>\n      <td>W, 44-42</td>\n      <td>2007-11-05</td>\n      <td>Maine</td>\n      <td>N</td>\n      <td>200</td>\n      <td>44</td>\n      <td>0.663</td>\n      <td>65</td>\n      <td>17</td>\n      <td>...</td>\n      <td>2007</td>\n      <td>11</td>\n      <td>5</td>\n      <td>2008</td>\n      <td>66</td>\n      <td>0.666667</td>\n      <td>Neutral</td>\n      <td>13</td>\n      <td>30</td>\n      <td>44</td>\n    </tr>\n    <tr>\n      <th>1</th>\n      <td>Maine</td>\n      <td>L, 42-44</td>\n      <td>2007-11-05</td>\n      <td>Richmond</td>\n      <td>N</td>\n      <td>200</td>\n      <td>42</td>\n      <td>0.652</td>\n      <td>65</td>\n      <td>19</td>\n      <td>...</td>\n      <td>2007</td>\n      <td>11</td>\n      <td>5</td>\n      <td>2008</td>\n      <td>64</td>\n      <td>0.656250</td>\n      <td>Neutral</td>\n      <td>18</td>\n      <td>34</td>\n      <td>42</td>\n    </tr>\n    <tr>\n      <th>2</th>\n      <td>Tennessee-Martin</td>\n      <td>L, 71-102</td>\n      <td>2007-11-05</td>\n      <td>Memphis</td>\n      <td>V</td>\n      <td>200</td>\n      <td>71</td>\n      <td>0.785</td>\n      <td>90</td>\n      <td>24</td>\n      <td>...</td>\n      <td>2007</td>\n      <td>11</td>\n      <td>5</td>\n      <td>2008</td>\n      <td>91</td>\n      <td>0.780220</td>\n      <td>Away</td>\n      <td>14</td>\n      <td>40</td>\n      <td>71</td>\n    </tr>\n    <tr>\n      <th>3</th>\n      <td>Memphis</td>\n      <td>W, 102-71</td>\n      <td>2007-11-05</td>\n      <td>Tennessee-Martin</td>\n      <td>H</td>\n      <td>200</td>\n      <td>102</td>\n      <td>1.149</td>\n      <td>90</td>\n      <td>37</td>\n      <td>...</td>\n      <td>2007</td>\n      <td>11</td>\n      <td>5</td>\n      <td>2008</td>\n      <td>89</td>\n      <td>1.146067</td>\n      <td>Home</td>\n      <td>26</td>\n      <td>48</td>\n      <td>102</td>\n    </tr>\n    <tr>\n      <th>4</th>\n      <td>Alabama A&amp;M</td>\n      <td>L, 55-69</td>\n      <td>2007-11-06</td>\n      <td>Gardner-Webb</td>\n      <td>N</td>\n      <td>200</td>\n      <td>55</td>\n      <td>0.702</td>\n      <td>77</td>\n      <td>17</td>\n      <td>...</td>\n      <td>2007</td>\n      <td>11</td>\n      <td>6</td>\n      <td>2008</td>\n      <td>79</td>\n      <td>0.696203</td>\n      <td>Neutral</td>\n      <td>13</td>\n      <td>31</td>\n      <td>55</td>\n    </tr>\n    <tr>\n      <th>...</th>\n      <td>...</td>\n      <td>...</td>\n      <td>...</td>\n      <td>...</td>\n      <td>...</td>\n      <td>...</td>\n      <td>...</td>\n      <td>...</td>\n      <td>...</td>\n      <td>...</td>\n      <td>...</td>\n      <td>...</td>\n      <td>...</td>\n      <td>...</td>\n      <td>...</td>\n      <td>...</td>\n      <td>...</td>\n      <td>...</td>\n      <td>...</td>\n      <td>...</td>\n      <td>...</td>\n    </tr>\n    <tr>\n      <th>171966</th>\n      <td>San Diego State</td>\n      <td>W, 72-71</td>\n      <td>2023-04-01</td>\n      <td>FAU</td>\n      <td>H</td>\n      <td>195</td>\n      <td>72</td>\n      <td>1.135</td>\n      <td>64</td>\n      <td>25</td>\n      <td>...</td>\n      <td>2023</td>\n      <td>4</td>\n      <td>1</td>\n      <td>2023</td>\n      <td>64</td>\n      <td>1.125000</td>\n      <td>Home</td>\n      <td>16</td>\n      <td>39</td>\n      <td>72</td>\n    </tr>\n    <tr>\n      <th>171967</th>\n      <td>FAU</td>\n      <td>L, 71-72</td>\n      <td>2023-04-01</td>\n      <td>San Diego State</td>\n      <td>V</td>\n      <td>196</td>\n      <td>71</td>\n      <td>1.110</td>\n      <td>64</td>\n      <td>23</td>\n      <td>...</td>\n      <td>2023</td>\n      <td>4</td>\n      <td>1</td>\n      <td>2023</td>\n      <td>64</td>\n      <td>1.109375</td>\n      <td>Away</td>\n      <td>14</td>\n      <td>30</td>\n      <td>71</td>\n    </tr>\n    <tr>\n      <th>171968</th>\n      <td>Miami (Fla.)</td>\n      <td>L, 59-72</td>\n      <td>2023-04-01</td>\n      <td>Connecticut</td>\n      <td>V</td>\n      <td>195</td>\n      <td>59</td>\n      <td>0.912</td>\n      <td>64</td>\n      <td>20</td>\n      <td>...</td>\n      <td>2023</td>\n      <td>4</td>\n      <td>1</td>\n      <td>2023</td>\n      <td>65</td>\n      <td>0.907692</td>\n      <td>Away</td>\n      <td>13</td>\n      <td>42</td>\n      <td>59</td>\n    </tr>\n    <tr>\n      <th>171969</th>\n      <td>San Diego State</td>\n      <td>L, 59-76</td>\n      <td>2023-04-03</td>\n      <td>Connecticut</td>\n      <td>V</td>\n      <td>193</td>\n      <td>59</td>\n      <td>0.861</td>\n      <td>68</td>\n      <td>19</td>\n      <td>...</td>\n      <td>2023</td>\n      <td>4</td>\n      <td>3</td>\n      <td>2023</td>\n      <td>69</td>\n      <td>0.855072</td>\n      <td>Away</td>\n      <td>13</td>\n      <td>36</td>\n      <td>59</td>\n    </tr>\n    <tr>\n      <th>171970</th>\n      <td>Connecticut</td>\n      <td>W, 76-59</td>\n      <td>2023-04-03</td>\n      <td>San Diego State</td>\n      <td>H</td>\n      <td>192</td>\n      <td>76</td>\n      <td>1.104</td>\n      <td>68</td>\n      <td>23</td>\n      <td>...</td>\n      <td>2023</td>\n      <td>4</td>\n      <td>3</td>\n      <td>2023</td>\n      <td>69</td>\n      <td>1.101449</td>\n      <td>Home</td>\n      <td>17</td>\n      <td>36</td>\n      <td>76</td>\n    </tr>\n  </tbody>\n</table>\n<p>170419 rows × 35 columns</p>\n</div>"
     },
     "execution_count": 551,
     "metadata": {},
     "output_type": "execute_result"
    }
   ],
   "source": [
    "northwestern_games = statline_df.loc[statline_df['Team'] == 'Northwestern']\n",
    "for index, row in northwestern_games.iterrows():\n",
    "    opponent = row['Opp']\n",
    "    date = row['Date']\n",
    "    matches = statline_df.loc[((statline_df['Team'] == opponent) | (statline_df['Team'] == 'William & Mary') | (statline_df['Team'] == 'Western Michigan')) & \n",
    "                              (statline_df['Opp'] == 'NU') & \n",
    "                              (statline_df['Date'] == date)]\n",
    "    for matching_index, matching_row in matches.iterrows():\n",
    "        statline_df.at[matching_index, 'Opp'] = 'Northwestern'\n",
    "\n",
    "william_and_mary_games = statline_df.loc[statline_df['Team'] == 'William & Mary']\n",
    "for index, row in william_and_mary_games.iterrows():\n",
    "    opponent = row['Opp']\n",
    "    date = row['Date']\n",
    "    matches = statline_df.loc[((statline_df['Team'] == opponent) | (statline_df['Team'] == 'Northeastern') | (statline_df['Team'] == 'Northwestern')) &\n",
    "                              (statline_df['Opp'] == 'WMU') &\n",
    "                              (statline_df['Date'] == date)]\n",
    "    for matching_index, matching_row in matches.iterrows():\n",
    "        statline_df.at[matching_index, 'Opp'] = 'William & Mary'\n",
    "\n",
    "statline_df['Opp'] = statline_df.apply(lambda r: 'Northeastern' if r['Opp'] == 'NU' else r['Opp'], axis=1)\n",
    "statline_df['Opp'] = statline_df.apply(lambda r: 'Western Michigan' if r['Opp'] == 'WMU' else r['Opp'], axis=1)\n",
    "\n",
    "statline_df"
   ],
   "metadata": {
    "collapsed": false,
    "ExecuteTime": {
     "end_time": "2023-12-29T21:45:36.691543700Z",
     "start_time": "2023-12-29T21:45:13.230166300Z"
    }
   },
   "id": "c7492c9c9921d407",
   "execution_count": 551
  },
  {
   "cell_type": "markdown",
   "source": [
    "### Add UUID for Each Game"
   ],
   "metadata": {
    "collapsed": false
   },
   "id": "442c14f916e3232"
  },
  {
   "cell_type": "code",
   "outputs": [],
   "source": [
    "def get_loser_uuid(row):\n",
    "    if row['Victory'] == 1:\n",
    "        return row['UUID']\n",
    "\n",
    "    team = row['Team']\n",
    "    opp = row['Opp']\n",
    "    date = row['Date']\n",
    "    \n",
    "    counterpart = statline_df.loc[(statline_df['Team'] == opp) &\n",
    "                                  (statline_df['Opp'] == team) &\n",
    "                                  (statline_df['Date'] == date)]\n",
    "\n",
    "    if len(counterpart) != 1:\n",
    "        return row['UUID']\n",
    "\n",
    "    counterpart_uuid = counterpart.squeeze()['UUID']\n",
    "    return counterpart_uuid"
   ],
   "metadata": {
    "collapsed": false,
    "ExecuteTime": {
     "end_time": "2023-12-29T21:45:36.714500900Z",
     "start_time": "2023-12-29T21:45:36.693542800Z"
    }
   },
   "id": "2f9a6c8c49a92c66",
   "execution_count": 552
  },
  {
   "cell_type": "code",
   "outputs": [
    {
     "data": {
      "text/plain": "                    Team        Res       Date               Opp Loc  MIN  \\\n0               Richmond   W, 44-42 2007-11-05             Maine   N  200   \n1                  Maine   L, 42-44 2007-11-05          Richmond   N  200   \n2       Tennessee-Martin  L, 71-102 2007-11-05           Memphis   V  200   \n3                Memphis  W, 102-71 2007-11-05  Tennessee-Martin   H  200   \n4            Alabama A&M   L, 55-69 2007-11-06      Gardner-Webb   N  200   \n...                  ...        ...        ...               ...  ..  ...   \n171966   San Diego State   W, 72-71 2023-04-01               FAU   H  195   \n171967               FAU   L, 71-72 2023-04-01   San Diego State   V  196   \n171968      Miami (Fla.)   L, 59-72 2023-04-01       Connecticut   V  195   \n171969   San Diego State   L, 59-76 2023-04-03       Connecticut   V  193   \n171970       Connecticut   W, 76-59 2023-04-03   San Diego State   H  192   \n\n        PTS  O-PPP  Pace  FGM  ...  Month  Day  Season  \\\n0        44  0.663    65   17  ...     11    5    2008   \n1        42  0.652    65   19  ...     11    5    2008   \n2        71  0.785    90   24  ...     11    5    2008   \n3       102  1.149    90   37  ...     11    5    2008   \n4        55  0.702    77   17  ...     11    6    2008   \n...     ...    ...   ...  ...  ...    ...  ...     ...   \n171966   72  1.135    64   25  ...      4    1    2023   \n171967   71  1.110    64   23  ...      4    1    2023   \n171968   59  0.912    64   20  ...      4    1    2023   \n171969   59  0.861    68   19  ...      4    3    2023   \n171970   76  1.104    68   23  ...      4    3    2023   \n\n        Calculated Possessions  Points Per Possession  Location  2FM  2FA  \\\n0                           66               0.666667   Neutral   13   30   \n1                           64               0.656250   Neutral   18   34   \n2                           91               0.780220      Away   14   40   \n3                           89               1.146067      Home   26   48   \n4                           79               0.696203   Neutral   13   31   \n...                        ...                    ...       ...  ...  ...   \n171966                      64               1.125000      Home   16   39   \n171967                      64               1.109375      Away   14   30   \n171968                      65               0.907692      Away   13   42   \n171969                      69               0.855072      Away   13   36   \n171970                      69               1.101449      Home   17   36   \n\n        Calculated Points                                  UUID  \n0                      44  01dbf56d-681b-47e1-917a-af746d6f906d  \n1                      42  01dbf56d-681b-47e1-917a-af746d6f906d  \n2                      71  3a1dcea9-5dc4-4468-af40-bbdeb727914b  \n3                     102  3a1dcea9-5dc4-4468-af40-bbdeb727914b  \n4                      55  a83307d5-9410-475f-b95a-f054f5cb2111  \n...                   ...                                   ...  \n171966                 72  62792664-cb9d-46f6-a0ae-da5b4eac020a  \n171967                 71  62792664-cb9d-46f6-a0ae-da5b4eac020a  \n171968                 59  7ed7115c-cb3a-43d4-9aff-d05ffa5b0156  \n171969                 59  9ba510b2-bd9b-4180-9602-0042dc6bd324  \n171970                 76  9ba510b2-bd9b-4180-9602-0042dc6bd324  \n\n[170419 rows x 36 columns]",
      "text/html": "<div>\n<style scoped>\n    .dataframe tbody tr th:only-of-type {\n        vertical-align: middle;\n    }\n\n    .dataframe tbody tr th {\n        vertical-align: top;\n    }\n\n    .dataframe thead th {\n        text-align: right;\n    }\n</style>\n<table border=\"1\" class=\"dataframe\">\n  <thead>\n    <tr style=\"text-align: right;\">\n      <th></th>\n      <th>Team</th>\n      <th>Res</th>\n      <th>Date</th>\n      <th>Opp</th>\n      <th>Loc</th>\n      <th>MIN</th>\n      <th>PTS</th>\n      <th>O-PPP</th>\n      <th>Pace</th>\n      <th>FGM</th>\n      <th>...</th>\n      <th>Month</th>\n      <th>Day</th>\n      <th>Season</th>\n      <th>Calculated Possessions</th>\n      <th>Points Per Possession</th>\n      <th>Location</th>\n      <th>2FM</th>\n      <th>2FA</th>\n      <th>Calculated Points</th>\n      <th>UUID</th>\n    </tr>\n  </thead>\n  <tbody>\n    <tr>\n      <th>0</th>\n      <td>Richmond</td>\n      <td>W, 44-42</td>\n      <td>2007-11-05</td>\n      <td>Maine</td>\n      <td>N</td>\n      <td>200</td>\n      <td>44</td>\n      <td>0.663</td>\n      <td>65</td>\n      <td>17</td>\n      <td>...</td>\n      <td>11</td>\n      <td>5</td>\n      <td>2008</td>\n      <td>66</td>\n      <td>0.666667</td>\n      <td>Neutral</td>\n      <td>13</td>\n      <td>30</td>\n      <td>44</td>\n      <td>01dbf56d-681b-47e1-917a-af746d6f906d</td>\n    </tr>\n    <tr>\n      <th>1</th>\n      <td>Maine</td>\n      <td>L, 42-44</td>\n      <td>2007-11-05</td>\n      <td>Richmond</td>\n      <td>N</td>\n      <td>200</td>\n      <td>42</td>\n      <td>0.652</td>\n      <td>65</td>\n      <td>19</td>\n      <td>...</td>\n      <td>11</td>\n      <td>5</td>\n      <td>2008</td>\n      <td>64</td>\n      <td>0.656250</td>\n      <td>Neutral</td>\n      <td>18</td>\n      <td>34</td>\n      <td>42</td>\n      <td>01dbf56d-681b-47e1-917a-af746d6f906d</td>\n    </tr>\n    <tr>\n      <th>2</th>\n      <td>Tennessee-Martin</td>\n      <td>L, 71-102</td>\n      <td>2007-11-05</td>\n      <td>Memphis</td>\n      <td>V</td>\n      <td>200</td>\n      <td>71</td>\n      <td>0.785</td>\n      <td>90</td>\n      <td>24</td>\n      <td>...</td>\n      <td>11</td>\n      <td>5</td>\n      <td>2008</td>\n      <td>91</td>\n      <td>0.780220</td>\n      <td>Away</td>\n      <td>14</td>\n      <td>40</td>\n      <td>71</td>\n      <td>3a1dcea9-5dc4-4468-af40-bbdeb727914b</td>\n    </tr>\n    <tr>\n      <th>3</th>\n      <td>Memphis</td>\n      <td>W, 102-71</td>\n      <td>2007-11-05</td>\n      <td>Tennessee-Martin</td>\n      <td>H</td>\n      <td>200</td>\n      <td>102</td>\n      <td>1.149</td>\n      <td>90</td>\n      <td>37</td>\n      <td>...</td>\n      <td>11</td>\n      <td>5</td>\n      <td>2008</td>\n      <td>89</td>\n      <td>1.146067</td>\n      <td>Home</td>\n      <td>26</td>\n      <td>48</td>\n      <td>102</td>\n      <td>3a1dcea9-5dc4-4468-af40-bbdeb727914b</td>\n    </tr>\n    <tr>\n      <th>4</th>\n      <td>Alabama A&amp;M</td>\n      <td>L, 55-69</td>\n      <td>2007-11-06</td>\n      <td>Gardner-Webb</td>\n      <td>N</td>\n      <td>200</td>\n      <td>55</td>\n      <td>0.702</td>\n      <td>77</td>\n      <td>17</td>\n      <td>...</td>\n      <td>11</td>\n      <td>6</td>\n      <td>2008</td>\n      <td>79</td>\n      <td>0.696203</td>\n      <td>Neutral</td>\n      <td>13</td>\n      <td>31</td>\n      <td>55</td>\n      <td>a83307d5-9410-475f-b95a-f054f5cb2111</td>\n    </tr>\n    <tr>\n      <th>...</th>\n      <td>...</td>\n      <td>...</td>\n      <td>...</td>\n      <td>...</td>\n      <td>...</td>\n      <td>...</td>\n      <td>...</td>\n      <td>...</td>\n      <td>...</td>\n      <td>...</td>\n      <td>...</td>\n      <td>...</td>\n      <td>...</td>\n      <td>...</td>\n      <td>...</td>\n      <td>...</td>\n      <td>...</td>\n      <td>...</td>\n      <td>...</td>\n      <td>...</td>\n      <td>...</td>\n    </tr>\n    <tr>\n      <th>171966</th>\n      <td>San Diego State</td>\n      <td>W, 72-71</td>\n      <td>2023-04-01</td>\n      <td>FAU</td>\n      <td>H</td>\n      <td>195</td>\n      <td>72</td>\n      <td>1.135</td>\n      <td>64</td>\n      <td>25</td>\n      <td>...</td>\n      <td>4</td>\n      <td>1</td>\n      <td>2023</td>\n      <td>64</td>\n      <td>1.125000</td>\n      <td>Home</td>\n      <td>16</td>\n      <td>39</td>\n      <td>72</td>\n      <td>62792664-cb9d-46f6-a0ae-da5b4eac020a</td>\n    </tr>\n    <tr>\n      <th>171967</th>\n      <td>FAU</td>\n      <td>L, 71-72</td>\n      <td>2023-04-01</td>\n      <td>San Diego State</td>\n      <td>V</td>\n      <td>196</td>\n      <td>71</td>\n      <td>1.110</td>\n      <td>64</td>\n      <td>23</td>\n      <td>...</td>\n      <td>4</td>\n      <td>1</td>\n      <td>2023</td>\n      <td>64</td>\n      <td>1.109375</td>\n      <td>Away</td>\n      <td>14</td>\n      <td>30</td>\n      <td>71</td>\n      <td>62792664-cb9d-46f6-a0ae-da5b4eac020a</td>\n    </tr>\n    <tr>\n      <th>171968</th>\n      <td>Miami (Fla.)</td>\n      <td>L, 59-72</td>\n      <td>2023-04-01</td>\n      <td>Connecticut</td>\n      <td>V</td>\n      <td>195</td>\n      <td>59</td>\n      <td>0.912</td>\n      <td>64</td>\n      <td>20</td>\n      <td>...</td>\n      <td>4</td>\n      <td>1</td>\n      <td>2023</td>\n      <td>65</td>\n      <td>0.907692</td>\n      <td>Away</td>\n      <td>13</td>\n      <td>42</td>\n      <td>59</td>\n      <td>7ed7115c-cb3a-43d4-9aff-d05ffa5b0156</td>\n    </tr>\n    <tr>\n      <th>171969</th>\n      <td>San Diego State</td>\n      <td>L, 59-76</td>\n      <td>2023-04-03</td>\n      <td>Connecticut</td>\n      <td>V</td>\n      <td>193</td>\n      <td>59</td>\n      <td>0.861</td>\n      <td>68</td>\n      <td>19</td>\n      <td>...</td>\n      <td>4</td>\n      <td>3</td>\n      <td>2023</td>\n      <td>69</td>\n      <td>0.855072</td>\n      <td>Away</td>\n      <td>13</td>\n      <td>36</td>\n      <td>59</td>\n      <td>9ba510b2-bd9b-4180-9602-0042dc6bd324</td>\n    </tr>\n    <tr>\n      <th>171970</th>\n      <td>Connecticut</td>\n      <td>W, 76-59</td>\n      <td>2023-04-03</td>\n      <td>San Diego State</td>\n      <td>H</td>\n      <td>192</td>\n      <td>76</td>\n      <td>1.104</td>\n      <td>68</td>\n      <td>23</td>\n      <td>...</td>\n      <td>4</td>\n      <td>3</td>\n      <td>2023</td>\n      <td>69</td>\n      <td>1.101449</td>\n      <td>Home</td>\n      <td>17</td>\n      <td>36</td>\n      <td>76</td>\n      <td>9ba510b2-bd9b-4180-9602-0042dc6bd324</td>\n    </tr>\n  </tbody>\n</table>\n<p>170419 rows × 36 columns</p>\n</div>"
     },
     "execution_count": 553,
     "metadata": {},
     "output_type": "execute_result"
    }
   ],
   "source": [
    "statline_df['UUID'] = statline_df.apply(lambda r: str(uuid.uuid4()) if r['Victory'] == 1 else None, axis=1)\n",
    "statline_df['UUID'] = statline_df.apply(lambda r: get_loser_uuid(r), axis=1)\n",
    "statline_df"
   ],
   "metadata": {
    "collapsed": false,
    "ExecuteTime": {
     "end_time": "2023-12-29T22:02:01.925103300Z",
     "start_time": "2023-12-29T21:45:36.709009900Z"
    }
   },
   "id": "94072770d638fdfd",
   "execution_count": 553
  },
  {
   "cell_type": "code",
   "outputs": [
    {
     "data": {
      "text/plain": "                    Team        Res       Date               Opp Loc  MIN  \\\n0               Richmond   W, 44-42 2007-11-05             Maine   N  200   \n1                  Maine   L, 42-44 2007-11-05          Richmond   N  200   \n2       Tennessee-Martin  L, 71-102 2007-11-05           Memphis   V  200   \n3                Memphis  W, 102-71 2007-11-05  Tennessee-Martin   H  200   \n5               Richmond   L, 63-80 2007-11-06           Memphis   V  200   \n...                  ...        ...        ...               ...  ..  ...   \n171967               FAU   L, 71-72 2023-04-01   San Diego State   V  196   \n171965       Connecticut   W, 72-59 2023-04-01      Miami (Fla.)   H  195   \n171968      Miami (Fla.)   L, 59-72 2023-04-01       Connecticut   V  195   \n171969   San Diego State   L, 59-76 2023-04-03       Connecticut   V  193   \n171970       Connecticut   W, 76-59 2023-04-03   San Diego State   H  192   \n\n        PTS  O-PPP  Pace  FGM  ...  Month  Day  Season  \\\n0        44  0.663    65   17  ...     11    5    2008   \n1        42  0.652    65   19  ...     11    5    2008   \n2        71  0.785    90   24  ...     11    5    2008   \n3       102  1.149    90   37  ...     11    5    2008   \n5        63  0.801    76   24  ...     11    6    2008   \n...     ...    ...   ...  ...  ...    ...  ...     ...   \n171967   71  1.110    64   23  ...      4    1    2023   \n171965   72  1.122    64   28  ...      4    1    2023   \n171968   59  0.912    64   20  ...      4    1    2023   \n171969   59  0.861    68   19  ...      4    3    2023   \n171970   76  1.104    68   23  ...      4    3    2023   \n\n        Calculated Possessions  Points Per Possession  Location  2FM  2FA  \\\n0                           66               0.666667   Neutral   13   30   \n1                           64               0.656250   Neutral   18   34   \n2                           91               0.780220      Away   14   40   \n3                           89               1.146067      Home   26   48   \n5                           79               0.797468      Away   16   41   \n...                        ...                    ...       ...  ...  ...   \n171967                      64               1.109375      Away   14   30   \n171965                      64               1.125000      Home   19   31   \n171968                      65               0.907692      Away   13   42   \n171969                      69               0.855072      Away   13   36   \n171970                      69               1.101449      Home   17   36   \n\n        Calculated Points                                  UUID  \n0                      44  01dbf56d-681b-47e1-917a-af746d6f906d  \n1                      42  01dbf56d-681b-47e1-917a-af746d6f906d  \n2                      71  3a1dcea9-5dc4-4468-af40-bbdeb727914b  \n3                     102  3a1dcea9-5dc4-4468-af40-bbdeb727914b  \n5                      63  4ced5612-488a-42dd-ac40-cd016d5f7644  \n...                   ...                                   ...  \n171967                 71  62792664-cb9d-46f6-a0ae-da5b4eac020a  \n171965                 72  7ed7115c-cb3a-43d4-9aff-d05ffa5b0156  \n171968                 59  7ed7115c-cb3a-43d4-9aff-d05ffa5b0156  \n171969                 59  9ba510b2-bd9b-4180-9602-0042dc6bd324  \n171970                 76  9ba510b2-bd9b-4180-9602-0042dc6bd324  \n\n[170419 rows x 36 columns]",
      "text/html": "<div>\n<style scoped>\n    .dataframe tbody tr th:only-of-type {\n        vertical-align: middle;\n    }\n\n    .dataframe tbody tr th {\n        vertical-align: top;\n    }\n\n    .dataframe thead th {\n        text-align: right;\n    }\n</style>\n<table border=\"1\" class=\"dataframe\">\n  <thead>\n    <tr style=\"text-align: right;\">\n      <th></th>\n      <th>Team</th>\n      <th>Res</th>\n      <th>Date</th>\n      <th>Opp</th>\n      <th>Loc</th>\n      <th>MIN</th>\n      <th>PTS</th>\n      <th>O-PPP</th>\n      <th>Pace</th>\n      <th>FGM</th>\n      <th>...</th>\n      <th>Month</th>\n      <th>Day</th>\n      <th>Season</th>\n      <th>Calculated Possessions</th>\n      <th>Points Per Possession</th>\n      <th>Location</th>\n      <th>2FM</th>\n      <th>2FA</th>\n      <th>Calculated Points</th>\n      <th>UUID</th>\n    </tr>\n  </thead>\n  <tbody>\n    <tr>\n      <th>0</th>\n      <td>Richmond</td>\n      <td>W, 44-42</td>\n      <td>2007-11-05</td>\n      <td>Maine</td>\n      <td>N</td>\n      <td>200</td>\n      <td>44</td>\n      <td>0.663</td>\n      <td>65</td>\n      <td>17</td>\n      <td>...</td>\n      <td>11</td>\n      <td>5</td>\n      <td>2008</td>\n      <td>66</td>\n      <td>0.666667</td>\n      <td>Neutral</td>\n      <td>13</td>\n      <td>30</td>\n      <td>44</td>\n      <td>01dbf56d-681b-47e1-917a-af746d6f906d</td>\n    </tr>\n    <tr>\n      <th>1</th>\n      <td>Maine</td>\n      <td>L, 42-44</td>\n      <td>2007-11-05</td>\n      <td>Richmond</td>\n      <td>N</td>\n      <td>200</td>\n      <td>42</td>\n      <td>0.652</td>\n      <td>65</td>\n      <td>19</td>\n      <td>...</td>\n      <td>11</td>\n      <td>5</td>\n      <td>2008</td>\n      <td>64</td>\n      <td>0.656250</td>\n      <td>Neutral</td>\n      <td>18</td>\n      <td>34</td>\n      <td>42</td>\n      <td>01dbf56d-681b-47e1-917a-af746d6f906d</td>\n    </tr>\n    <tr>\n      <th>2</th>\n      <td>Tennessee-Martin</td>\n      <td>L, 71-102</td>\n      <td>2007-11-05</td>\n      <td>Memphis</td>\n      <td>V</td>\n      <td>200</td>\n      <td>71</td>\n      <td>0.785</td>\n      <td>90</td>\n      <td>24</td>\n      <td>...</td>\n      <td>11</td>\n      <td>5</td>\n      <td>2008</td>\n      <td>91</td>\n      <td>0.780220</td>\n      <td>Away</td>\n      <td>14</td>\n      <td>40</td>\n      <td>71</td>\n      <td>3a1dcea9-5dc4-4468-af40-bbdeb727914b</td>\n    </tr>\n    <tr>\n      <th>3</th>\n      <td>Memphis</td>\n      <td>W, 102-71</td>\n      <td>2007-11-05</td>\n      <td>Tennessee-Martin</td>\n      <td>H</td>\n      <td>200</td>\n      <td>102</td>\n      <td>1.149</td>\n      <td>90</td>\n      <td>37</td>\n      <td>...</td>\n      <td>11</td>\n      <td>5</td>\n      <td>2008</td>\n      <td>89</td>\n      <td>1.146067</td>\n      <td>Home</td>\n      <td>26</td>\n      <td>48</td>\n      <td>102</td>\n      <td>3a1dcea9-5dc4-4468-af40-bbdeb727914b</td>\n    </tr>\n    <tr>\n      <th>5</th>\n      <td>Richmond</td>\n      <td>L, 63-80</td>\n      <td>2007-11-06</td>\n      <td>Memphis</td>\n      <td>V</td>\n      <td>200</td>\n      <td>63</td>\n      <td>0.801</td>\n      <td>76</td>\n      <td>24</td>\n      <td>...</td>\n      <td>11</td>\n      <td>6</td>\n      <td>2008</td>\n      <td>79</td>\n      <td>0.797468</td>\n      <td>Away</td>\n      <td>16</td>\n      <td>41</td>\n      <td>63</td>\n      <td>4ced5612-488a-42dd-ac40-cd016d5f7644</td>\n    </tr>\n    <tr>\n      <th>...</th>\n      <td>...</td>\n      <td>...</td>\n      <td>...</td>\n      <td>...</td>\n      <td>...</td>\n      <td>...</td>\n      <td>...</td>\n      <td>...</td>\n      <td>...</td>\n      <td>...</td>\n      <td>...</td>\n      <td>...</td>\n      <td>...</td>\n      <td>...</td>\n      <td>...</td>\n      <td>...</td>\n      <td>...</td>\n      <td>...</td>\n      <td>...</td>\n      <td>...</td>\n      <td>...</td>\n    </tr>\n    <tr>\n      <th>171967</th>\n      <td>FAU</td>\n      <td>L, 71-72</td>\n      <td>2023-04-01</td>\n      <td>San Diego State</td>\n      <td>V</td>\n      <td>196</td>\n      <td>71</td>\n      <td>1.110</td>\n      <td>64</td>\n      <td>23</td>\n      <td>...</td>\n      <td>4</td>\n      <td>1</td>\n      <td>2023</td>\n      <td>64</td>\n      <td>1.109375</td>\n      <td>Away</td>\n      <td>14</td>\n      <td>30</td>\n      <td>71</td>\n      <td>62792664-cb9d-46f6-a0ae-da5b4eac020a</td>\n    </tr>\n    <tr>\n      <th>171965</th>\n      <td>Connecticut</td>\n      <td>W, 72-59</td>\n      <td>2023-04-01</td>\n      <td>Miami (Fla.)</td>\n      <td>H</td>\n      <td>195</td>\n      <td>72</td>\n      <td>1.122</td>\n      <td>64</td>\n      <td>28</td>\n      <td>...</td>\n      <td>4</td>\n      <td>1</td>\n      <td>2023</td>\n      <td>64</td>\n      <td>1.125000</td>\n      <td>Home</td>\n      <td>19</td>\n      <td>31</td>\n      <td>72</td>\n      <td>7ed7115c-cb3a-43d4-9aff-d05ffa5b0156</td>\n    </tr>\n    <tr>\n      <th>171968</th>\n      <td>Miami (Fla.)</td>\n      <td>L, 59-72</td>\n      <td>2023-04-01</td>\n      <td>Connecticut</td>\n      <td>V</td>\n      <td>195</td>\n      <td>59</td>\n      <td>0.912</td>\n      <td>64</td>\n      <td>20</td>\n      <td>...</td>\n      <td>4</td>\n      <td>1</td>\n      <td>2023</td>\n      <td>65</td>\n      <td>0.907692</td>\n      <td>Away</td>\n      <td>13</td>\n      <td>42</td>\n      <td>59</td>\n      <td>7ed7115c-cb3a-43d4-9aff-d05ffa5b0156</td>\n    </tr>\n    <tr>\n      <th>171969</th>\n      <td>San Diego State</td>\n      <td>L, 59-76</td>\n      <td>2023-04-03</td>\n      <td>Connecticut</td>\n      <td>V</td>\n      <td>193</td>\n      <td>59</td>\n      <td>0.861</td>\n      <td>68</td>\n      <td>19</td>\n      <td>...</td>\n      <td>4</td>\n      <td>3</td>\n      <td>2023</td>\n      <td>69</td>\n      <td>0.855072</td>\n      <td>Away</td>\n      <td>13</td>\n      <td>36</td>\n      <td>59</td>\n      <td>9ba510b2-bd9b-4180-9602-0042dc6bd324</td>\n    </tr>\n    <tr>\n      <th>171970</th>\n      <td>Connecticut</td>\n      <td>W, 76-59</td>\n      <td>2023-04-03</td>\n      <td>San Diego State</td>\n      <td>H</td>\n      <td>192</td>\n      <td>76</td>\n      <td>1.104</td>\n      <td>68</td>\n      <td>23</td>\n      <td>...</td>\n      <td>4</td>\n      <td>3</td>\n      <td>2023</td>\n      <td>69</td>\n      <td>1.101449</td>\n      <td>Home</td>\n      <td>17</td>\n      <td>36</td>\n      <td>76</td>\n      <td>9ba510b2-bd9b-4180-9602-0042dc6bd324</td>\n    </tr>\n  </tbody>\n</table>\n<p>170419 rows × 36 columns</p>\n</div>"
     },
     "execution_count": 554,
     "metadata": {},
     "output_type": "execute_result"
    }
   ],
   "source": [
    "statline_df = statline_df.sort_values(by=['Date', 'UUID'], kind='mergesort')\n",
    "statline_df"
   ],
   "metadata": {
    "collapsed": false,
    "ExecuteTime": {
     "end_time": "2023-12-29T22:02:02.099997Z",
     "start_time": "2023-12-29T22:02:01.925103300Z"
    }
   },
   "id": "740b44e0bc5c1790",
   "execution_count": 554
  },
  {
   "cell_type": "markdown",
   "source": [
    "There are 13 observations where the counterpart for the teams opponent is missing"
   ],
   "metadata": {
    "collapsed": false
   },
   "id": "cae322083e4a64c0"
  },
  {
   "cell_type": "code",
   "outputs": [
    {
     "data": {
      "text/plain": "                     Team       Res       Date                    Opp Loc  \\\n26416       Montana State  L, 61-71 2010-01-18       Central Arkansas   V   \n84460              Lehigh  L, 55-61 2015-02-28                Colgate   V   \n147984      Saint Peter`s  L, 65-78 2021-02-27                  Rider   H   \n148020      South Alabama  L, 73-82 2021-02-27          Georgia State   H   \n148080          Charlotte  L, 62-77 2021-02-28                   UTEP   V   \n160332             Albany  L, 62-67 2022-11-07                 Towson   V   \n160378  Houston Christian  L, 66-77 2022-11-07  Florida International   V   \n\n        MIN  PTS  O-PPP  Pace  FGM  ...  Month  Day  Season  \\\n26416   200   61  0.966    63   23  ...      1   18    2010   \n84460    77    0  0.000     0    0  ...      2   28    2015   \n147984    7    0  0.000     0    0  ...      2   27    2021   \n148020   37    9  0.818    11    3  ...      2   27    2021   \n148080   15    4  1.000     2    2  ...      2   28    2021   \n160332  194   62  0.932    67   19  ...     11    7    2023   \n160378  102   21  0.519    40    8  ...     11    7    2023   \n\n        Calculated Possessions  Points Per Possession  Location  2FM  2FA  \\\n26416                       63               0.968254      Away   17   28   \n84460                        0               0.000000      Away    0    0   \n147984                       1               0.000000      Home    0    1   \n148020                      11               0.818182      Home    0    1   \n148080                       4               1.000000      Away    2    2   \n160332                      67               0.925373      Away    9   22   \n160378                      40               0.525000      Away    5   19   \n\n        Calculated Points  UUID  \n26416                  61  None  \n84460                   0  None  \n147984                  0  None  \n148020                  9  None  \n148080                  4  None  \n160332                 62  None  \n160378                 21  None  \n\n[7 rows x 36 columns]",
      "text/html": "<div>\n<style scoped>\n    .dataframe tbody tr th:only-of-type {\n        vertical-align: middle;\n    }\n\n    .dataframe tbody tr th {\n        vertical-align: top;\n    }\n\n    .dataframe thead th {\n        text-align: right;\n    }\n</style>\n<table border=\"1\" class=\"dataframe\">\n  <thead>\n    <tr style=\"text-align: right;\">\n      <th></th>\n      <th>Team</th>\n      <th>Res</th>\n      <th>Date</th>\n      <th>Opp</th>\n      <th>Loc</th>\n      <th>MIN</th>\n      <th>PTS</th>\n      <th>O-PPP</th>\n      <th>Pace</th>\n      <th>FGM</th>\n      <th>...</th>\n      <th>Month</th>\n      <th>Day</th>\n      <th>Season</th>\n      <th>Calculated Possessions</th>\n      <th>Points Per Possession</th>\n      <th>Location</th>\n      <th>2FM</th>\n      <th>2FA</th>\n      <th>Calculated Points</th>\n      <th>UUID</th>\n    </tr>\n  </thead>\n  <tbody>\n    <tr>\n      <th>26416</th>\n      <td>Montana State</td>\n      <td>L, 61-71</td>\n      <td>2010-01-18</td>\n      <td>Central Arkansas</td>\n      <td>V</td>\n      <td>200</td>\n      <td>61</td>\n      <td>0.966</td>\n      <td>63</td>\n      <td>23</td>\n      <td>...</td>\n      <td>1</td>\n      <td>18</td>\n      <td>2010</td>\n      <td>63</td>\n      <td>0.968254</td>\n      <td>Away</td>\n      <td>17</td>\n      <td>28</td>\n      <td>61</td>\n      <td>None</td>\n    </tr>\n    <tr>\n      <th>84460</th>\n      <td>Lehigh</td>\n      <td>L, 55-61</td>\n      <td>2015-02-28</td>\n      <td>Colgate</td>\n      <td>V</td>\n      <td>77</td>\n      <td>0</td>\n      <td>0.000</td>\n      <td>0</td>\n      <td>0</td>\n      <td>...</td>\n      <td>2</td>\n      <td>28</td>\n      <td>2015</td>\n      <td>0</td>\n      <td>0.000000</td>\n      <td>Away</td>\n      <td>0</td>\n      <td>0</td>\n      <td>0</td>\n      <td>None</td>\n    </tr>\n    <tr>\n      <th>147984</th>\n      <td>Saint Peter`s</td>\n      <td>L, 65-78</td>\n      <td>2021-02-27</td>\n      <td>Rider</td>\n      <td>H</td>\n      <td>7</td>\n      <td>0</td>\n      <td>0.000</td>\n      <td>0</td>\n      <td>0</td>\n      <td>...</td>\n      <td>2</td>\n      <td>27</td>\n      <td>2021</td>\n      <td>1</td>\n      <td>0.000000</td>\n      <td>Home</td>\n      <td>0</td>\n      <td>1</td>\n      <td>0</td>\n      <td>None</td>\n    </tr>\n    <tr>\n      <th>148020</th>\n      <td>South Alabama</td>\n      <td>L, 73-82</td>\n      <td>2021-02-27</td>\n      <td>Georgia State</td>\n      <td>H</td>\n      <td>37</td>\n      <td>9</td>\n      <td>0.818</td>\n      <td>11</td>\n      <td>3</td>\n      <td>...</td>\n      <td>2</td>\n      <td>27</td>\n      <td>2021</td>\n      <td>11</td>\n      <td>0.818182</td>\n      <td>Home</td>\n      <td>0</td>\n      <td>1</td>\n      <td>9</td>\n      <td>None</td>\n    </tr>\n    <tr>\n      <th>148080</th>\n      <td>Charlotte</td>\n      <td>L, 62-77</td>\n      <td>2021-02-28</td>\n      <td>UTEP</td>\n      <td>V</td>\n      <td>15</td>\n      <td>4</td>\n      <td>1.000</td>\n      <td>2</td>\n      <td>2</td>\n      <td>...</td>\n      <td>2</td>\n      <td>28</td>\n      <td>2021</td>\n      <td>4</td>\n      <td>1.000000</td>\n      <td>Away</td>\n      <td>2</td>\n      <td>2</td>\n      <td>4</td>\n      <td>None</td>\n    </tr>\n    <tr>\n      <th>160332</th>\n      <td>Albany</td>\n      <td>L, 62-67</td>\n      <td>2022-11-07</td>\n      <td>Towson</td>\n      <td>V</td>\n      <td>194</td>\n      <td>62</td>\n      <td>0.932</td>\n      <td>67</td>\n      <td>19</td>\n      <td>...</td>\n      <td>11</td>\n      <td>7</td>\n      <td>2023</td>\n      <td>67</td>\n      <td>0.925373</td>\n      <td>Away</td>\n      <td>9</td>\n      <td>22</td>\n      <td>62</td>\n      <td>None</td>\n    </tr>\n    <tr>\n      <th>160378</th>\n      <td>Houston Christian</td>\n      <td>L, 66-77</td>\n      <td>2022-11-07</td>\n      <td>Florida International</td>\n      <td>V</td>\n      <td>102</td>\n      <td>21</td>\n      <td>0.519</td>\n      <td>40</td>\n      <td>8</td>\n      <td>...</td>\n      <td>11</td>\n      <td>7</td>\n      <td>2023</td>\n      <td>40</td>\n      <td>0.525000</td>\n      <td>Away</td>\n      <td>5</td>\n      <td>19</td>\n      <td>21</td>\n      <td>None</td>\n    </tr>\n  </tbody>\n</table>\n<p>7 rows × 36 columns</p>\n</div>"
     },
     "execution_count": 555,
     "metadata": {},
     "output_type": "execute_result"
    }
   ],
   "source": [
    "missing_df = statline_df.loc[statline_df['UUID'].isna()]\n",
    "missing_df"
   ],
   "metadata": {
    "collapsed": false,
    "ExecuteTime": {
     "end_time": "2023-12-29T22:02:02.190975300Z",
     "start_time": "2023-12-29T22:02:02.095014200Z"
    }
   },
   "id": "76fcdf4f8cb7f0d3",
   "execution_count": 555
  },
  {
   "cell_type": "code",
   "outputs": [
    {
     "data": {
      "text/plain": "                     Team       Res       Date                     Opp Loc  \\\n21576        Miami (Fla.)  W, 74-54 2009-11-20                  Tulane   N   \n143865  Sam Houston State  W, 70-52 2021-01-06  Southeastern Louisiana   V   \n144347  Sam Houston State  W, 96-71 2021-01-13                   Lamar   H   \n144767  Sam Houston State  W, 87-80 2021-01-16       Houston Christian   H   \n144914  Sam Houston State  W, 64-57 2021-01-20       Abilene Christian   H   \n146267  Sam Houston State  W, 78-71 2021-02-06          Nicholls State   H   \n\n        MIN  PTS  O-PPP  Pace  FGM  ...  Month  Day  Season  \\\n21576   200   67  0.913    73   26  ...     11   20    2010   \n143865  197   70  0.989    71   26  ...      1    6    2021   \n144347  193   96  1.213    79   36  ...      1   13    2021   \n144767  195   87  1.178    74   29  ...      1   16    2021   \n144914  195   64  0.965    66   21  ...      1   20    2021   \n146267  195   78  0.946    82   28  ...      2    6    2021   \n\n        Calculated Possessions  Points Per Possession  Location  2FM  2FA  \\\n21576                       74               0.905405   Neutral   23   41   \n143865                      71               0.985915      Away   12   31   \n144347                      79               1.215190      Home   22   34   \n144767                      74               1.175676      Home   17   34   \n144914                      67               0.955224      Home   15   36   \n146267                      83               0.939759      Home   20   40   \n\n        Calculated Points                                  UUID  \n21576                  67  ba255257-2baa-401a-830d-140d7717a7b6  \n143865                 70  bcb54ca1-97f4-4832-8eb2-30c5a5c18743  \n144347                 96  1dfcc023-7002-4f6c-8bea-e09e162eb8b4  \n144767                 87  89f466d6-25dc-4c67-abc3-6485914e458d  \n144914                 64  f7022066-ee65-4692-95fa-de03083de1ee  \n146267                 78  3e5cb6be-7b85-4985-af65-1dd2294ba8c4  \n\n[6 rows x 36 columns]",
      "text/html": "<div>\n<style scoped>\n    .dataframe tbody tr th:only-of-type {\n        vertical-align: middle;\n    }\n\n    .dataframe tbody tr th {\n        vertical-align: top;\n    }\n\n    .dataframe thead th {\n        text-align: right;\n    }\n</style>\n<table border=\"1\" class=\"dataframe\">\n  <thead>\n    <tr style=\"text-align: right;\">\n      <th></th>\n      <th>Team</th>\n      <th>Res</th>\n      <th>Date</th>\n      <th>Opp</th>\n      <th>Loc</th>\n      <th>MIN</th>\n      <th>PTS</th>\n      <th>O-PPP</th>\n      <th>Pace</th>\n      <th>FGM</th>\n      <th>...</th>\n      <th>Month</th>\n      <th>Day</th>\n      <th>Season</th>\n      <th>Calculated Possessions</th>\n      <th>Points Per Possession</th>\n      <th>Location</th>\n      <th>2FM</th>\n      <th>2FA</th>\n      <th>Calculated Points</th>\n      <th>UUID</th>\n    </tr>\n  </thead>\n  <tbody>\n    <tr>\n      <th>21576</th>\n      <td>Miami (Fla.)</td>\n      <td>W, 74-54</td>\n      <td>2009-11-20</td>\n      <td>Tulane</td>\n      <td>N</td>\n      <td>200</td>\n      <td>67</td>\n      <td>0.913</td>\n      <td>73</td>\n      <td>26</td>\n      <td>...</td>\n      <td>11</td>\n      <td>20</td>\n      <td>2010</td>\n      <td>74</td>\n      <td>0.905405</td>\n      <td>Neutral</td>\n      <td>23</td>\n      <td>41</td>\n      <td>67</td>\n      <td>ba255257-2baa-401a-830d-140d7717a7b6</td>\n    </tr>\n    <tr>\n      <th>143865</th>\n      <td>Sam Houston State</td>\n      <td>W, 70-52</td>\n      <td>2021-01-06</td>\n      <td>Southeastern Louisiana</td>\n      <td>V</td>\n      <td>197</td>\n      <td>70</td>\n      <td>0.989</td>\n      <td>71</td>\n      <td>26</td>\n      <td>...</td>\n      <td>1</td>\n      <td>6</td>\n      <td>2021</td>\n      <td>71</td>\n      <td>0.985915</td>\n      <td>Away</td>\n      <td>12</td>\n      <td>31</td>\n      <td>70</td>\n      <td>bcb54ca1-97f4-4832-8eb2-30c5a5c18743</td>\n    </tr>\n    <tr>\n      <th>144347</th>\n      <td>Sam Houston State</td>\n      <td>W, 96-71</td>\n      <td>2021-01-13</td>\n      <td>Lamar</td>\n      <td>H</td>\n      <td>193</td>\n      <td>96</td>\n      <td>1.213</td>\n      <td>79</td>\n      <td>36</td>\n      <td>...</td>\n      <td>1</td>\n      <td>13</td>\n      <td>2021</td>\n      <td>79</td>\n      <td>1.215190</td>\n      <td>Home</td>\n      <td>22</td>\n      <td>34</td>\n      <td>96</td>\n      <td>1dfcc023-7002-4f6c-8bea-e09e162eb8b4</td>\n    </tr>\n    <tr>\n      <th>144767</th>\n      <td>Sam Houston State</td>\n      <td>W, 87-80</td>\n      <td>2021-01-16</td>\n      <td>Houston Christian</td>\n      <td>H</td>\n      <td>195</td>\n      <td>87</td>\n      <td>1.178</td>\n      <td>74</td>\n      <td>29</td>\n      <td>...</td>\n      <td>1</td>\n      <td>16</td>\n      <td>2021</td>\n      <td>74</td>\n      <td>1.175676</td>\n      <td>Home</td>\n      <td>17</td>\n      <td>34</td>\n      <td>87</td>\n      <td>89f466d6-25dc-4c67-abc3-6485914e458d</td>\n    </tr>\n    <tr>\n      <th>144914</th>\n      <td>Sam Houston State</td>\n      <td>W, 64-57</td>\n      <td>2021-01-20</td>\n      <td>Abilene Christian</td>\n      <td>H</td>\n      <td>195</td>\n      <td>64</td>\n      <td>0.965</td>\n      <td>66</td>\n      <td>21</td>\n      <td>...</td>\n      <td>1</td>\n      <td>20</td>\n      <td>2021</td>\n      <td>67</td>\n      <td>0.955224</td>\n      <td>Home</td>\n      <td>15</td>\n      <td>36</td>\n      <td>64</td>\n      <td>f7022066-ee65-4692-95fa-de03083de1ee</td>\n    </tr>\n    <tr>\n      <th>146267</th>\n      <td>Sam Houston State</td>\n      <td>W, 78-71</td>\n      <td>2021-02-06</td>\n      <td>Nicholls State</td>\n      <td>H</td>\n      <td>195</td>\n      <td>78</td>\n      <td>0.946</td>\n      <td>82</td>\n      <td>28</td>\n      <td>...</td>\n      <td>2</td>\n      <td>6</td>\n      <td>2021</td>\n      <td>83</td>\n      <td>0.939759</td>\n      <td>Home</td>\n      <td>20</td>\n      <td>40</td>\n      <td>78</td>\n      <td>3e5cb6be-7b85-4985-af65-1dd2294ba8c4</td>\n    </tr>\n  </tbody>\n</table>\n<p>6 rows × 36 columns</p>\n</div>"
     },
     "execution_count": 556,
     "metadata": {},
     "output_type": "execute_result"
    }
   ],
   "source": [
    "not_missing = statline_df.loc[~statline_df['UUID'].isna()]\n",
    "non_duplicated = not_missing[~not_missing.duplicated('UUID', keep=False)]\n",
    "non_duplicated"
   ],
   "metadata": {
    "collapsed": false,
    "ExecuteTime": {
     "end_time": "2023-12-29T22:02:02.208465800Z",
     "start_time": "2023-12-29T22:02:02.133193900Z"
    }
   },
   "id": "28b8110ca2cf5076",
   "execution_count": 556
  },
  {
   "cell_type": "code",
   "outputs": [
    {
     "data": {
      "text/plain": "                    Team        Res       Date               Opp Loc  MIN  \\\n0               Richmond   W, 44-42 2007-11-05             Maine   N  200   \n1                  Maine   L, 42-44 2007-11-05          Richmond   N  200   \n2       Tennessee-Martin  L, 71-102 2007-11-05           Memphis   V  200   \n3                Memphis  W, 102-71 2007-11-05  Tennessee-Martin   H  200   \n5               Richmond   L, 63-80 2007-11-06           Memphis   V  200   \n...                  ...        ...        ...               ...  ..  ...   \n171967               FAU   L, 71-72 2023-04-01   San Diego State   V  196   \n171965       Connecticut   W, 72-59 2023-04-01      Miami (Fla.)   H  195   \n171968      Miami (Fla.)   L, 59-72 2023-04-01       Connecticut   V  195   \n171969   San Diego State   L, 59-76 2023-04-03       Connecticut   V  193   \n171970       Connecticut   W, 76-59 2023-04-03   San Diego State   H  192   \n\n        PTS  O-PPP  Pace  FGM  ...  Month  Day  Season  \\\n0        44  0.663    65   17  ...     11    5    2008   \n1        42  0.652    65   19  ...     11    5    2008   \n2        71  0.785    90   24  ...     11    5    2008   \n3       102  1.149    90   37  ...     11    5    2008   \n5        63  0.801    76   24  ...     11    6    2008   \n...     ...    ...   ...  ...  ...    ...  ...     ...   \n171967   71  1.110    64   23  ...      4    1    2023   \n171965   72  1.122    64   28  ...      4    1    2023   \n171968   59  0.912    64   20  ...      4    1    2023   \n171969   59  0.861    68   19  ...      4    3    2023   \n171970   76  1.104    68   23  ...      4    3    2023   \n\n        Calculated Possessions  Points Per Possession  Location  2FM  2FA  \\\n0                           66               0.666667   Neutral   13   30   \n1                           64               0.656250   Neutral   18   34   \n2                           91               0.780220      Away   14   40   \n3                           89               1.146067      Home   26   48   \n5                           79               0.797468      Away   16   41   \n...                        ...                    ...       ...  ...  ...   \n171967                      64               1.109375      Away   14   30   \n171965                      64               1.125000      Home   19   31   \n171968                      65               0.907692      Away   13   42   \n171969                      69               0.855072      Away   13   36   \n171970                      69               1.101449      Home   17   36   \n\n        Calculated Points                                  UUID  \n0                      44  01dbf56d-681b-47e1-917a-af746d6f906d  \n1                      42  01dbf56d-681b-47e1-917a-af746d6f906d  \n2                      71  3a1dcea9-5dc4-4468-af40-bbdeb727914b  \n3                     102  3a1dcea9-5dc4-4468-af40-bbdeb727914b  \n5                      63  4ced5612-488a-42dd-ac40-cd016d5f7644  \n...                   ...                                   ...  \n171967                 71  62792664-cb9d-46f6-a0ae-da5b4eac020a  \n171965                 72  7ed7115c-cb3a-43d4-9aff-d05ffa5b0156  \n171968                 59  7ed7115c-cb3a-43d4-9aff-d05ffa5b0156  \n171969                 59  9ba510b2-bd9b-4180-9602-0042dc6bd324  \n171970                 76  9ba510b2-bd9b-4180-9602-0042dc6bd324  \n\n[170406 rows x 36 columns]",
      "text/html": "<div>\n<style scoped>\n    .dataframe tbody tr th:only-of-type {\n        vertical-align: middle;\n    }\n\n    .dataframe tbody tr th {\n        vertical-align: top;\n    }\n\n    .dataframe thead th {\n        text-align: right;\n    }\n</style>\n<table border=\"1\" class=\"dataframe\">\n  <thead>\n    <tr style=\"text-align: right;\">\n      <th></th>\n      <th>Team</th>\n      <th>Res</th>\n      <th>Date</th>\n      <th>Opp</th>\n      <th>Loc</th>\n      <th>MIN</th>\n      <th>PTS</th>\n      <th>O-PPP</th>\n      <th>Pace</th>\n      <th>FGM</th>\n      <th>...</th>\n      <th>Month</th>\n      <th>Day</th>\n      <th>Season</th>\n      <th>Calculated Possessions</th>\n      <th>Points Per Possession</th>\n      <th>Location</th>\n      <th>2FM</th>\n      <th>2FA</th>\n      <th>Calculated Points</th>\n      <th>UUID</th>\n    </tr>\n  </thead>\n  <tbody>\n    <tr>\n      <th>0</th>\n      <td>Richmond</td>\n      <td>W, 44-42</td>\n      <td>2007-11-05</td>\n      <td>Maine</td>\n      <td>N</td>\n      <td>200</td>\n      <td>44</td>\n      <td>0.663</td>\n      <td>65</td>\n      <td>17</td>\n      <td>...</td>\n      <td>11</td>\n      <td>5</td>\n      <td>2008</td>\n      <td>66</td>\n      <td>0.666667</td>\n      <td>Neutral</td>\n      <td>13</td>\n      <td>30</td>\n      <td>44</td>\n      <td>01dbf56d-681b-47e1-917a-af746d6f906d</td>\n    </tr>\n    <tr>\n      <th>1</th>\n      <td>Maine</td>\n      <td>L, 42-44</td>\n      <td>2007-11-05</td>\n      <td>Richmond</td>\n      <td>N</td>\n      <td>200</td>\n      <td>42</td>\n      <td>0.652</td>\n      <td>65</td>\n      <td>19</td>\n      <td>...</td>\n      <td>11</td>\n      <td>5</td>\n      <td>2008</td>\n      <td>64</td>\n      <td>0.656250</td>\n      <td>Neutral</td>\n      <td>18</td>\n      <td>34</td>\n      <td>42</td>\n      <td>01dbf56d-681b-47e1-917a-af746d6f906d</td>\n    </tr>\n    <tr>\n      <th>2</th>\n      <td>Tennessee-Martin</td>\n      <td>L, 71-102</td>\n      <td>2007-11-05</td>\n      <td>Memphis</td>\n      <td>V</td>\n      <td>200</td>\n      <td>71</td>\n      <td>0.785</td>\n      <td>90</td>\n      <td>24</td>\n      <td>...</td>\n      <td>11</td>\n      <td>5</td>\n      <td>2008</td>\n      <td>91</td>\n      <td>0.780220</td>\n      <td>Away</td>\n      <td>14</td>\n      <td>40</td>\n      <td>71</td>\n      <td>3a1dcea9-5dc4-4468-af40-bbdeb727914b</td>\n    </tr>\n    <tr>\n      <th>3</th>\n      <td>Memphis</td>\n      <td>W, 102-71</td>\n      <td>2007-11-05</td>\n      <td>Tennessee-Martin</td>\n      <td>H</td>\n      <td>200</td>\n      <td>102</td>\n      <td>1.149</td>\n      <td>90</td>\n      <td>37</td>\n      <td>...</td>\n      <td>11</td>\n      <td>5</td>\n      <td>2008</td>\n      <td>89</td>\n      <td>1.146067</td>\n      <td>Home</td>\n      <td>26</td>\n      <td>48</td>\n      <td>102</td>\n      <td>3a1dcea9-5dc4-4468-af40-bbdeb727914b</td>\n    </tr>\n    <tr>\n      <th>5</th>\n      <td>Richmond</td>\n      <td>L, 63-80</td>\n      <td>2007-11-06</td>\n      <td>Memphis</td>\n      <td>V</td>\n      <td>200</td>\n      <td>63</td>\n      <td>0.801</td>\n      <td>76</td>\n      <td>24</td>\n      <td>...</td>\n      <td>11</td>\n      <td>6</td>\n      <td>2008</td>\n      <td>79</td>\n      <td>0.797468</td>\n      <td>Away</td>\n      <td>16</td>\n      <td>41</td>\n      <td>63</td>\n      <td>4ced5612-488a-42dd-ac40-cd016d5f7644</td>\n    </tr>\n    <tr>\n      <th>...</th>\n      <td>...</td>\n      <td>...</td>\n      <td>...</td>\n      <td>...</td>\n      <td>...</td>\n      <td>...</td>\n      <td>...</td>\n      <td>...</td>\n      <td>...</td>\n      <td>...</td>\n      <td>...</td>\n      <td>...</td>\n      <td>...</td>\n      <td>...</td>\n      <td>...</td>\n      <td>...</td>\n      <td>...</td>\n      <td>...</td>\n      <td>...</td>\n      <td>...</td>\n      <td>...</td>\n    </tr>\n    <tr>\n      <th>171967</th>\n      <td>FAU</td>\n      <td>L, 71-72</td>\n      <td>2023-04-01</td>\n      <td>San Diego State</td>\n      <td>V</td>\n      <td>196</td>\n      <td>71</td>\n      <td>1.110</td>\n      <td>64</td>\n      <td>23</td>\n      <td>...</td>\n      <td>4</td>\n      <td>1</td>\n      <td>2023</td>\n      <td>64</td>\n      <td>1.109375</td>\n      <td>Away</td>\n      <td>14</td>\n      <td>30</td>\n      <td>71</td>\n      <td>62792664-cb9d-46f6-a0ae-da5b4eac020a</td>\n    </tr>\n    <tr>\n      <th>171965</th>\n      <td>Connecticut</td>\n      <td>W, 72-59</td>\n      <td>2023-04-01</td>\n      <td>Miami (Fla.)</td>\n      <td>H</td>\n      <td>195</td>\n      <td>72</td>\n      <td>1.122</td>\n      <td>64</td>\n      <td>28</td>\n      <td>...</td>\n      <td>4</td>\n      <td>1</td>\n      <td>2023</td>\n      <td>64</td>\n      <td>1.125000</td>\n      <td>Home</td>\n      <td>19</td>\n      <td>31</td>\n      <td>72</td>\n      <td>7ed7115c-cb3a-43d4-9aff-d05ffa5b0156</td>\n    </tr>\n    <tr>\n      <th>171968</th>\n      <td>Miami (Fla.)</td>\n      <td>L, 59-72</td>\n      <td>2023-04-01</td>\n      <td>Connecticut</td>\n      <td>V</td>\n      <td>195</td>\n      <td>59</td>\n      <td>0.912</td>\n      <td>64</td>\n      <td>20</td>\n      <td>...</td>\n      <td>4</td>\n      <td>1</td>\n      <td>2023</td>\n      <td>65</td>\n      <td>0.907692</td>\n      <td>Away</td>\n      <td>13</td>\n      <td>42</td>\n      <td>59</td>\n      <td>7ed7115c-cb3a-43d4-9aff-d05ffa5b0156</td>\n    </tr>\n    <tr>\n      <th>171969</th>\n      <td>San Diego State</td>\n      <td>L, 59-76</td>\n      <td>2023-04-03</td>\n      <td>Connecticut</td>\n      <td>V</td>\n      <td>193</td>\n      <td>59</td>\n      <td>0.861</td>\n      <td>68</td>\n      <td>19</td>\n      <td>...</td>\n      <td>4</td>\n      <td>3</td>\n      <td>2023</td>\n      <td>69</td>\n      <td>0.855072</td>\n      <td>Away</td>\n      <td>13</td>\n      <td>36</td>\n      <td>59</td>\n      <td>9ba510b2-bd9b-4180-9602-0042dc6bd324</td>\n    </tr>\n    <tr>\n      <th>171970</th>\n      <td>Connecticut</td>\n      <td>W, 76-59</td>\n      <td>2023-04-03</td>\n      <td>San Diego State</td>\n      <td>H</td>\n      <td>192</td>\n      <td>76</td>\n      <td>1.104</td>\n      <td>68</td>\n      <td>23</td>\n      <td>...</td>\n      <td>4</td>\n      <td>3</td>\n      <td>2023</td>\n      <td>69</td>\n      <td>1.101449</td>\n      <td>Home</td>\n      <td>17</td>\n      <td>36</td>\n      <td>76</td>\n      <td>9ba510b2-bd9b-4180-9602-0042dc6bd324</td>\n    </tr>\n  </tbody>\n</table>\n<p>170406 rows × 36 columns</p>\n</div>"
     },
     "execution_count": 557,
     "metadata": {},
     "output_type": "execute_result"
    }
   ],
   "source": [
    "missing_obs = set(missing_df['Obs UUID'])\n",
    "non_duplicated_obs = set(non_duplicated['Obs UUID'])\n",
    "removal_obs = missing_obs.union(non_duplicated_obs)\n",
    "statline_df = statline_df.loc[~statline_df['Obs UUID'].isin(removal_obs)]\n",
    "statline_df"
   ],
   "metadata": {
    "collapsed": false,
    "ExecuteTime": {
     "end_time": "2023-12-29T22:02:02.305424100Z",
     "start_time": "2023-12-29T22:02:02.204479500Z"
    }
   },
   "id": "dfdced5ee9193753",
   "execution_count": 557
  },
  {
   "cell_type": "markdown",
   "source": [
    "### Combine Rows for Same Game"
   ],
   "metadata": {
    "collapsed": false
   },
   "id": "aee12260be38047e"
  },
  {
   "cell_type": "markdown",
   "source": [
    "We are assigning each observation a random value. When the observations for a common game is combined, one team will be \"Team 1\" and the other will be \"Team 2\", the random value is so there is no correlation between which team gets which assignment."
   ],
   "metadata": {
    "collapsed": false
   },
   "id": "9478a21b3994b499"
  },
  {
   "cell_type": "code",
   "outputs": [
    {
     "name": "stderr",
     "output_type": "stream",
     "text": [
      "C:\\Users\\Colin\\AppData\\Local\\Temp\\ipykernel_24104\\3018805021.py:1: SettingWithCopyWarning: \n",
      "A value is trying to be set on a copy of a slice from a DataFrame.\n",
      "Try using .loc[row_indexer,col_indexer] = value instead\n",
      "\n",
      "See the caveats in the documentation: https://pandas.pydata.org/pandas-docs/stable/user_guide/indexing.html#returning-a-view-versus-a-copy\n",
      "  statline_df['Random Value'] = [random.random() for _ in range(len(statline_df))]\n"
     ]
    },
    {
     "data": {
      "text/plain": "                    Team        Res       Date               Opp Loc  MIN  \\\n0               Richmond   W, 44-42 2007-11-05             Maine   N  200   \n1                  Maine   L, 42-44 2007-11-05          Richmond   N  200   \n2       Tennessee-Martin  L, 71-102 2007-11-05           Memphis   V  200   \n3                Memphis  W, 102-71 2007-11-05  Tennessee-Martin   H  200   \n5               Richmond   L, 63-80 2007-11-06           Memphis   V  200   \n...                  ...        ...        ...               ...  ..  ...   \n171967               FAU   L, 71-72 2023-04-01   San Diego State   V  196   \n171965       Connecticut   W, 72-59 2023-04-01      Miami (Fla.)   H  195   \n171968      Miami (Fla.)   L, 59-72 2023-04-01       Connecticut   V  195   \n171969   San Diego State   L, 59-76 2023-04-03       Connecticut   V  193   \n171970       Connecticut   W, 76-59 2023-04-03   San Diego State   H  192   \n\n        PTS  O-PPP  Pace  FGM  ...  Day  Season  Calculated Possessions  \\\n0        44  0.663    65   17  ...    5    2008                      66   \n1        42  0.652    65   19  ...    5    2008                      64   \n2        71  0.785    90   24  ...    5    2008                      91   \n3       102  1.149    90   37  ...    5    2008                      89   \n5        63  0.801    76   24  ...    6    2008                      79   \n...     ...    ...   ...  ...  ...  ...     ...                     ...   \n171967   71  1.110    64   23  ...    1    2023                      64   \n171965   72  1.122    64   28  ...    1    2023                      64   \n171968   59  0.912    64   20  ...    1    2023                      65   \n171969   59  0.861    68   19  ...    3    2023                      69   \n171970   76  1.104    68   23  ...    3    2023                      69   \n\n        Points Per Possession  Location  2FM  2FA  Calculated Points  \\\n0                    0.666667   Neutral   13   30                 44   \n1                    0.656250   Neutral   18   34                 42   \n2                    0.780220      Away   14   40                 71   \n3                    1.146067      Home   26   48                102   \n5                    0.797468      Away   16   41                 63   \n...                       ...       ...  ...  ...                ...   \n171967               1.109375      Away   14   30                 71   \n171965               1.125000      Home   19   31                 72   \n171968               0.907692      Away   13   42                 59   \n171969               0.855072      Away   13   36                 59   \n171970               1.101449      Home   17   36                 76   \n\n                                        UUID  Random Value  \n0       01dbf56d-681b-47e1-917a-af746d6f906d      0.039249  \n1       01dbf56d-681b-47e1-917a-af746d6f906d      0.077527  \n2       3a1dcea9-5dc4-4468-af40-bbdeb727914b      0.480556  \n3       3a1dcea9-5dc4-4468-af40-bbdeb727914b      0.052867  \n5       4ced5612-488a-42dd-ac40-cd016d5f7644      0.123992  \n...                                      ...           ...  \n171967  62792664-cb9d-46f6-a0ae-da5b4eac020a      0.885114  \n171965  7ed7115c-cb3a-43d4-9aff-d05ffa5b0156      0.739757  \n171968  7ed7115c-cb3a-43d4-9aff-d05ffa5b0156      0.024116  \n171969  9ba510b2-bd9b-4180-9602-0042dc6bd324      0.144267  \n171970  9ba510b2-bd9b-4180-9602-0042dc6bd324      0.692536  \n\n[170406 rows x 37 columns]",
      "text/html": "<div>\n<style scoped>\n    .dataframe tbody tr th:only-of-type {\n        vertical-align: middle;\n    }\n\n    .dataframe tbody tr th {\n        vertical-align: top;\n    }\n\n    .dataframe thead th {\n        text-align: right;\n    }\n</style>\n<table border=\"1\" class=\"dataframe\">\n  <thead>\n    <tr style=\"text-align: right;\">\n      <th></th>\n      <th>Team</th>\n      <th>Res</th>\n      <th>Date</th>\n      <th>Opp</th>\n      <th>Loc</th>\n      <th>MIN</th>\n      <th>PTS</th>\n      <th>O-PPP</th>\n      <th>Pace</th>\n      <th>FGM</th>\n      <th>...</th>\n      <th>Day</th>\n      <th>Season</th>\n      <th>Calculated Possessions</th>\n      <th>Points Per Possession</th>\n      <th>Location</th>\n      <th>2FM</th>\n      <th>2FA</th>\n      <th>Calculated Points</th>\n      <th>UUID</th>\n      <th>Random Value</th>\n    </tr>\n  </thead>\n  <tbody>\n    <tr>\n      <th>0</th>\n      <td>Richmond</td>\n      <td>W, 44-42</td>\n      <td>2007-11-05</td>\n      <td>Maine</td>\n      <td>N</td>\n      <td>200</td>\n      <td>44</td>\n      <td>0.663</td>\n      <td>65</td>\n      <td>17</td>\n      <td>...</td>\n      <td>5</td>\n      <td>2008</td>\n      <td>66</td>\n      <td>0.666667</td>\n      <td>Neutral</td>\n      <td>13</td>\n      <td>30</td>\n      <td>44</td>\n      <td>01dbf56d-681b-47e1-917a-af746d6f906d</td>\n      <td>0.039249</td>\n    </tr>\n    <tr>\n      <th>1</th>\n      <td>Maine</td>\n      <td>L, 42-44</td>\n      <td>2007-11-05</td>\n      <td>Richmond</td>\n      <td>N</td>\n      <td>200</td>\n      <td>42</td>\n      <td>0.652</td>\n      <td>65</td>\n      <td>19</td>\n      <td>...</td>\n      <td>5</td>\n      <td>2008</td>\n      <td>64</td>\n      <td>0.656250</td>\n      <td>Neutral</td>\n      <td>18</td>\n      <td>34</td>\n      <td>42</td>\n      <td>01dbf56d-681b-47e1-917a-af746d6f906d</td>\n      <td>0.077527</td>\n    </tr>\n    <tr>\n      <th>2</th>\n      <td>Tennessee-Martin</td>\n      <td>L, 71-102</td>\n      <td>2007-11-05</td>\n      <td>Memphis</td>\n      <td>V</td>\n      <td>200</td>\n      <td>71</td>\n      <td>0.785</td>\n      <td>90</td>\n      <td>24</td>\n      <td>...</td>\n      <td>5</td>\n      <td>2008</td>\n      <td>91</td>\n      <td>0.780220</td>\n      <td>Away</td>\n      <td>14</td>\n      <td>40</td>\n      <td>71</td>\n      <td>3a1dcea9-5dc4-4468-af40-bbdeb727914b</td>\n      <td>0.480556</td>\n    </tr>\n    <tr>\n      <th>3</th>\n      <td>Memphis</td>\n      <td>W, 102-71</td>\n      <td>2007-11-05</td>\n      <td>Tennessee-Martin</td>\n      <td>H</td>\n      <td>200</td>\n      <td>102</td>\n      <td>1.149</td>\n      <td>90</td>\n      <td>37</td>\n      <td>...</td>\n      <td>5</td>\n      <td>2008</td>\n      <td>89</td>\n      <td>1.146067</td>\n      <td>Home</td>\n      <td>26</td>\n      <td>48</td>\n      <td>102</td>\n      <td>3a1dcea9-5dc4-4468-af40-bbdeb727914b</td>\n      <td>0.052867</td>\n    </tr>\n    <tr>\n      <th>5</th>\n      <td>Richmond</td>\n      <td>L, 63-80</td>\n      <td>2007-11-06</td>\n      <td>Memphis</td>\n      <td>V</td>\n      <td>200</td>\n      <td>63</td>\n      <td>0.801</td>\n      <td>76</td>\n      <td>24</td>\n      <td>...</td>\n      <td>6</td>\n      <td>2008</td>\n      <td>79</td>\n      <td>0.797468</td>\n      <td>Away</td>\n      <td>16</td>\n      <td>41</td>\n      <td>63</td>\n      <td>4ced5612-488a-42dd-ac40-cd016d5f7644</td>\n      <td>0.123992</td>\n    </tr>\n    <tr>\n      <th>...</th>\n      <td>...</td>\n      <td>...</td>\n      <td>...</td>\n      <td>...</td>\n      <td>...</td>\n      <td>...</td>\n      <td>...</td>\n      <td>...</td>\n      <td>...</td>\n      <td>...</td>\n      <td>...</td>\n      <td>...</td>\n      <td>...</td>\n      <td>...</td>\n      <td>...</td>\n      <td>...</td>\n      <td>...</td>\n      <td>...</td>\n      <td>...</td>\n      <td>...</td>\n      <td>...</td>\n    </tr>\n    <tr>\n      <th>171967</th>\n      <td>FAU</td>\n      <td>L, 71-72</td>\n      <td>2023-04-01</td>\n      <td>San Diego State</td>\n      <td>V</td>\n      <td>196</td>\n      <td>71</td>\n      <td>1.110</td>\n      <td>64</td>\n      <td>23</td>\n      <td>...</td>\n      <td>1</td>\n      <td>2023</td>\n      <td>64</td>\n      <td>1.109375</td>\n      <td>Away</td>\n      <td>14</td>\n      <td>30</td>\n      <td>71</td>\n      <td>62792664-cb9d-46f6-a0ae-da5b4eac020a</td>\n      <td>0.885114</td>\n    </tr>\n    <tr>\n      <th>171965</th>\n      <td>Connecticut</td>\n      <td>W, 72-59</td>\n      <td>2023-04-01</td>\n      <td>Miami (Fla.)</td>\n      <td>H</td>\n      <td>195</td>\n      <td>72</td>\n      <td>1.122</td>\n      <td>64</td>\n      <td>28</td>\n      <td>...</td>\n      <td>1</td>\n      <td>2023</td>\n      <td>64</td>\n      <td>1.125000</td>\n      <td>Home</td>\n      <td>19</td>\n      <td>31</td>\n      <td>72</td>\n      <td>7ed7115c-cb3a-43d4-9aff-d05ffa5b0156</td>\n      <td>0.739757</td>\n    </tr>\n    <tr>\n      <th>171968</th>\n      <td>Miami (Fla.)</td>\n      <td>L, 59-72</td>\n      <td>2023-04-01</td>\n      <td>Connecticut</td>\n      <td>V</td>\n      <td>195</td>\n      <td>59</td>\n      <td>0.912</td>\n      <td>64</td>\n      <td>20</td>\n      <td>...</td>\n      <td>1</td>\n      <td>2023</td>\n      <td>65</td>\n      <td>0.907692</td>\n      <td>Away</td>\n      <td>13</td>\n      <td>42</td>\n      <td>59</td>\n      <td>7ed7115c-cb3a-43d4-9aff-d05ffa5b0156</td>\n      <td>0.024116</td>\n    </tr>\n    <tr>\n      <th>171969</th>\n      <td>San Diego State</td>\n      <td>L, 59-76</td>\n      <td>2023-04-03</td>\n      <td>Connecticut</td>\n      <td>V</td>\n      <td>193</td>\n      <td>59</td>\n      <td>0.861</td>\n      <td>68</td>\n      <td>19</td>\n      <td>...</td>\n      <td>3</td>\n      <td>2023</td>\n      <td>69</td>\n      <td>0.855072</td>\n      <td>Away</td>\n      <td>13</td>\n      <td>36</td>\n      <td>59</td>\n      <td>9ba510b2-bd9b-4180-9602-0042dc6bd324</td>\n      <td>0.144267</td>\n    </tr>\n    <tr>\n      <th>171970</th>\n      <td>Connecticut</td>\n      <td>W, 76-59</td>\n      <td>2023-04-03</td>\n      <td>San Diego State</td>\n      <td>H</td>\n      <td>192</td>\n      <td>76</td>\n      <td>1.104</td>\n      <td>68</td>\n      <td>23</td>\n      <td>...</td>\n      <td>3</td>\n      <td>2023</td>\n      <td>69</td>\n      <td>1.101449</td>\n      <td>Home</td>\n      <td>17</td>\n      <td>36</td>\n      <td>76</td>\n      <td>9ba510b2-bd9b-4180-9602-0042dc6bd324</td>\n      <td>0.692536</td>\n    </tr>\n  </tbody>\n</table>\n<p>170406 rows × 37 columns</p>\n</div>"
     },
     "execution_count": 558,
     "metadata": {},
     "output_type": "execute_result"
    }
   ],
   "source": [
    "statline_df['Random Value'] = [random.random() for _ in range(len(statline_df))]\n",
    "statline_df"
   ],
   "metadata": {
    "collapsed": false,
    "ExecuteTime": {
     "end_time": "2023-12-29T22:02:02.408778300Z",
     "start_time": "2023-12-29T22:02:02.318901500Z"
    }
   },
   "id": "7c802d59de3cc3cc",
   "execution_count": 558
  },
  {
   "cell_type": "code",
   "outputs": [
    {
     "data": {
      "text/plain": "                          Team         Res       Date                 Opp Loc  \\\n128991       Houston Christian  W, 118-111 2019-03-06      Incarnate Word   H   \n129059          Incarnate Word  L, 111-118 2019-03-06   Houston Christian   V   \n89510                  Wyoming    L, 89-94 2015-12-22             Houston   N   \n89482                  Houston    W, 94-89 2015-12-22             Wyoming   N   \n73283   Southeastern Louisiana    L, 83-88 2014-02-27  Northwestern State   H   \n...                        ...         ...        ...                 ...  ..   \n61669                  Hofstra    L, 50-79 2013-02-20        George Mason   H   \n11636             Saint Mary`s    L, 62-75 2008-11-27                UTEP   N   \n11644                     UTEP    W, 75-62 2008-11-27        Saint Mary`s   N   \n75946                     Navy    L, 44-68 2014-11-22        Northeastern   N   \n75861             Northeastern    W, 68-44 2014-11-22                Navy   N   \n\n        MIN  PTS  O-PPP  Pace  FGM  ...  Day  Season  Calculated Possessions  \\\n128991  200  118  1.457    80   39  ...    6    2019                      82   \n129059  200  111  1.381    80   40  ...    6    2019                      81   \n89510   250   89  0.948    93   22  ...   22    2016                      95   \n89482   250   94  1.023    93   33  ...   22    2016                      92   \n73283   200   83  1.129    74   28  ...   27    2014                      74   \n...     ...  ...    ...   ...  ...  ...  ...     ...                     ...   \n61669   200   50  0.766    64   15  ...   20    2013                      66   \n11636   200   62  0.811    76   22  ...   27    2009                      77   \n11644   200   75  0.992    76   22  ...   27    2009                      76   \n75946   200   44  0.803    58   19  ...   22    2015                      55   \n75861   200   68  1.142    58   22  ...   22    2015                      60   \n\n        Points Per Possession  Location  2FM  2FA  Calculated Points  \\\n128991               1.439024      Home   29   42                118   \n129059               1.370370      Away   30   42                111   \n89510                0.936842   Neutral   13   29                 89   \n89482                1.021739   Neutral   25   46                 94   \n73283                1.121622      Home   17   34                 83   \n...                       ...       ...  ...  ...                ...   \n61669                0.757576      Home   13   38                 50   \n11636                0.805195   Neutral   19   37                 62   \n11644                0.986842   Neutral   20   40                 75   \n75946                0.800000   Neutral   15   30                 44   \n75861                1.133333   Neutral   14   32                 68   \n\n                                        UUID  Random Value  \n128991  000021aa-83c6-429a-a047-baca985f515d      0.315116  \n129059  000021aa-83c6-429a-a047-baca985f515d      0.486580  \n89510   0001dbdc-176a-439b-abe8-46a87a975fbb      0.226850  \n89482   0001dbdc-176a-439b-abe8-46a87a975fbb      0.503495  \n73283   00024074-4938-447d-a655-35871cdf4ce9      0.012189  \n...                                      ...           ...  \n61669   ffff2816-3b04-4ddc-98b8-2d0704681236      0.120184  \n11636   ffff7141-cda1-4d07-b7bc-261d42464517      0.397966  \n11644   ffff7141-cda1-4d07-b7bc-261d42464517      0.457869  \n75946   ffffcc9d-968f-4ae4-9103-ffe33e17f791      0.160574  \n75861   ffffcc9d-968f-4ae4-9103-ffe33e17f791      0.860144  \n\n[170406 rows x 37 columns]",
      "text/html": "<div>\n<style scoped>\n    .dataframe tbody tr th:only-of-type {\n        vertical-align: middle;\n    }\n\n    .dataframe tbody tr th {\n        vertical-align: top;\n    }\n\n    .dataframe thead th {\n        text-align: right;\n    }\n</style>\n<table border=\"1\" class=\"dataframe\">\n  <thead>\n    <tr style=\"text-align: right;\">\n      <th></th>\n      <th>Team</th>\n      <th>Res</th>\n      <th>Date</th>\n      <th>Opp</th>\n      <th>Loc</th>\n      <th>MIN</th>\n      <th>PTS</th>\n      <th>O-PPP</th>\n      <th>Pace</th>\n      <th>FGM</th>\n      <th>...</th>\n      <th>Day</th>\n      <th>Season</th>\n      <th>Calculated Possessions</th>\n      <th>Points Per Possession</th>\n      <th>Location</th>\n      <th>2FM</th>\n      <th>2FA</th>\n      <th>Calculated Points</th>\n      <th>UUID</th>\n      <th>Random Value</th>\n    </tr>\n  </thead>\n  <tbody>\n    <tr>\n      <th>128991</th>\n      <td>Houston Christian</td>\n      <td>W, 118-111</td>\n      <td>2019-03-06</td>\n      <td>Incarnate Word</td>\n      <td>H</td>\n      <td>200</td>\n      <td>118</td>\n      <td>1.457</td>\n      <td>80</td>\n      <td>39</td>\n      <td>...</td>\n      <td>6</td>\n      <td>2019</td>\n      <td>82</td>\n      <td>1.439024</td>\n      <td>Home</td>\n      <td>29</td>\n      <td>42</td>\n      <td>118</td>\n      <td>000021aa-83c6-429a-a047-baca985f515d</td>\n      <td>0.315116</td>\n    </tr>\n    <tr>\n      <th>129059</th>\n      <td>Incarnate Word</td>\n      <td>L, 111-118</td>\n      <td>2019-03-06</td>\n      <td>Houston Christian</td>\n      <td>V</td>\n      <td>200</td>\n      <td>111</td>\n      <td>1.381</td>\n      <td>80</td>\n      <td>40</td>\n      <td>...</td>\n      <td>6</td>\n      <td>2019</td>\n      <td>81</td>\n      <td>1.370370</td>\n      <td>Away</td>\n      <td>30</td>\n      <td>42</td>\n      <td>111</td>\n      <td>000021aa-83c6-429a-a047-baca985f515d</td>\n      <td>0.486580</td>\n    </tr>\n    <tr>\n      <th>89510</th>\n      <td>Wyoming</td>\n      <td>L, 89-94</td>\n      <td>2015-12-22</td>\n      <td>Houston</td>\n      <td>N</td>\n      <td>250</td>\n      <td>89</td>\n      <td>0.948</td>\n      <td>93</td>\n      <td>22</td>\n      <td>...</td>\n      <td>22</td>\n      <td>2016</td>\n      <td>95</td>\n      <td>0.936842</td>\n      <td>Neutral</td>\n      <td>13</td>\n      <td>29</td>\n      <td>89</td>\n      <td>0001dbdc-176a-439b-abe8-46a87a975fbb</td>\n      <td>0.226850</td>\n    </tr>\n    <tr>\n      <th>89482</th>\n      <td>Houston</td>\n      <td>W, 94-89</td>\n      <td>2015-12-22</td>\n      <td>Wyoming</td>\n      <td>N</td>\n      <td>250</td>\n      <td>94</td>\n      <td>1.023</td>\n      <td>93</td>\n      <td>33</td>\n      <td>...</td>\n      <td>22</td>\n      <td>2016</td>\n      <td>92</td>\n      <td>1.021739</td>\n      <td>Neutral</td>\n      <td>25</td>\n      <td>46</td>\n      <td>94</td>\n      <td>0001dbdc-176a-439b-abe8-46a87a975fbb</td>\n      <td>0.503495</td>\n    </tr>\n    <tr>\n      <th>73283</th>\n      <td>Southeastern Louisiana</td>\n      <td>L, 83-88</td>\n      <td>2014-02-27</td>\n      <td>Northwestern State</td>\n      <td>H</td>\n      <td>200</td>\n      <td>83</td>\n      <td>1.129</td>\n      <td>74</td>\n      <td>28</td>\n      <td>...</td>\n      <td>27</td>\n      <td>2014</td>\n      <td>74</td>\n      <td>1.121622</td>\n      <td>Home</td>\n      <td>17</td>\n      <td>34</td>\n      <td>83</td>\n      <td>00024074-4938-447d-a655-35871cdf4ce9</td>\n      <td>0.012189</td>\n    </tr>\n    <tr>\n      <th>...</th>\n      <td>...</td>\n      <td>...</td>\n      <td>...</td>\n      <td>...</td>\n      <td>...</td>\n      <td>...</td>\n      <td>...</td>\n      <td>...</td>\n      <td>...</td>\n      <td>...</td>\n      <td>...</td>\n      <td>...</td>\n      <td>...</td>\n      <td>...</td>\n      <td>...</td>\n      <td>...</td>\n      <td>...</td>\n      <td>...</td>\n      <td>...</td>\n      <td>...</td>\n      <td>...</td>\n    </tr>\n    <tr>\n      <th>61669</th>\n      <td>Hofstra</td>\n      <td>L, 50-79</td>\n      <td>2013-02-20</td>\n      <td>George Mason</td>\n      <td>H</td>\n      <td>200</td>\n      <td>50</td>\n      <td>0.766</td>\n      <td>64</td>\n      <td>15</td>\n      <td>...</td>\n      <td>20</td>\n      <td>2013</td>\n      <td>66</td>\n      <td>0.757576</td>\n      <td>Home</td>\n      <td>13</td>\n      <td>38</td>\n      <td>50</td>\n      <td>ffff2816-3b04-4ddc-98b8-2d0704681236</td>\n      <td>0.120184</td>\n    </tr>\n    <tr>\n      <th>11636</th>\n      <td>Saint Mary`s</td>\n      <td>L, 62-75</td>\n      <td>2008-11-27</td>\n      <td>UTEP</td>\n      <td>N</td>\n      <td>200</td>\n      <td>62</td>\n      <td>0.811</td>\n      <td>76</td>\n      <td>22</td>\n      <td>...</td>\n      <td>27</td>\n      <td>2009</td>\n      <td>77</td>\n      <td>0.805195</td>\n      <td>Neutral</td>\n      <td>19</td>\n      <td>37</td>\n      <td>62</td>\n      <td>ffff7141-cda1-4d07-b7bc-261d42464517</td>\n      <td>0.397966</td>\n    </tr>\n    <tr>\n      <th>11644</th>\n      <td>UTEP</td>\n      <td>W, 75-62</td>\n      <td>2008-11-27</td>\n      <td>Saint Mary`s</td>\n      <td>N</td>\n      <td>200</td>\n      <td>75</td>\n      <td>0.992</td>\n      <td>76</td>\n      <td>22</td>\n      <td>...</td>\n      <td>27</td>\n      <td>2009</td>\n      <td>76</td>\n      <td>0.986842</td>\n      <td>Neutral</td>\n      <td>20</td>\n      <td>40</td>\n      <td>75</td>\n      <td>ffff7141-cda1-4d07-b7bc-261d42464517</td>\n      <td>0.457869</td>\n    </tr>\n    <tr>\n      <th>75946</th>\n      <td>Navy</td>\n      <td>L, 44-68</td>\n      <td>2014-11-22</td>\n      <td>Northeastern</td>\n      <td>N</td>\n      <td>200</td>\n      <td>44</td>\n      <td>0.803</td>\n      <td>58</td>\n      <td>19</td>\n      <td>...</td>\n      <td>22</td>\n      <td>2015</td>\n      <td>55</td>\n      <td>0.800000</td>\n      <td>Neutral</td>\n      <td>15</td>\n      <td>30</td>\n      <td>44</td>\n      <td>ffffcc9d-968f-4ae4-9103-ffe33e17f791</td>\n      <td>0.160574</td>\n    </tr>\n    <tr>\n      <th>75861</th>\n      <td>Northeastern</td>\n      <td>W, 68-44</td>\n      <td>2014-11-22</td>\n      <td>Navy</td>\n      <td>N</td>\n      <td>200</td>\n      <td>68</td>\n      <td>1.142</td>\n      <td>58</td>\n      <td>22</td>\n      <td>...</td>\n      <td>22</td>\n      <td>2015</td>\n      <td>60</td>\n      <td>1.133333</td>\n      <td>Neutral</td>\n      <td>14</td>\n      <td>32</td>\n      <td>68</td>\n      <td>ffffcc9d-968f-4ae4-9103-ffe33e17f791</td>\n      <td>0.860144</td>\n    </tr>\n  </tbody>\n</table>\n<p>170406 rows × 37 columns</p>\n</div>"
     },
     "execution_count": 559,
     "metadata": {},
     "output_type": "execute_result"
    }
   ],
   "source": [
    "statline_df = statline_df.sort_values(by=['UUID', 'Random Value'], kind='mergesort')\n",
    "statline_df"
   ],
   "metadata": {
    "collapsed": false,
    "ExecuteTime": {
     "end_time": "2023-12-29T22:02:02.657941400Z",
     "start_time": "2023-12-29T22:02:02.393323900Z"
    }
   },
   "id": "fcbf4ef1108c034b",
   "execution_count": 559
  },
  {
   "cell_type": "code",
   "outputs": [
    {
     "data": {
      "text/plain": "                          Team         Res       Date                 Opp Loc  \\\n128991       Houston Christian  W, 118-111 2019-03-06      Incarnate Word   H   \n89510                  Wyoming    L, 89-94 2015-12-22             Houston   N   \n73283   Southeastern Louisiana    L, 83-88 2014-02-27  Northwestern State   H   \n28210      Cal State Fullerton    L, 59-76 2010-02-06        UC Riverside   H   \n96221            James Madison    L, 64-79 2016-03-05      William & Mary   N   \n...                        ...         ...        ...                 ...  ..   \n127269               Manhattan    W, 64-60 2019-02-15             Niagara   V   \n147649       Stephen F. Austin    W, 83-57 2021-02-24  Northwestern State   V   \n61631             George Mason    W, 79-50 2013-02-20             Hofstra   V   \n11636             Saint Mary`s    L, 62-75 2008-11-27                UTEP   N   \n75946                     Navy    L, 44-68 2014-11-22        Northeastern   N   \n\n        MIN  PTS  O-PPP  Pace  FGM  ...  Day  Season  Calculated Possessions  \\\n128991  200  118  1.457    80   39  ...    6    2019                      82   \n89510   250   89  0.948    93   22  ...   22    2016                      95   \n73283   200   83  1.129    74   28  ...   27    2014                      74   \n28210   200   59  0.963    60   18  ...    6    2010                      62   \n96221   200   64  0.920    69   22  ...    5    2016                      70   \n...     ...  ...    ...   ...  ...  ...  ...     ...                     ...   \n127269  200   64  1.110    59   21  ...   15    2019                      58   \n147649  196   83  1.187    70   34  ...   24    2021                      70   \n61631   200   79  1.253    64   28  ...   20    2013                      63   \n11636   200   62  0.811    76   22  ...   27    2009                      77   \n75946   200   44  0.803    58   19  ...   22    2015                      55   \n\n        Points Per Possession  Location  2FM  2FA  Calculated Points  \\\n128991               1.439024      Home   29   42                118   \n89510                0.936842   Neutral   13   29                 89   \n73283                1.121622      Home   17   34                 83   \n28210                0.951613      Home   12   30                 59   \n96221                0.914286   Neutral   13   30                 64   \n...                       ...       ...  ...  ...                ...   \n127269               1.103448      Away   11   26                 64   \n147649               1.185714      Away   28   47                 83   \n61631                1.253968      Away   20   38                 79   \n11636                0.805195   Neutral   19   37                 62   \n75946                0.800000   Neutral   15   30                 44   \n\n                                        UUID  Random Value  \n128991  000021aa-83c6-429a-a047-baca985f515d      0.315116  \n89510   0001dbdc-176a-439b-abe8-46a87a975fbb      0.226850  \n73283   00024074-4938-447d-a655-35871cdf4ce9      0.012189  \n28210   0002c799-1ae2-44cc-bdd5-9179133a967a      0.019475  \n96221   000326a3-3879-41ef-bae3-2ecf69461e11      0.236472  \n...                                      ...           ...  \n127269  fffe6833-bf07-4a84-8ec2-580337b888b6      0.209497  \n147649  fffe6e3d-dbd4-49d2-bb2c-396a3a1ab9e7      0.100320  \n61631   ffff2816-3b04-4ddc-98b8-2d0704681236      0.041879  \n11636   ffff7141-cda1-4d07-b7bc-261d42464517      0.397966  \n75946   ffffcc9d-968f-4ae4-9103-ffe33e17f791      0.160574  \n\n[85203 rows x 37 columns]",
      "text/html": "<div>\n<style scoped>\n    .dataframe tbody tr th:only-of-type {\n        vertical-align: middle;\n    }\n\n    .dataframe tbody tr th {\n        vertical-align: top;\n    }\n\n    .dataframe thead th {\n        text-align: right;\n    }\n</style>\n<table border=\"1\" class=\"dataframe\">\n  <thead>\n    <tr style=\"text-align: right;\">\n      <th></th>\n      <th>Team</th>\n      <th>Res</th>\n      <th>Date</th>\n      <th>Opp</th>\n      <th>Loc</th>\n      <th>MIN</th>\n      <th>PTS</th>\n      <th>O-PPP</th>\n      <th>Pace</th>\n      <th>FGM</th>\n      <th>...</th>\n      <th>Day</th>\n      <th>Season</th>\n      <th>Calculated Possessions</th>\n      <th>Points Per Possession</th>\n      <th>Location</th>\n      <th>2FM</th>\n      <th>2FA</th>\n      <th>Calculated Points</th>\n      <th>UUID</th>\n      <th>Random Value</th>\n    </tr>\n  </thead>\n  <tbody>\n    <tr>\n      <th>128991</th>\n      <td>Houston Christian</td>\n      <td>W, 118-111</td>\n      <td>2019-03-06</td>\n      <td>Incarnate Word</td>\n      <td>H</td>\n      <td>200</td>\n      <td>118</td>\n      <td>1.457</td>\n      <td>80</td>\n      <td>39</td>\n      <td>...</td>\n      <td>6</td>\n      <td>2019</td>\n      <td>82</td>\n      <td>1.439024</td>\n      <td>Home</td>\n      <td>29</td>\n      <td>42</td>\n      <td>118</td>\n      <td>000021aa-83c6-429a-a047-baca985f515d</td>\n      <td>0.315116</td>\n    </tr>\n    <tr>\n      <th>89510</th>\n      <td>Wyoming</td>\n      <td>L, 89-94</td>\n      <td>2015-12-22</td>\n      <td>Houston</td>\n      <td>N</td>\n      <td>250</td>\n      <td>89</td>\n      <td>0.948</td>\n      <td>93</td>\n      <td>22</td>\n      <td>...</td>\n      <td>22</td>\n      <td>2016</td>\n      <td>95</td>\n      <td>0.936842</td>\n      <td>Neutral</td>\n      <td>13</td>\n      <td>29</td>\n      <td>89</td>\n      <td>0001dbdc-176a-439b-abe8-46a87a975fbb</td>\n      <td>0.226850</td>\n    </tr>\n    <tr>\n      <th>73283</th>\n      <td>Southeastern Louisiana</td>\n      <td>L, 83-88</td>\n      <td>2014-02-27</td>\n      <td>Northwestern State</td>\n      <td>H</td>\n      <td>200</td>\n      <td>83</td>\n      <td>1.129</td>\n      <td>74</td>\n      <td>28</td>\n      <td>...</td>\n      <td>27</td>\n      <td>2014</td>\n      <td>74</td>\n      <td>1.121622</td>\n      <td>Home</td>\n      <td>17</td>\n      <td>34</td>\n      <td>83</td>\n      <td>00024074-4938-447d-a655-35871cdf4ce9</td>\n      <td>0.012189</td>\n    </tr>\n    <tr>\n      <th>28210</th>\n      <td>Cal State Fullerton</td>\n      <td>L, 59-76</td>\n      <td>2010-02-06</td>\n      <td>UC Riverside</td>\n      <td>H</td>\n      <td>200</td>\n      <td>59</td>\n      <td>0.963</td>\n      <td>60</td>\n      <td>18</td>\n      <td>...</td>\n      <td>6</td>\n      <td>2010</td>\n      <td>62</td>\n      <td>0.951613</td>\n      <td>Home</td>\n      <td>12</td>\n      <td>30</td>\n      <td>59</td>\n      <td>0002c799-1ae2-44cc-bdd5-9179133a967a</td>\n      <td>0.019475</td>\n    </tr>\n    <tr>\n      <th>96221</th>\n      <td>James Madison</td>\n      <td>L, 64-79</td>\n      <td>2016-03-05</td>\n      <td>William &amp; Mary</td>\n      <td>N</td>\n      <td>200</td>\n      <td>64</td>\n      <td>0.920</td>\n      <td>69</td>\n      <td>22</td>\n      <td>...</td>\n      <td>5</td>\n      <td>2016</td>\n      <td>70</td>\n      <td>0.914286</td>\n      <td>Neutral</td>\n      <td>13</td>\n      <td>30</td>\n      <td>64</td>\n      <td>000326a3-3879-41ef-bae3-2ecf69461e11</td>\n      <td>0.236472</td>\n    </tr>\n    <tr>\n      <th>...</th>\n      <td>...</td>\n      <td>...</td>\n      <td>...</td>\n      <td>...</td>\n      <td>...</td>\n      <td>...</td>\n      <td>...</td>\n      <td>...</td>\n      <td>...</td>\n      <td>...</td>\n      <td>...</td>\n      <td>...</td>\n      <td>...</td>\n      <td>...</td>\n      <td>...</td>\n      <td>...</td>\n      <td>...</td>\n      <td>...</td>\n      <td>...</td>\n      <td>...</td>\n      <td>...</td>\n    </tr>\n    <tr>\n      <th>127269</th>\n      <td>Manhattan</td>\n      <td>W, 64-60</td>\n      <td>2019-02-15</td>\n      <td>Niagara</td>\n      <td>V</td>\n      <td>200</td>\n      <td>64</td>\n      <td>1.110</td>\n      <td>59</td>\n      <td>21</td>\n      <td>...</td>\n      <td>15</td>\n      <td>2019</td>\n      <td>58</td>\n      <td>1.103448</td>\n      <td>Away</td>\n      <td>11</td>\n      <td>26</td>\n      <td>64</td>\n      <td>fffe6833-bf07-4a84-8ec2-580337b888b6</td>\n      <td>0.209497</td>\n    </tr>\n    <tr>\n      <th>147649</th>\n      <td>Stephen F. Austin</td>\n      <td>W, 83-57</td>\n      <td>2021-02-24</td>\n      <td>Northwestern State</td>\n      <td>V</td>\n      <td>196</td>\n      <td>83</td>\n      <td>1.187</td>\n      <td>70</td>\n      <td>34</td>\n      <td>...</td>\n      <td>24</td>\n      <td>2021</td>\n      <td>70</td>\n      <td>1.185714</td>\n      <td>Away</td>\n      <td>28</td>\n      <td>47</td>\n      <td>83</td>\n      <td>fffe6e3d-dbd4-49d2-bb2c-396a3a1ab9e7</td>\n      <td>0.100320</td>\n    </tr>\n    <tr>\n      <th>61631</th>\n      <td>George Mason</td>\n      <td>W, 79-50</td>\n      <td>2013-02-20</td>\n      <td>Hofstra</td>\n      <td>V</td>\n      <td>200</td>\n      <td>79</td>\n      <td>1.253</td>\n      <td>64</td>\n      <td>28</td>\n      <td>...</td>\n      <td>20</td>\n      <td>2013</td>\n      <td>63</td>\n      <td>1.253968</td>\n      <td>Away</td>\n      <td>20</td>\n      <td>38</td>\n      <td>79</td>\n      <td>ffff2816-3b04-4ddc-98b8-2d0704681236</td>\n      <td>0.041879</td>\n    </tr>\n    <tr>\n      <th>11636</th>\n      <td>Saint Mary`s</td>\n      <td>L, 62-75</td>\n      <td>2008-11-27</td>\n      <td>UTEP</td>\n      <td>N</td>\n      <td>200</td>\n      <td>62</td>\n      <td>0.811</td>\n      <td>76</td>\n      <td>22</td>\n      <td>...</td>\n      <td>27</td>\n      <td>2009</td>\n      <td>77</td>\n      <td>0.805195</td>\n      <td>Neutral</td>\n      <td>19</td>\n      <td>37</td>\n      <td>62</td>\n      <td>ffff7141-cda1-4d07-b7bc-261d42464517</td>\n      <td>0.397966</td>\n    </tr>\n    <tr>\n      <th>75946</th>\n      <td>Navy</td>\n      <td>L, 44-68</td>\n      <td>2014-11-22</td>\n      <td>Northeastern</td>\n      <td>N</td>\n      <td>200</td>\n      <td>44</td>\n      <td>0.803</td>\n      <td>58</td>\n      <td>19</td>\n      <td>...</td>\n      <td>22</td>\n      <td>2015</td>\n      <td>55</td>\n      <td>0.800000</td>\n      <td>Neutral</td>\n      <td>15</td>\n      <td>30</td>\n      <td>44</td>\n      <td>ffffcc9d-968f-4ae4-9103-ffe33e17f791</td>\n      <td>0.160574</td>\n    </tr>\n  </tbody>\n</table>\n<p>85203 rows × 37 columns</p>\n</div>"
     },
     "execution_count": 560,
     "metadata": {},
     "output_type": "execute_result"
    }
   ],
   "source": [
    "team1_statlines = statline_df.drop_duplicates(subset='UUID', keep='first')\n",
    "team1_statlines"
   ],
   "metadata": {
    "collapsed": false,
    "ExecuteTime": {
     "end_time": "2023-12-29T22:02:02.756636700Z",
     "start_time": "2023-12-29T22:02:02.657941400Z"
    }
   },
   "id": "3cc0b3a4f072ee1",
   "execution_count": 560
  },
  {
   "cell_type": "code",
   "outputs": [
    {
     "data": {
      "text/plain": "                      Team         Res       Date                     Opp Loc  \\\n129059      Incarnate Word  L, 111-118 2019-03-06       Houston Christian   V   \n89482              Houston    W, 94-89 2015-12-22                 Wyoming   N   \n73248   Northwestern State    W, 88-83 2014-02-27  Southeastern Louisiana   V   \n28017         UC Riverside    W, 76-59 2010-02-06     Cal State Fullerton   V   \n96080       William & Mary    W, 79-64 2016-03-05           James Madison   N   \n...                    ...         ...        ...                     ...  ..   \n127263             Niagara    L, 60-64 2019-02-15               Manhattan   H   \n147642  Northwestern State    L, 57-83 2021-02-24       Stephen F. Austin   H   \n61669              Hofstra    L, 50-79 2013-02-20            George Mason   H   \n11644                 UTEP    W, 75-62 2008-11-27            Saint Mary`s   N   \n75861         Northeastern    W, 68-44 2014-11-22                    Navy   N   \n\n        MIN  PTS  O-PPP  Pace  FGM  ...  Day  Season  Calculated Possessions  \\\n129059  200  111  1.381    80   40  ...    6    2019                      81   \n89482   250   94  1.023    93   33  ...   22    2016                      92   \n73248   200   88  1.189    74   34  ...   27    2014                      74   \n28017   200   76  1.257    60   28  ...    6    2010                      61   \n96080   200   79  1.164    69   25  ...    5    2016                      68   \n...     ...  ...    ...   ...  ...  ...  ...     ...                     ...   \n127263  200   60  1.007    59   22  ...   15    2019                      60   \n147642  194   57  0.805    70   15  ...   24    2021                      71   \n61669   200   50  0.766    64   15  ...   20    2013                      66   \n11644   200   75  0.992    76   22  ...   27    2009                      76   \n75861   200   68  1.142    58   22  ...   22    2015                      60   \n\n        Points Per Possession  Location  2FM  2FA  Calculated Points  \\\n129059               1.370370      Away   30   42                111   \n89482                1.021739   Neutral   25   46                 94   \n73248                1.189189      Away   29   43                 88   \n28017                1.245902      Away   22   47                 76   \n96080                1.161765   Neutral   19   30                 79   \n...                       ...       ...  ...  ...                ...   \n127263               1.000000      Home   16   31                 60   \n147642               0.802817      Home    9   23                 57   \n61669                0.757576      Home   13   38                 50   \n11644                0.986842   Neutral   20   40                 75   \n75861                1.133333   Neutral   14   32                 68   \n\n                                        UUID  Random Value  \n129059  000021aa-83c6-429a-a047-baca985f515d      0.486580  \n89482   0001dbdc-176a-439b-abe8-46a87a975fbb      0.503495  \n73248   00024074-4938-447d-a655-35871cdf4ce9      0.466522  \n28017   0002c799-1ae2-44cc-bdd5-9179133a967a      0.673211  \n96080   000326a3-3879-41ef-bae3-2ecf69461e11      0.680705  \n...                                      ...           ...  \n127263  fffe6833-bf07-4a84-8ec2-580337b888b6      0.694018  \n147642  fffe6e3d-dbd4-49d2-bb2c-396a3a1ab9e7      0.275129  \n61669   ffff2816-3b04-4ddc-98b8-2d0704681236      0.120184  \n11644   ffff7141-cda1-4d07-b7bc-261d42464517      0.457869  \n75861   ffffcc9d-968f-4ae4-9103-ffe33e17f791      0.860144  \n\n[85203 rows x 37 columns]",
      "text/html": "<div>\n<style scoped>\n    .dataframe tbody tr th:only-of-type {\n        vertical-align: middle;\n    }\n\n    .dataframe tbody tr th {\n        vertical-align: top;\n    }\n\n    .dataframe thead th {\n        text-align: right;\n    }\n</style>\n<table border=\"1\" class=\"dataframe\">\n  <thead>\n    <tr style=\"text-align: right;\">\n      <th></th>\n      <th>Team</th>\n      <th>Res</th>\n      <th>Date</th>\n      <th>Opp</th>\n      <th>Loc</th>\n      <th>MIN</th>\n      <th>PTS</th>\n      <th>O-PPP</th>\n      <th>Pace</th>\n      <th>FGM</th>\n      <th>...</th>\n      <th>Day</th>\n      <th>Season</th>\n      <th>Calculated Possessions</th>\n      <th>Points Per Possession</th>\n      <th>Location</th>\n      <th>2FM</th>\n      <th>2FA</th>\n      <th>Calculated Points</th>\n      <th>UUID</th>\n      <th>Random Value</th>\n    </tr>\n  </thead>\n  <tbody>\n    <tr>\n      <th>129059</th>\n      <td>Incarnate Word</td>\n      <td>L, 111-118</td>\n      <td>2019-03-06</td>\n      <td>Houston Christian</td>\n      <td>V</td>\n      <td>200</td>\n      <td>111</td>\n      <td>1.381</td>\n      <td>80</td>\n      <td>40</td>\n      <td>...</td>\n      <td>6</td>\n      <td>2019</td>\n      <td>81</td>\n      <td>1.370370</td>\n      <td>Away</td>\n      <td>30</td>\n      <td>42</td>\n      <td>111</td>\n      <td>000021aa-83c6-429a-a047-baca985f515d</td>\n      <td>0.486580</td>\n    </tr>\n    <tr>\n      <th>89482</th>\n      <td>Houston</td>\n      <td>W, 94-89</td>\n      <td>2015-12-22</td>\n      <td>Wyoming</td>\n      <td>N</td>\n      <td>250</td>\n      <td>94</td>\n      <td>1.023</td>\n      <td>93</td>\n      <td>33</td>\n      <td>...</td>\n      <td>22</td>\n      <td>2016</td>\n      <td>92</td>\n      <td>1.021739</td>\n      <td>Neutral</td>\n      <td>25</td>\n      <td>46</td>\n      <td>94</td>\n      <td>0001dbdc-176a-439b-abe8-46a87a975fbb</td>\n      <td>0.503495</td>\n    </tr>\n    <tr>\n      <th>73248</th>\n      <td>Northwestern State</td>\n      <td>W, 88-83</td>\n      <td>2014-02-27</td>\n      <td>Southeastern Louisiana</td>\n      <td>V</td>\n      <td>200</td>\n      <td>88</td>\n      <td>1.189</td>\n      <td>74</td>\n      <td>34</td>\n      <td>...</td>\n      <td>27</td>\n      <td>2014</td>\n      <td>74</td>\n      <td>1.189189</td>\n      <td>Away</td>\n      <td>29</td>\n      <td>43</td>\n      <td>88</td>\n      <td>00024074-4938-447d-a655-35871cdf4ce9</td>\n      <td>0.466522</td>\n    </tr>\n    <tr>\n      <th>28017</th>\n      <td>UC Riverside</td>\n      <td>W, 76-59</td>\n      <td>2010-02-06</td>\n      <td>Cal State Fullerton</td>\n      <td>V</td>\n      <td>200</td>\n      <td>76</td>\n      <td>1.257</td>\n      <td>60</td>\n      <td>28</td>\n      <td>...</td>\n      <td>6</td>\n      <td>2010</td>\n      <td>61</td>\n      <td>1.245902</td>\n      <td>Away</td>\n      <td>22</td>\n      <td>47</td>\n      <td>76</td>\n      <td>0002c799-1ae2-44cc-bdd5-9179133a967a</td>\n      <td>0.673211</td>\n    </tr>\n    <tr>\n      <th>96080</th>\n      <td>William &amp; Mary</td>\n      <td>W, 79-64</td>\n      <td>2016-03-05</td>\n      <td>James Madison</td>\n      <td>N</td>\n      <td>200</td>\n      <td>79</td>\n      <td>1.164</td>\n      <td>69</td>\n      <td>25</td>\n      <td>...</td>\n      <td>5</td>\n      <td>2016</td>\n      <td>68</td>\n      <td>1.161765</td>\n      <td>Neutral</td>\n      <td>19</td>\n      <td>30</td>\n      <td>79</td>\n      <td>000326a3-3879-41ef-bae3-2ecf69461e11</td>\n      <td>0.680705</td>\n    </tr>\n    <tr>\n      <th>...</th>\n      <td>...</td>\n      <td>...</td>\n      <td>...</td>\n      <td>...</td>\n      <td>...</td>\n      <td>...</td>\n      <td>...</td>\n      <td>...</td>\n      <td>...</td>\n      <td>...</td>\n      <td>...</td>\n      <td>...</td>\n      <td>...</td>\n      <td>...</td>\n      <td>...</td>\n      <td>...</td>\n      <td>...</td>\n      <td>...</td>\n      <td>...</td>\n      <td>...</td>\n      <td>...</td>\n    </tr>\n    <tr>\n      <th>127263</th>\n      <td>Niagara</td>\n      <td>L, 60-64</td>\n      <td>2019-02-15</td>\n      <td>Manhattan</td>\n      <td>H</td>\n      <td>200</td>\n      <td>60</td>\n      <td>1.007</td>\n      <td>59</td>\n      <td>22</td>\n      <td>...</td>\n      <td>15</td>\n      <td>2019</td>\n      <td>60</td>\n      <td>1.000000</td>\n      <td>Home</td>\n      <td>16</td>\n      <td>31</td>\n      <td>60</td>\n      <td>fffe6833-bf07-4a84-8ec2-580337b888b6</td>\n      <td>0.694018</td>\n    </tr>\n    <tr>\n      <th>147642</th>\n      <td>Northwestern State</td>\n      <td>L, 57-83</td>\n      <td>2021-02-24</td>\n      <td>Stephen F. Austin</td>\n      <td>H</td>\n      <td>194</td>\n      <td>57</td>\n      <td>0.805</td>\n      <td>70</td>\n      <td>15</td>\n      <td>...</td>\n      <td>24</td>\n      <td>2021</td>\n      <td>71</td>\n      <td>0.802817</td>\n      <td>Home</td>\n      <td>9</td>\n      <td>23</td>\n      <td>57</td>\n      <td>fffe6e3d-dbd4-49d2-bb2c-396a3a1ab9e7</td>\n      <td>0.275129</td>\n    </tr>\n    <tr>\n      <th>61669</th>\n      <td>Hofstra</td>\n      <td>L, 50-79</td>\n      <td>2013-02-20</td>\n      <td>George Mason</td>\n      <td>H</td>\n      <td>200</td>\n      <td>50</td>\n      <td>0.766</td>\n      <td>64</td>\n      <td>15</td>\n      <td>...</td>\n      <td>20</td>\n      <td>2013</td>\n      <td>66</td>\n      <td>0.757576</td>\n      <td>Home</td>\n      <td>13</td>\n      <td>38</td>\n      <td>50</td>\n      <td>ffff2816-3b04-4ddc-98b8-2d0704681236</td>\n      <td>0.120184</td>\n    </tr>\n    <tr>\n      <th>11644</th>\n      <td>UTEP</td>\n      <td>W, 75-62</td>\n      <td>2008-11-27</td>\n      <td>Saint Mary`s</td>\n      <td>N</td>\n      <td>200</td>\n      <td>75</td>\n      <td>0.992</td>\n      <td>76</td>\n      <td>22</td>\n      <td>...</td>\n      <td>27</td>\n      <td>2009</td>\n      <td>76</td>\n      <td>0.986842</td>\n      <td>Neutral</td>\n      <td>20</td>\n      <td>40</td>\n      <td>75</td>\n      <td>ffff7141-cda1-4d07-b7bc-261d42464517</td>\n      <td>0.457869</td>\n    </tr>\n    <tr>\n      <th>75861</th>\n      <td>Northeastern</td>\n      <td>W, 68-44</td>\n      <td>2014-11-22</td>\n      <td>Navy</td>\n      <td>N</td>\n      <td>200</td>\n      <td>68</td>\n      <td>1.142</td>\n      <td>58</td>\n      <td>22</td>\n      <td>...</td>\n      <td>22</td>\n      <td>2015</td>\n      <td>60</td>\n      <td>1.133333</td>\n      <td>Neutral</td>\n      <td>14</td>\n      <td>32</td>\n      <td>68</td>\n      <td>ffffcc9d-968f-4ae4-9103-ffe33e17f791</td>\n      <td>0.860144</td>\n    </tr>\n  </tbody>\n</table>\n<p>85203 rows × 37 columns</p>\n</div>"
     },
     "execution_count": 561,
     "metadata": {},
     "output_type": "execute_result"
    }
   ],
   "source": [
    "team1_ids = team1_statlines['Obs UUID'].unique()\n",
    "team2_statlines = statline_df.loc[~statline_df['Obs UUID'].isin(team1_ids)]\n",
    "team2_statlines"
   ],
   "metadata": {
    "collapsed": false,
    "ExecuteTime": {
     "end_time": "2023-12-29T22:02:02.902147500Z",
     "start_time": "2023-12-29T22:02:02.751652Z"
    }
   },
   "id": "2df72370a35abd9d",
   "execution_count": 561
  },
  {
   "cell_type": "code",
   "outputs": [
    {
     "data": {
      "text/plain": "                       Team_1       Res_1     Date_1               Opp_1  \\\n0           Houston Christian  W, 118-111 2019-03-06      Incarnate Word   \n1                     Wyoming    L, 89-94 2015-12-22             Houston   \n2      Southeastern Louisiana    L, 83-88 2014-02-27  Northwestern State   \n3         Cal State Fullerton    L, 59-76 2010-02-06        UC Riverside   \n4               James Madison    L, 64-79 2016-03-05      William & Mary   \n...                       ...         ...        ...                 ...   \n85198               Manhattan    W, 64-60 2019-02-15             Niagara   \n85199       Stephen F. Austin    W, 83-57 2021-02-24  Northwestern State   \n85200            George Mason    W, 79-50 2013-02-20             Hofstra   \n85201            Saint Mary`s    L, 62-75 2008-11-27                UTEP   \n85202                    Navy    L, 44-68 2014-11-22        Northeastern   \n\n      Loc_1  MIN_1  PTS_1  O-PPP_1  Pace_1  FGM_1  ...  Month_2  Day_2  \\\n0         H    200    118    1.457      80     39  ...        3      6   \n1         N    250     89    0.948      93     22  ...       12     22   \n2         H    200     83    1.129      74     28  ...        2     27   \n3         H    200     59    0.963      60     18  ...        2      6   \n4         N    200     64    0.920      69     22  ...        3      5   \n...     ...    ...    ...      ...     ...    ...  ...      ...    ...   \n85198     V    200     64    1.110      59     21  ...        2     15   \n85199     V    196     83    1.187      70     34  ...        2     24   \n85200     V    200     79    1.253      64     28  ...        2     20   \n85201     N    200     62    0.811      76     22  ...       11     27   \n85202     N    200     44    0.803      58     19  ...       11     22   \n\n       Season_2  Calculated Possessions_2  Points Per Possession_2  \\\n0          2019                        81                 1.370370   \n1          2016                        92                 1.021739   \n2          2014                        74                 1.189189   \n3          2010                        61                 1.245902   \n4          2016                        68                 1.161765   \n...         ...                       ...                      ...   \n85198      2019                        60                 1.000000   \n85199      2021                        71                 0.802817   \n85200      2013                        66                 0.757576   \n85201      2009                        76                 0.986842   \n85202      2015                        60                 1.133333   \n\n       Location_2  2FM_2  2FA_2  Calculated Points_2  Random Value_2  \n0            Away     30     42                  111        0.486580  \n1         Neutral     25     46                   94        0.503495  \n2            Away     29     43                   88        0.466522  \n3            Away     22     47                   76        0.673211  \n4         Neutral     19     30                   79        0.680705  \n...           ...    ...    ...                  ...             ...  \n85198        Home     16     31                   60        0.694018  \n85199        Home      9     23                   57        0.275129  \n85200        Home     13     38                   50        0.120184  \n85201     Neutral     20     40                   75        0.457869  \n85202     Neutral     14     32                   68        0.860144  \n\n[85203 rows x 73 columns]",
      "text/html": "<div>\n<style scoped>\n    .dataframe tbody tr th:only-of-type {\n        vertical-align: middle;\n    }\n\n    .dataframe tbody tr th {\n        vertical-align: top;\n    }\n\n    .dataframe thead th {\n        text-align: right;\n    }\n</style>\n<table border=\"1\" class=\"dataframe\">\n  <thead>\n    <tr style=\"text-align: right;\">\n      <th></th>\n      <th>Team_1</th>\n      <th>Res_1</th>\n      <th>Date_1</th>\n      <th>Opp_1</th>\n      <th>Loc_1</th>\n      <th>MIN_1</th>\n      <th>PTS_1</th>\n      <th>O-PPP_1</th>\n      <th>Pace_1</th>\n      <th>FGM_1</th>\n      <th>...</th>\n      <th>Month_2</th>\n      <th>Day_2</th>\n      <th>Season_2</th>\n      <th>Calculated Possessions_2</th>\n      <th>Points Per Possession_2</th>\n      <th>Location_2</th>\n      <th>2FM_2</th>\n      <th>2FA_2</th>\n      <th>Calculated Points_2</th>\n      <th>Random Value_2</th>\n    </tr>\n  </thead>\n  <tbody>\n    <tr>\n      <th>0</th>\n      <td>Houston Christian</td>\n      <td>W, 118-111</td>\n      <td>2019-03-06</td>\n      <td>Incarnate Word</td>\n      <td>H</td>\n      <td>200</td>\n      <td>118</td>\n      <td>1.457</td>\n      <td>80</td>\n      <td>39</td>\n      <td>...</td>\n      <td>3</td>\n      <td>6</td>\n      <td>2019</td>\n      <td>81</td>\n      <td>1.370370</td>\n      <td>Away</td>\n      <td>30</td>\n      <td>42</td>\n      <td>111</td>\n      <td>0.486580</td>\n    </tr>\n    <tr>\n      <th>1</th>\n      <td>Wyoming</td>\n      <td>L, 89-94</td>\n      <td>2015-12-22</td>\n      <td>Houston</td>\n      <td>N</td>\n      <td>250</td>\n      <td>89</td>\n      <td>0.948</td>\n      <td>93</td>\n      <td>22</td>\n      <td>...</td>\n      <td>12</td>\n      <td>22</td>\n      <td>2016</td>\n      <td>92</td>\n      <td>1.021739</td>\n      <td>Neutral</td>\n      <td>25</td>\n      <td>46</td>\n      <td>94</td>\n      <td>0.503495</td>\n    </tr>\n    <tr>\n      <th>2</th>\n      <td>Southeastern Louisiana</td>\n      <td>L, 83-88</td>\n      <td>2014-02-27</td>\n      <td>Northwestern State</td>\n      <td>H</td>\n      <td>200</td>\n      <td>83</td>\n      <td>1.129</td>\n      <td>74</td>\n      <td>28</td>\n      <td>...</td>\n      <td>2</td>\n      <td>27</td>\n      <td>2014</td>\n      <td>74</td>\n      <td>1.189189</td>\n      <td>Away</td>\n      <td>29</td>\n      <td>43</td>\n      <td>88</td>\n      <td>0.466522</td>\n    </tr>\n    <tr>\n      <th>3</th>\n      <td>Cal State Fullerton</td>\n      <td>L, 59-76</td>\n      <td>2010-02-06</td>\n      <td>UC Riverside</td>\n      <td>H</td>\n      <td>200</td>\n      <td>59</td>\n      <td>0.963</td>\n      <td>60</td>\n      <td>18</td>\n      <td>...</td>\n      <td>2</td>\n      <td>6</td>\n      <td>2010</td>\n      <td>61</td>\n      <td>1.245902</td>\n      <td>Away</td>\n      <td>22</td>\n      <td>47</td>\n      <td>76</td>\n      <td>0.673211</td>\n    </tr>\n    <tr>\n      <th>4</th>\n      <td>James Madison</td>\n      <td>L, 64-79</td>\n      <td>2016-03-05</td>\n      <td>William &amp; Mary</td>\n      <td>N</td>\n      <td>200</td>\n      <td>64</td>\n      <td>0.920</td>\n      <td>69</td>\n      <td>22</td>\n      <td>...</td>\n      <td>3</td>\n      <td>5</td>\n      <td>2016</td>\n      <td>68</td>\n      <td>1.161765</td>\n      <td>Neutral</td>\n      <td>19</td>\n      <td>30</td>\n      <td>79</td>\n      <td>0.680705</td>\n    </tr>\n    <tr>\n      <th>...</th>\n      <td>...</td>\n      <td>...</td>\n      <td>...</td>\n      <td>...</td>\n      <td>...</td>\n      <td>...</td>\n      <td>...</td>\n      <td>...</td>\n      <td>...</td>\n      <td>...</td>\n      <td>...</td>\n      <td>...</td>\n      <td>...</td>\n      <td>...</td>\n      <td>...</td>\n      <td>...</td>\n      <td>...</td>\n      <td>...</td>\n      <td>...</td>\n      <td>...</td>\n      <td>...</td>\n    </tr>\n    <tr>\n      <th>85198</th>\n      <td>Manhattan</td>\n      <td>W, 64-60</td>\n      <td>2019-02-15</td>\n      <td>Niagara</td>\n      <td>V</td>\n      <td>200</td>\n      <td>64</td>\n      <td>1.110</td>\n      <td>59</td>\n      <td>21</td>\n      <td>...</td>\n      <td>2</td>\n      <td>15</td>\n      <td>2019</td>\n      <td>60</td>\n      <td>1.000000</td>\n      <td>Home</td>\n      <td>16</td>\n      <td>31</td>\n      <td>60</td>\n      <td>0.694018</td>\n    </tr>\n    <tr>\n      <th>85199</th>\n      <td>Stephen F. Austin</td>\n      <td>W, 83-57</td>\n      <td>2021-02-24</td>\n      <td>Northwestern State</td>\n      <td>V</td>\n      <td>196</td>\n      <td>83</td>\n      <td>1.187</td>\n      <td>70</td>\n      <td>34</td>\n      <td>...</td>\n      <td>2</td>\n      <td>24</td>\n      <td>2021</td>\n      <td>71</td>\n      <td>0.802817</td>\n      <td>Home</td>\n      <td>9</td>\n      <td>23</td>\n      <td>57</td>\n      <td>0.275129</td>\n    </tr>\n    <tr>\n      <th>85200</th>\n      <td>George Mason</td>\n      <td>W, 79-50</td>\n      <td>2013-02-20</td>\n      <td>Hofstra</td>\n      <td>V</td>\n      <td>200</td>\n      <td>79</td>\n      <td>1.253</td>\n      <td>64</td>\n      <td>28</td>\n      <td>...</td>\n      <td>2</td>\n      <td>20</td>\n      <td>2013</td>\n      <td>66</td>\n      <td>0.757576</td>\n      <td>Home</td>\n      <td>13</td>\n      <td>38</td>\n      <td>50</td>\n      <td>0.120184</td>\n    </tr>\n    <tr>\n      <th>85201</th>\n      <td>Saint Mary`s</td>\n      <td>L, 62-75</td>\n      <td>2008-11-27</td>\n      <td>UTEP</td>\n      <td>N</td>\n      <td>200</td>\n      <td>62</td>\n      <td>0.811</td>\n      <td>76</td>\n      <td>22</td>\n      <td>...</td>\n      <td>11</td>\n      <td>27</td>\n      <td>2009</td>\n      <td>76</td>\n      <td>0.986842</td>\n      <td>Neutral</td>\n      <td>20</td>\n      <td>40</td>\n      <td>75</td>\n      <td>0.457869</td>\n    </tr>\n    <tr>\n      <th>85202</th>\n      <td>Navy</td>\n      <td>L, 44-68</td>\n      <td>2014-11-22</td>\n      <td>Northeastern</td>\n      <td>N</td>\n      <td>200</td>\n      <td>44</td>\n      <td>0.803</td>\n      <td>58</td>\n      <td>19</td>\n      <td>...</td>\n      <td>11</td>\n      <td>22</td>\n      <td>2015</td>\n      <td>60</td>\n      <td>1.133333</td>\n      <td>Neutral</td>\n      <td>14</td>\n      <td>32</td>\n      <td>68</td>\n      <td>0.860144</td>\n    </tr>\n  </tbody>\n</table>\n<p>85203 rows × 73 columns</p>\n</div>"
     },
     "execution_count": 562,
     "metadata": {},
     "output_type": "execute_result"
    }
   ],
   "source": [
    "statline_df = team1_statlines.merge(team2_statlines, how='outer', on='UUID', suffixes=('_1', '_2'))\n",
    "statline_df"
   ],
   "metadata": {
    "collapsed": false,
    "ExecuteTime": {
     "end_time": "2023-12-29T22:02:03.027485600Z",
     "start_time": "2023-12-29T22:02:02.888593800Z"
    }
   },
   "id": "cf4a5ac317cce06c",
   "execution_count": 562
  },
  {
   "cell_type": "markdown",
   "source": [
    "There are about 140 games where the data are missing, only NC State has had a game where the team has scored less than 33 points since 2007 "
   ],
   "metadata": {
    "collapsed": false
   },
   "id": "18abf0f21a79af50"
  },
  {
   "cell_type": "code",
   "outputs": [
    {
     "data": {
      "text/plain": "                       Team_1       Res_1     Date_1               Opp_1  \\\n0           Houston Christian  W, 118-111 2019-03-06      Incarnate Word   \n1                     Wyoming    L, 89-94 2015-12-22             Houston   \n2      Southeastern Louisiana    L, 83-88 2014-02-27  Northwestern State   \n3         Cal State Fullerton    L, 59-76 2010-02-06        UC Riverside   \n4               James Madison    L, 64-79 2016-03-05      William & Mary   \n...                       ...         ...        ...                 ...   \n85198               Manhattan    W, 64-60 2019-02-15             Niagara   \n85199       Stephen F. Austin    W, 83-57 2021-02-24  Northwestern State   \n85200            George Mason    W, 79-50 2013-02-20             Hofstra   \n85201            Saint Mary`s    L, 62-75 2008-11-27                UTEP   \n85202                    Navy    L, 44-68 2014-11-22        Northeastern   \n\n      Loc_1  MIN_1  PTS_1  O-PPP_1  Pace_1  FGM_1  ...  Month_2  Day_2  \\\n0         H    200    118    1.457      80     39  ...        3      6   \n1         N    250     89    0.948      93     22  ...       12     22   \n2         H    200     83    1.129      74     28  ...        2     27   \n3         H    200     59    0.963      60     18  ...        2      6   \n4         N    200     64    0.920      69     22  ...        3      5   \n...     ...    ...    ...      ...     ...    ...  ...      ...    ...   \n85198     V    200     64    1.110      59     21  ...        2     15   \n85199     V    196     83    1.187      70     34  ...        2     24   \n85200     V    200     79    1.253      64     28  ...        2     20   \n85201     N    200     62    0.811      76     22  ...       11     27   \n85202     N    200     44    0.803      58     19  ...       11     22   \n\n       Season_2  Calculated Possessions_2  Points Per Possession_2  \\\n0          2019                        81                 1.370370   \n1          2016                        92                 1.021739   \n2          2014                        74                 1.189189   \n3          2010                        61                 1.245902   \n4          2016                        68                 1.161765   \n...         ...                       ...                      ...   \n85198      2019                        60                 1.000000   \n85199      2021                        71                 0.802817   \n85200      2013                        66                 0.757576   \n85201      2009                        76                 0.986842   \n85202      2015                        60                 1.133333   \n\n       Location_2  2FM_2  2FA_2  Calculated Points_2  Random Value_2  \n0            Away     30     42                  111        0.486580  \n1         Neutral     25     46                   94        0.503495  \n2            Away     29     43                   88        0.466522  \n3            Away     22     47                   76        0.673211  \n4         Neutral     19     30                   79        0.680705  \n...           ...    ...    ...                  ...             ...  \n85198        Home     16     31                   60        0.694018  \n85199        Home      9     23                   57        0.275129  \n85200        Home     13     38                   50        0.120184  \n85201     Neutral     20     40                   75        0.457869  \n85202     Neutral     14     32                   68        0.860144  \n\n[85063 rows x 73 columns]",
      "text/html": "<div>\n<style scoped>\n    .dataframe tbody tr th:only-of-type {\n        vertical-align: middle;\n    }\n\n    .dataframe tbody tr th {\n        vertical-align: top;\n    }\n\n    .dataframe thead th {\n        text-align: right;\n    }\n</style>\n<table border=\"1\" class=\"dataframe\">\n  <thead>\n    <tr style=\"text-align: right;\">\n      <th></th>\n      <th>Team_1</th>\n      <th>Res_1</th>\n      <th>Date_1</th>\n      <th>Opp_1</th>\n      <th>Loc_1</th>\n      <th>MIN_1</th>\n      <th>PTS_1</th>\n      <th>O-PPP_1</th>\n      <th>Pace_1</th>\n      <th>FGM_1</th>\n      <th>...</th>\n      <th>Month_2</th>\n      <th>Day_2</th>\n      <th>Season_2</th>\n      <th>Calculated Possessions_2</th>\n      <th>Points Per Possession_2</th>\n      <th>Location_2</th>\n      <th>2FM_2</th>\n      <th>2FA_2</th>\n      <th>Calculated Points_2</th>\n      <th>Random Value_2</th>\n    </tr>\n  </thead>\n  <tbody>\n    <tr>\n      <th>0</th>\n      <td>Houston Christian</td>\n      <td>W, 118-111</td>\n      <td>2019-03-06</td>\n      <td>Incarnate Word</td>\n      <td>H</td>\n      <td>200</td>\n      <td>118</td>\n      <td>1.457</td>\n      <td>80</td>\n      <td>39</td>\n      <td>...</td>\n      <td>3</td>\n      <td>6</td>\n      <td>2019</td>\n      <td>81</td>\n      <td>1.370370</td>\n      <td>Away</td>\n      <td>30</td>\n      <td>42</td>\n      <td>111</td>\n      <td>0.486580</td>\n    </tr>\n    <tr>\n      <th>1</th>\n      <td>Wyoming</td>\n      <td>L, 89-94</td>\n      <td>2015-12-22</td>\n      <td>Houston</td>\n      <td>N</td>\n      <td>250</td>\n      <td>89</td>\n      <td>0.948</td>\n      <td>93</td>\n      <td>22</td>\n      <td>...</td>\n      <td>12</td>\n      <td>22</td>\n      <td>2016</td>\n      <td>92</td>\n      <td>1.021739</td>\n      <td>Neutral</td>\n      <td>25</td>\n      <td>46</td>\n      <td>94</td>\n      <td>0.503495</td>\n    </tr>\n    <tr>\n      <th>2</th>\n      <td>Southeastern Louisiana</td>\n      <td>L, 83-88</td>\n      <td>2014-02-27</td>\n      <td>Northwestern State</td>\n      <td>H</td>\n      <td>200</td>\n      <td>83</td>\n      <td>1.129</td>\n      <td>74</td>\n      <td>28</td>\n      <td>...</td>\n      <td>2</td>\n      <td>27</td>\n      <td>2014</td>\n      <td>74</td>\n      <td>1.189189</td>\n      <td>Away</td>\n      <td>29</td>\n      <td>43</td>\n      <td>88</td>\n      <td>0.466522</td>\n    </tr>\n    <tr>\n      <th>3</th>\n      <td>Cal State Fullerton</td>\n      <td>L, 59-76</td>\n      <td>2010-02-06</td>\n      <td>UC Riverside</td>\n      <td>H</td>\n      <td>200</td>\n      <td>59</td>\n      <td>0.963</td>\n      <td>60</td>\n      <td>18</td>\n      <td>...</td>\n      <td>2</td>\n      <td>6</td>\n      <td>2010</td>\n      <td>61</td>\n      <td>1.245902</td>\n      <td>Away</td>\n      <td>22</td>\n      <td>47</td>\n      <td>76</td>\n      <td>0.673211</td>\n    </tr>\n    <tr>\n      <th>4</th>\n      <td>James Madison</td>\n      <td>L, 64-79</td>\n      <td>2016-03-05</td>\n      <td>William &amp; Mary</td>\n      <td>N</td>\n      <td>200</td>\n      <td>64</td>\n      <td>0.920</td>\n      <td>69</td>\n      <td>22</td>\n      <td>...</td>\n      <td>3</td>\n      <td>5</td>\n      <td>2016</td>\n      <td>68</td>\n      <td>1.161765</td>\n      <td>Neutral</td>\n      <td>19</td>\n      <td>30</td>\n      <td>79</td>\n      <td>0.680705</td>\n    </tr>\n    <tr>\n      <th>...</th>\n      <td>...</td>\n      <td>...</td>\n      <td>...</td>\n      <td>...</td>\n      <td>...</td>\n      <td>...</td>\n      <td>...</td>\n      <td>...</td>\n      <td>...</td>\n      <td>...</td>\n      <td>...</td>\n      <td>...</td>\n      <td>...</td>\n      <td>...</td>\n      <td>...</td>\n      <td>...</td>\n      <td>...</td>\n      <td>...</td>\n      <td>...</td>\n      <td>...</td>\n      <td>...</td>\n    </tr>\n    <tr>\n      <th>85198</th>\n      <td>Manhattan</td>\n      <td>W, 64-60</td>\n      <td>2019-02-15</td>\n      <td>Niagara</td>\n      <td>V</td>\n      <td>200</td>\n      <td>64</td>\n      <td>1.110</td>\n      <td>59</td>\n      <td>21</td>\n      <td>...</td>\n      <td>2</td>\n      <td>15</td>\n      <td>2019</td>\n      <td>60</td>\n      <td>1.000000</td>\n      <td>Home</td>\n      <td>16</td>\n      <td>31</td>\n      <td>60</td>\n      <td>0.694018</td>\n    </tr>\n    <tr>\n      <th>85199</th>\n      <td>Stephen F. Austin</td>\n      <td>W, 83-57</td>\n      <td>2021-02-24</td>\n      <td>Northwestern State</td>\n      <td>V</td>\n      <td>196</td>\n      <td>83</td>\n      <td>1.187</td>\n      <td>70</td>\n      <td>34</td>\n      <td>...</td>\n      <td>2</td>\n      <td>24</td>\n      <td>2021</td>\n      <td>71</td>\n      <td>0.802817</td>\n      <td>Home</td>\n      <td>9</td>\n      <td>23</td>\n      <td>57</td>\n      <td>0.275129</td>\n    </tr>\n    <tr>\n      <th>85200</th>\n      <td>George Mason</td>\n      <td>W, 79-50</td>\n      <td>2013-02-20</td>\n      <td>Hofstra</td>\n      <td>V</td>\n      <td>200</td>\n      <td>79</td>\n      <td>1.253</td>\n      <td>64</td>\n      <td>28</td>\n      <td>...</td>\n      <td>2</td>\n      <td>20</td>\n      <td>2013</td>\n      <td>66</td>\n      <td>0.757576</td>\n      <td>Home</td>\n      <td>13</td>\n      <td>38</td>\n      <td>50</td>\n      <td>0.120184</td>\n    </tr>\n    <tr>\n      <th>85201</th>\n      <td>Saint Mary`s</td>\n      <td>L, 62-75</td>\n      <td>2008-11-27</td>\n      <td>UTEP</td>\n      <td>N</td>\n      <td>200</td>\n      <td>62</td>\n      <td>0.811</td>\n      <td>76</td>\n      <td>22</td>\n      <td>...</td>\n      <td>11</td>\n      <td>27</td>\n      <td>2009</td>\n      <td>76</td>\n      <td>0.986842</td>\n      <td>Neutral</td>\n      <td>20</td>\n      <td>40</td>\n      <td>75</td>\n      <td>0.457869</td>\n    </tr>\n    <tr>\n      <th>85202</th>\n      <td>Navy</td>\n      <td>L, 44-68</td>\n      <td>2014-11-22</td>\n      <td>Northeastern</td>\n      <td>N</td>\n      <td>200</td>\n      <td>44</td>\n      <td>0.803</td>\n      <td>58</td>\n      <td>19</td>\n      <td>...</td>\n      <td>11</td>\n      <td>22</td>\n      <td>2015</td>\n      <td>60</td>\n      <td>1.133333</td>\n      <td>Neutral</td>\n      <td>14</td>\n      <td>32</td>\n      <td>68</td>\n      <td>0.860144</td>\n    </tr>\n  </tbody>\n</table>\n<p>85063 rows × 73 columns</p>\n</div>"
     },
     "execution_count": 563,
     "metadata": {},
     "output_type": "execute_result"
    }
   ],
   "source": [
    "statline_df = statline_df.loc[((statline_df['Calculated Points_1'] > 32) | (statline_df['Team_1'] == 'North Carolina State')) &\n",
    "                              ((statline_df['Calculated Points_2'] > 32) | (statline_df['Team_2'] == 'North Carolina State'))]\n",
    "statline_df"
   ],
   "metadata": {
    "collapsed": false,
    "ExecuteTime": {
     "end_time": "2023-12-29T22:02:03.142308Z",
     "start_time": "2023-12-29T22:02:03.017641Z"
    }
   },
   "id": "fea3bd38bbfcebe7",
   "execution_count": 563
  },
  {
   "cell_type": "markdown",
   "source": [
    "Since we know the Res column is often incorrect, we are recalculating which team won based off the final score"
   ],
   "metadata": {
    "collapsed": false
   },
   "id": "e528f9348c089436"
  },
  {
   "cell_type": "code",
   "outputs": [
    {
     "name": "stderr",
     "output_type": "stream",
     "text": [
      "C:\\Users\\Colin\\AppData\\Local\\Temp\\ipykernel_24104\\597576929.py:1: SettingWithCopyWarning: \n",
      "A value is trying to be set on a copy of a slice from a DataFrame.\n",
      "Try using .loc[row_indexer,col_indexer] = value instead\n",
      "\n",
      "See the caveats in the documentation: https://pandas.pydata.org/pandas-docs/stable/user_guide/indexing.html#returning-a-view-versus-a-copy\n",
      "  statline_df['Victory_1'] = statline_df.apply(lambda r: 1 if r['Calculated Points_1'] > r['Calculated Points_2'] else 0, axis=1)\n",
      "C:\\Users\\Colin\\AppData\\Local\\Temp\\ipykernel_24104\\597576929.py:2: SettingWithCopyWarning: \n",
      "A value is trying to be set on a copy of a slice from a DataFrame.\n",
      "Try using .loc[row_indexer,col_indexer] = value instead\n",
      "\n",
      "See the caveats in the documentation: https://pandas.pydata.org/pandas-docs/stable/user_guide/indexing.html#returning-a-view-versus-a-copy\n",
      "  statline_df['Victory_2'] = statline_df.apply(lambda r: 1 if r['Calculated Points_1'] < r['Calculated Points_2'] else 0, axis=1)\n"
     ]
    }
   ],
   "source": [
    "statline_df['Victory_1'] = statline_df.apply(lambda r: 1 if r['Calculated Points_1'] > r['Calculated Points_2'] else 0, axis=1)\n",
    "statline_df['Victory_2'] = statline_df.apply(lambda r: 1 if r['Calculated Points_1'] < r['Calculated Points_2'] else 0, axis=1)"
   ],
   "metadata": {
    "collapsed": false,
    "ExecuteTime": {
     "end_time": "2023-12-29T22:02:04.633312500Z",
     "start_time": "2023-12-29T22:02:03.107487100Z"
    }
   },
   "id": "e66dac024e6fb1a",
   "execution_count": 564
  },
  {
   "cell_type": "markdown",
   "source": [
    "### Error Checking"
   ],
   "metadata": {
    "collapsed": false
   },
   "id": "f55839993a2ddbad"
  },
  {
   "cell_type": "code",
   "outputs": [
    {
     "data": {
      "text/plain": "True"
     },
     "execution_count": 565,
     "metadata": {},
     "output_type": "execute_result"
    }
   ],
   "source": [
    "pd.Series(statline_df['Victory_1'] == statline_df['Victory_2']).any()"
   ],
   "metadata": {
    "collapsed": false,
    "ExecuteTime": {
     "end_time": "2023-12-29T22:02:04.661180100Z",
     "start_time": "2023-12-29T22:02:04.634309100Z"
    }
   },
   "id": "2fa082e4c33bfa24",
   "execution_count": 565
  },
  {
   "cell_type": "code",
   "outputs": [
    {
     "data": {
      "text/plain": "False"
     },
     "execution_count": 566,
     "metadata": {},
     "output_type": "execute_result"
    }
   ],
   "source": [
    "any((statline_df['Victory_1'] == 1) & (statline_df['Calculated Points_1'] < statline_df['Calculated Points_2']))"
   ],
   "metadata": {
    "collapsed": false,
    "ExecuteTime": {
     "end_time": "2023-12-29T22:02:04.665424800Z",
     "start_time": "2023-12-29T22:02:04.648430Z"
    }
   },
   "id": "70f6b88bab6799a",
   "execution_count": 566
  },
  {
   "cell_type": "code",
   "outputs": [
    {
     "data": {
      "text/plain": "Empty DataFrame\nColumns: [Team_1, Team_2, Date_1, Season_1, Res_1, PTS_1, PTS_2, Calculated Points_1, Calculated Points_2]\nIndex: []",
      "text/html": "<div>\n<style scoped>\n    .dataframe tbody tr th:only-of-type {\n        vertical-align: middle;\n    }\n\n    .dataframe tbody tr th {\n        vertical-align: top;\n    }\n\n    .dataframe thead th {\n        text-align: right;\n    }\n</style>\n<table border=\"1\" class=\"dataframe\">\n  <thead>\n    <tr style=\"text-align: right;\">\n      <th></th>\n      <th>Team_1</th>\n      <th>Team_2</th>\n      <th>Date_1</th>\n      <th>Season_1</th>\n      <th>Res_1</th>\n      <th>PTS_1</th>\n      <th>PTS_2</th>\n      <th>Calculated Points_1</th>\n      <th>Calculated Points_2</th>\n    </tr>\n  </thead>\n  <tbody>\n  </tbody>\n</table>\n</div>"
     },
     "execution_count": 567,
     "metadata": {},
     "output_type": "execute_result"
    }
   ],
   "source": [
    "statline_df.loc[(statline_df['Victory_1'] == 1) & (statline_df['Calculated Points_1'] < statline_df['Calculated Points_2'])][['Team_1', 'Team_2', 'Date_1', 'Season_1', 'Res_1', 'PTS_1', 'PTS_2', 'Calculated Points_1', 'Calculated Points_2']]"
   ],
   "metadata": {
    "collapsed": false,
    "ExecuteTime": {
     "end_time": "2023-12-29T22:02:04.706755900Z",
     "start_time": "2023-12-29T22:02:04.666421900Z"
    }
   },
   "id": "fae945ba2404b2a3",
   "execution_count": 567
  },
  {
   "cell_type": "code",
   "outputs": [
    {
     "data": {
      "text/plain": "False"
     },
     "execution_count": 568,
     "metadata": {},
     "output_type": "execute_result"
    }
   ],
   "source": [
    "any((statline_df['Victory_2'] == 1) & (statline_df['Calculated Points_2'] < statline_df['Calculated Points_1']))"
   ],
   "metadata": {
    "collapsed": false,
    "ExecuteTime": {
     "end_time": "2023-12-29T22:02:04.722142200Z",
     "start_time": "2023-12-29T22:02:04.680124200Z"
    }
   },
   "id": "ccaf893f0ff1d200",
   "execution_count": 568
  },
  {
   "cell_type": "code",
   "outputs": [
    {
     "data": {
      "text/plain": "Empty DataFrame\nColumns: [Team_1, Team_2, Date_1, Season_1, Res_1, PTS_1, PTS_2, Calculated Points_1, Calculated Points_2]\nIndex: []",
      "text/html": "<div>\n<style scoped>\n    .dataframe tbody tr th:only-of-type {\n        vertical-align: middle;\n    }\n\n    .dataframe tbody tr th {\n        vertical-align: top;\n    }\n\n    .dataframe thead th {\n        text-align: right;\n    }\n</style>\n<table border=\"1\" class=\"dataframe\">\n  <thead>\n    <tr style=\"text-align: right;\">\n      <th></th>\n      <th>Team_1</th>\n      <th>Team_2</th>\n      <th>Date_1</th>\n      <th>Season_1</th>\n      <th>Res_1</th>\n      <th>PTS_1</th>\n      <th>PTS_2</th>\n      <th>Calculated Points_1</th>\n      <th>Calculated Points_2</th>\n    </tr>\n  </thead>\n  <tbody>\n  </tbody>\n</table>\n</div>"
     },
     "execution_count": 569,
     "metadata": {},
     "output_type": "execute_result"
    }
   ],
   "source": [
    "statline_df.loc[(statline_df['Victory_2'] == 1) & (statline_df['Calculated Points_2'] < statline_df['Calculated Points_1'])][['Team_1', 'Team_2', 'Date_1', 'Season_1', 'Res_1', 'PTS_1', 'PTS_2', 'Calculated Points_1', 'Calculated Points_2']]"
   ],
   "metadata": {
    "collapsed": false,
    "ExecuteTime": {
     "end_time": "2023-12-29T22:02:04.748435500Z",
     "start_time": "2023-12-29T22:02:04.697926800Z"
    }
   },
   "id": "86076789735a9db5",
   "execution_count": 569
  },
  {
   "cell_type": "code",
   "outputs": [
    {
     "data": {
      "text/plain": "False"
     },
     "execution_count": 570,
     "metadata": {},
     "output_type": "execute_result"
    }
   ],
   "source": [
    "pd.Series(statline_df['Date_1'] != statline_df['Date_2']).any()"
   ],
   "metadata": {
    "collapsed": false,
    "ExecuteTime": {
     "end_time": "2023-12-29T22:02:04.768452800Z",
     "start_time": "2023-12-29T22:02:04.711656100Z"
    }
   },
   "id": "2cd8a0f17963d5ea",
   "execution_count": 570
  },
  {
   "cell_type": "code",
   "outputs": [
    {
     "data": {
      "text/plain": "False"
     },
     "execution_count": 571,
     "metadata": {},
     "output_type": "execute_result"
    }
   ],
   "source": [
    "pd.Series(statline_df['Year_1'] != statline_df['Year_2']).any()"
   ],
   "metadata": {
    "collapsed": false,
    "ExecuteTime": {
     "end_time": "2023-12-29T22:02:04.768452800Z",
     "start_time": "2023-12-29T22:02:04.728576100Z"
    }
   },
   "id": "d616e42455e1afe4",
   "execution_count": 571
  },
  {
   "cell_type": "code",
   "outputs": [
    {
     "data": {
      "text/plain": "False"
     },
     "execution_count": 572,
     "metadata": {},
     "output_type": "execute_result"
    }
   ],
   "source": [
    "pd.Series(statline_df['Month_1'] != statline_df['Month_2']).any()"
   ],
   "metadata": {
    "collapsed": false,
    "ExecuteTime": {
     "end_time": "2023-12-29T22:02:04.803146600Z",
     "start_time": "2023-12-29T22:02:04.745445100Z"
    }
   },
   "id": "5fb70949cbfa5766",
   "execution_count": 572
  },
  {
   "cell_type": "code",
   "outputs": [
    {
     "data": {
      "text/plain": "False"
     },
     "execution_count": 573,
     "metadata": {},
     "output_type": "execute_result"
    }
   ],
   "source": [
    "pd.Series(statline_df['Day_1'] != statline_df['Day_2']).any()"
   ],
   "metadata": {
    "collapsed": false,
    "ExecuteTime": {
     "end_time": "2023-12-29T22:02:04.807133400Z",
     "start_time": "2023-12-29T22:02:04.759923400Z"
    }
   },
   "id": "e19fb04bad2c64c5",
   "execution_count": 573
  },
  {
   "cell_type": "code",
   "outputs": [
    {
     "data": {
      "text/plain": "False"
     },
     "execution_count": 574,
     "metadata": {},
     "output_type": "execute_result"
    }
   ],
   "source": [
    "pd.Series(statline_df['Season_1'] != statline_df['Season_2']).any()"
   ],
   "metadata": {
    "collapsed": false,
    "ExecuteTime": {
     "end_time": "2023-12-29T22:02:04.868556100Z",
     "start_time": "2023-12-29T22:02:04.775094100Z"
    }
   },
   "id": "c2711b7b903d57d9",
   "execution_count": 574
  },
  {
   "cell_type": "code",
   "outputs": [
    {
     "data": {
      "text/plain": "False"
     },
     "execution_count": 575,
     "metadata": {},
     "output_type": "execute_result"
    }
   ],
   "source": [
    "pd.Series((statline_df['Team_1'] != statline_df['Opp_2']) | (statline_df['Team_2'] != statline_df['Opp_1'])).any()"
   ],
   "metadata": {
    "collapsed": false,
    "ExecuteTime": {
     "end_time": "2023-12-29T22:02:04.895629600Z",
     "start_time": "2023-12-29T22:02:04.791112Z"
    }
   },
   "id": "269fbfd1d62ea70",
   "execution_count": 575
  },
  {
   "cell_type": "code",
   "outputs": [
    {
     "data": {
      "text/plain": "False"
     },
     "execution_count": 576,
     "metadata": {},
     "output_type": "execute_result"
    }
   ],
   "source": [
    "pd.Series((statline_df['PTS_1'] != statline_df['Calculated Points_1']) | (statline_df['PTS_2'] != statline_df['Calculated Points_2'])).any()"
   ],
   "metadata": {
    "collapsed": false,
    "ExecuteTime": {
     "end_time": "2023-12-29T22:02:04.906117700Z",
     "start_time": "2023-12-29T22:02:04.806136800Z"
    }
   },
   "id": "790d8ea612aa2576",
   "execution_count": 576
  },
  {
   "cell_type": "markdown",
   "source": [
    "### Drop Redundant Columns and Rename Columns"
   ],
   "metadata": {
    "collapsed": false
   },
   "id": "5179f66846d58549"
  },
  {
   "cell_type": "code",
   "outputs": [
    {
     "data": {
      "text/plain": "                       Team_1       Date  MIN_1  PTS_1  O-PPP_1  Pace_1  \\\n0           Houston Christian 2019-03-06    200    118    1.457      80   \n1                     Wyoming 2015-12-22    250     89    0.948      93   \n2      Southeastern Louisiana 2014-02-27    200     83    1.129      74   \n3         Cal State Fullerton 2010-02-06    200     59    0.963      60   \n4               James Madison 2016-03-05    200     64    0.920      69   \n...                       ...        ...    ...    ...      ...     ...   \n85198               Manhattan 2019-02-15    200     64    1.110      59   \n85199       Stephen F. Austin 2021-02-24    196     83    1.187      70   \n85200            George Mason 2013-02-20    200     79    1.253      64   \n85201            Saint Mary`s 2008-11-27    200     62    0.811      76   \n85202                    Navy 2014-11-22    200     44    0.803      58   \n\n       FGM_1  FGA_1  3FM_1  3FA_1  ...  AST_2  STL_2  BLK_2  TO_2  F_2  \\\n0         39     62     10     20  ...     22      2      2    12   30   \n1         22     57      9     28  ...     12     10      2    12   35   \n2         28     57     11     23  ...     16      5      2    13   16   \n3         18     44      6     14  ...     12      4      0     9   21   \n4         22     62      9     32  ...     15      7      1    10   18   \n...      ...    ...    ...    ...  ...    ...    ...    ...   ...  ...   \n85198     21     47     10     21  ...     12      2      6    10   17   \n85199     34     65      6     18  ...      7      3      3    18   19   \n85200     28     52      8     14  ...      6      5      4    11   18   \n85201     22     61      3     24  ...     11      4      2    18   29   \n85202     19     42      4     12  ...     13      5      4    15   14   \n\n       Possessions_2  Points Per Possession_2  2FM_2  2FA_2  Points_2  \n0                 81                 1.370370     30     42       111  \n1                 92                 1.021739     25     46        94  \n2                 74                 1.189189     29     43        88  \n3                 61                 1.245902     22     47        76  \n4                 68                 1.161765     19     30        79  \n...              ...                      ...    ...    ...       ...  \n85198             60                 1.000000     16     31        60  \n85199             71                 0.802817      9     23        57  \n85200             66                 0.757576     13     38        50  \n85201             76                 0.986842     20     40        75  \n85202             60                 1.133333     14     32        68  \n\n[85063 rows x 56 columns]",
      "text/html": "<div>\n<style scoped>\n    .dataframe tbody tr th:only-of-type {\n        vertical-align: middle;\n    }\n\n    .dataframe tbody tr th {\n        vertical-align: top;\n    }\n\n    .dataframe thead th {\n        text-align: right;\n    }\n</style>\n<table border=\"1\" class=\"dataframe\">\n  <thead>\n    <tr style=\"text-align: right;\">\n      <th></th>\n      <th>Team_1</th>\n      <th>Date</th>\n      <th>MIN_1</th>\n      <th>PTS_1</th>\n      <th>O-PPP_1</th>\n      <th>Pace_1</th>\n      <th>FGM_1</th>\n      <th>FGA_1</th>\n      <th>3FM_1</th>\n      <th>3FA_1</th>\n      <th>...</th>\n      <th>AST_2</th>\n      <th>STL_2</th>\n      <th>BLK_2</th>\n      <th>TO_2</th>\n      <th>F_2</th>\n      <th>Possessions_2</th>\n      <th>Points Per Possession_2</th>\n      <th>2FM_2</th>\n      <th>2FA_2</th>\n      <th>Points_2</th>\n    </tr>\n  </thead>\n  <tbody>\n    <tr>\n      <th>0</th>\n      <td>Houston Christian</td>\n      <td>2019-03-06</td>\n      <td>200</td>\n      <td>118</td>\n      <td>1.457</td>\n      <td>80</td>\n      <td>39</td>\n      <td>62</td>\n      <td>10</td>\n      <td>20</td>\n      <td>...</td>\n      <td>22</td>\n      <td>2</td>\n      <td>2</td>\n      <td>12</td>\n      <td>30</td>\n      <td>81</td>\n      <td>1.370370</td>\n      <td>30</td>\n      <td>42</td>\n      <td>111</td>\n    </tr>\n    <tr>\n      <th>1</th>\n      <td>Wyoming</td>\n      <td>2015-12-22</td>\n      <td>250</td>\n      <td>89</td>\n      <td>0.948</td>\n      <td>93</td>\n      <td>22</td>\n      <td>57</td>\n      <td>9</td>\n      <td>28</td>\n      <td>...</td>\n      <td>12</td>\n      <td>10</td>\n      <td>2</td>\n      <td>12</td>\n      <td>35</td>\n      <td>92</td>\n      <td>1.021739</td>\n      <td>25</td>\n      <td>46</td>\n      <td>94</td>\n    </tr>\n    <tr>\n      <th>2</th>\n      <td>Southeastern Louisiana</td>\n      <td>2014-02-27</td>\n      <td>200</td>\n      <td>83</td>\n      <td>1.129</td>\n      <td>74</td>\n      <td>28</td>\n      <td>57</td>\n      <td>11</td>\n      <td>23</td>\n      <td>...</td>\n      <td>16</td>\n      <td>5</td>\n      <td>2</td>\n      <td>13</td>\n      <td>16</td>\n      <td>74</td>\n      <td>1.189189</td>\n      <td>29</td>\n      <td>43</td>\n      <td>88</td>\n    </tr>\n    <tr>\n      <th>3</th>\n      <td>Cal State Fullerton</td>\n      <td>2010-02-06</td>\n      <td>200</td>\n      <td>59</td>\n      <td>0.963</td>\n      <td>60</td>\n      <td>18</td>\n      <td>44</td>\n      <td>6</td>\n      <td>14</td>\n      <td>...</td>\n      <td>12</td>\n      <td>4</td>\n      <td>0</td>\n      <td>9</td>\n      <td>21</td>\n      <td>61</td>\n      <td>1.245902</td>\n      <td>22</td>\n      <td>47</td>\n      <td>76</td>\n    </tr>\n    <tr>\n      <th>4</th>\n      <td>James Madison</td>\n      <td>2016-03-05</td>\n      <td>200</td>\n      <td>64</td>\n      <td>0.920</td>\n      <td>69</td>\n      <td>22</td>\n      <td>62</td>\n      <td>9</td>\n      <td>32</td>\n      <td>...</td>\n      <td>15</td>\n      <td>7</td>\n      <td>1</td>\n      <td>10</td>\n      <td>18</td>\n      <td>68</td>\n      <td>1.161765</td>\n      <td>19</td>\n      <td>30</td>\n      <td>79</td>\n    </tr>\n    <tr>\n      <th>...</th>\n      <td>...</td>\n      <td>...</td>\n      <td>...</td>\n      <td>...</td>\n      <td>...</td>\n      <td>...</td>\n      <td>...</td>\n      <td>...</td>\n      <td>...</td>\n      <td>...</td>\n      <td>...</td>\n      <td>...</td>\n      <td>...</td>\n      <td>...</td>\n      <td>...</td>\n      <td>...</td>\n      <td>...</td>\n      <td>...</td>\n      <td>...</td>\n      <td>...</td>\n      <td>...</td>\n    </tr>\n    <tr>\n      <th>85198</th>\n      <td>Manhattan</td>\n      <td>2019-02-15</td>\n      <td>200</td>\n      <td>64</td>\n      <td>1.110</td>\n      <td>59</td>\n      <td>21</td>\n      <td>47</td>\n      <td>10</td>\n      <td>21</td>\n      <td>...</td>\n      <td>12</td>\n      <td>2</td>\n      <td>6</td>\n      <td>10</td>\n      <td>17</td>\n      <td>60</td>\n      <td>1.000000</td>\n      <td>16</td>\n      <td>31</td>\n      <td>60</td>\n    </tr>\n    <tr>\n      <th>85199</th>\n      <td>Stephen F. Austin</td>\n      <td>2021-02-24</td>\n      <td>196</td>\n      <td>83</td>\n      <td>1.187</td>\n      <td>70</td>\n      <td>34</td>\n      <td>65</td>\n      <td>6</td>\n      <td>18</td>\n      <td>...</td>\n      <td>7</td>\n      <td>3</td>\n      <td>3</td>\n      <td>18</td>\n      <td>19</td>\n      <td>71</td>\n      <td>0.802817</td>\n      <td>9</td>\n      <td>23</td>\n      <td>57</td>\n    </tr>\n    <tr>\n      <th>85200</th>\n      <td>George Mason</td>\n      <td>2013-02-20</td>\n      <td>200</td>\n      <td>79</td>\n      <td>1.253</td>\n      <td>64</td>\n      <td>28</td>\n      <td>52</td>\n      <td>8</td>\n      <td>14</td>\n      <td>...</td>\n      <td>6</td>\n      <td>5</td>\n      <td>4</td>\n      <td>11</td>\n      <td>18</td>\n      <td>66</td>\n      <td>0.757576</td>\n      <td>13</td>\n      <td>38</td>\n      <td>50</td>\n    </tr>\n    <tr>\n      <th>85201</th>\n      <td>Saint Mary`s</td>\n      <td>2008-11-27</td>\n      <td>200</td>\n      <td>62</td>\n      <td>0.811</td>\n      <td>76</td>\n      <td>22</td>\n      <td>61</td>\n      <td>3</td>\n      <td>24</td>\n      <td>...</td>\n      <td>11</td>\n      <td>4</td>\n      <td>2</td>\n      <td>18</td>\n      <td>29</td>\n      <td>76</td>\n      <td>0.986842</td>\n      <td>20</td>\n      <td>40</td>\n      <td>75</td>\n    </tr>\n    <tr>\n      <th>85202</th>\n      <td>Navy</td>\n      <td>2014-11-22</td>\n      <td>200</td>\n      <td>44</td>\n      <td>0.803</td>\n      <td>58</td>\n      <td>19</td>\n      <td>42</td>\n      <td>4</td>\n      <td>12</td>\n      <td>...</td>\n      <td>13</td>\n      <td>5</td>\n      <td>4</td>\n      <td>15</td>\n      <td>14</td>\n      <td>60</td>\n      <td>1.133333</td>\n      <td>14</td>\n      <td>32</td>\n      <td>68</td>\n    </tr>\n  </tbody>\n</table>\n<p>85063 rows × 56 columns</p>\n</div>"
     },
     "execution_count": 577,
     "metadata": {},
     "output_type": "execute_result"
    }
   ],
   "source": [
    "statline_df = statline_df.drop(columns=['Res_1', 'Opp_1', 'Loc_1', 'Obs UUID_1', 'Random Value_1', 'Res_2', 'Date_2', 'Opp_2', 'Loc_2',\n",
    "                                        'Obs UUID_2', 'Victory_2', 'Year_2', 'Month_2', 'Day_2', 'Season_2', 'Location_2', \n",
    "                                        'Random Value_2'])\n",
    "\n",
    "statline_df = statline_df.rename(columns={'Date_1': 'Date',\n",
    "                                          'Victory_1': 'Team_1_Victory',\n",
    "                                          'Year_1': 'Year',\n",
    "                                          'Month_1': 'Month',\n",
    "                                          'Day_1': 'Day',\n",
    "                                          'Season_1': 'Season',\n",
    "                                          'Calculated Points_1': 'Points_1',\n",
    "                                          'Calculated Points_2': 'Points_2',\n",
    "                                          'Calculated Possessions_1': 'Possessions_1',\n",
    "                                          'Calculated Possessions_2': 'Possessions_2',\n",
    "                                          'Location_1': 'Team_1_Location'})\n",
    "statline_df"
   ],
   "metadata": {
    "collapsed": false,
    "ExecuteTime": {
     "end_time": "2023-12-29T22:02:04.950046200Z",
     "start_time": "2023-12-29T22:02:04.822119Z"
    }
   },
   "id": "3c8a4283a4408fff",
   "execution_count": 577
  },
  {
   "cell_type": "markdown",
   "source": [
    "### Reorder Columns"
   ],
   "metadata": {
    "collapsed": false
   },
   "id": "80003a3a76e7e0c4"
  },
  {
   "cell_type": "code",
   "outputs": [
    {
     "data": {
      "text/plain": "                                       UUID       Date  Year  Month  Day  \\\n0      01dbf56d-681b-47e1-917a-af746d6f906d 2007-11-05  2007     11    5   \n1      3a1dcea9-5dc4-4468-af40-bbdeb727914b 2007-11-05  2007     11    5   \n2      a83307d5-9410-475f-b95a-f054f5cb2111 2007-11-06  2007     11    6   \n3      4ced5612-488a-42dd-ac40-cd016d5f7644 2007-11-06  2007     11    6   \n4      c7635057-16be-4f56-ad92-102d30d33caf 2007-11-06  2007     11    6   \n...                                     ...        ...   ...    ...  ...   \n85058  a2394567-37c5-48d1-8086-9a1c4fc4691c 2023-03-28  2023      3   28   \n85059  192dafc9-e857-4764-9e8e-3a04af1bb73c 2023-03-30  2023      3   30   \n85060  62792664-cb9d-46f6-a0ae-da5b4eac020a 2023-04-01  2023      4    1   \n85061  7ed7115c-cb3a-43d4-9aff-d05ffa5b0156 2023-04-01  2023      4    1   \n85062  9ba510b2-bd9b-4180-9602-0042dc6bd324 2023-04-03  2023      4    3   \n\n       Season Team_1_Location  Team_1_Victory           Team_1  MIN_1  ...  \\\n0        2008         Neutral               1         Richmond    200  ...   \n1        2008            Home               1          Memphis    200  ...   \n2        2008         Neutral               1     Gardner-Webb    200  ...   \n3        2008            Away               0         Richmond    200  ...   \n4        2008            Home               1         Kentucky    200  ...   \n...       ...             ...             ...              ...    ...  ...   \n85058    2023            Away               0      Utah Valley    221  ...   \n85059    2023            Home               1      North Texas    196  ...   \n85060    2023            Home               1  San Diego State    195  ...   \n85061    2023            Away               0     Miami (Fla.)    195  ...   \n85062    2023            Away               0  San Diego State    193  ...   \n\n       FTM_2  FTA_2  OREB_2  TmRb_2  REB_2  AST_2  STL_2  BLK_2  TO_2  F_2  \n0          3      5      11       0     39      9      9      1    28   12  \n1         13     22      15       0     41     16      5      2    18   22  \n2         17     26      10       0     30      9      4      8    27   24  \n3         21     32      11       0     36     15     13     10    17   18  \n4         17     21      11       0     25      5      5      4    18   18  \n...      ...    ...     ...     ...    ...    ...    ...    ...   ...  ...  \n85058     17     22      11       0     42     14      9      4    10   23  \n85059     24     31       9       0     27      8      7      2    11   14  \n85060     16     21       7       0     31      6      6      2     9   17  \n85061      7     13      13       0     40     19      5      5    14   11  \n85062     24     27      10       0     40     13      8      6    13   15  \n\n[85063 rows x 50 columns]",
      "text/html": "<div>\n<style scoped>\n    .dataframe tbody tr th:only-of-type {\n        vertical-align: middle;\n    }\n\n    .dataframe tbody tr th {\n        vertical-align: top;\n    }\n\n    .dataframe thead th {\n        text-align: right;\n    }\n</style>\n<table border=\"1\" class=\"dataframe\">\n  <thead>\n    <tr style=\"text-align: right;\">\n      <th></th>\n      <th>UUID</th>\n      <th>Date</th>\n      <th>Year</th>\n      <th>Month</th>\n      <th>Day</th>\n      <th>Season</th>\n      <th>Team_1_Location</th>\n      <th>Team_1_Victory</th>\n      <th>Team_1</th>\n      <th>MIN_1</th>\n      <th>...</th>\n      <th>FTM_2</th>\n      <th>FTA_2</th>\n      <th>OREB_2</th>\n      <th>TmRb_2</th>\n      <th>REB_2</th>\n      <th>AST_2</th>\n      <th>STL_2</th>\n      <th>BLK_2</th>\n      <th>TO_2</th>\n      <th>F_2</th>\n    </tr>\n  </thead>\n  <tbody>\n    <tr>\n      <th>0</th>\n      <td>01dbf56d-681b-47e1-917a-af746d6f906d</td>\n      <td>2007-11-05</td>\n      <td>2007</td>\n      <td>11</td>\n      <td>5</td>\n      <td>2008</td>\n      <td>Neutral</td>\n      <td>1</td>\n      <td>Richmond</td>\n      <td>200</td>\n      <td>...</td>\n      <td>3</td>\n      <td>5</td>\n      <td>11</td>\n      <td>0</td>\n      <td>39</td>\n      <td>9</td>\n      <td>9</td>\n      <td>1</td>\n      <td>28</td>\n      <td>12</td>\n    </tr>\n    <tr>\n      <th>1</th>\n      <td>3a1dcea9-5dc4-4468-af40-bbdeb727914b</td>\n      <td>2007-11-05</td>\n      <td>2007</td>\n      <td>11</td>\n      <td>5</td>\n      <td>2008</td>\n      <td>Home</td>\n      <td>1</td>\n      <td>Memphis</td>\n      <td>200</td>\n      <td>...</td>\n      <td>13</td>\n      <td>22</td>\n      <td>15</td>\n      <td>0</td>\n      <td>41</td>\n      <td>16</td>\n      <td>5</td>\n      <td>2</td>\n      <td>18</td>\n      <td>22</td>\n    </tr>\n    <tr>\n      <th>2</th>\n      <td>a83307d5-9410-475f-b95a-f054f5cb2111</td>\n      <td>2007-11-06</td>\n      <td>2007</td>\n      <td>11</td>\n      <td>6</td>\n      <td>2008</td>\n      <td>Neutral</td>\n      <td>1</td>\n      <td>Gardner-Webb</td>\n      <td>200</td>\n      <td>...</td>\n      <td>17</td>\n      <td>26</td>\n      <td>10</td>\n      <td>0</td>\n      <td>30</td>\n      <td>9</td>\n      <td>4</td>\n      <td>8</td>\n      <td>27</td>\n      <td>24</td>\n    </tr>\n    <tr>\n      <th>3</th>\n      <td>4ced5612-488a-42dd-ac40-cd016d5f7644</td>\n      <td>2007-11-06</td>\n      <td>2007</td>\n      <td>11</td>\n      <td>6</td>\n      <td>2008</td>\n      <td>Away</td>\n      <td>0</td>\n      <td>Richmond</td>\n      <td>200</td>\n      <td>...</td>\n      <td>21</td>\n      <td>32</td>\n      <td>11</td>\n      <td>0</td>\n      <td>36</td>\n      <td>15</td>\n      <td>13</td>\n      <td>10</td>\n      <td>17</td>\n      <td>18</td>\n    </tr>\n    <tr>\n      <th>4</th>\n      <td>c7635057-16be-4f56-ad92-102d30d33caf</td>\n      <td>2007-11-06</td>\n      <td>2007</td>\n      <td>11</td>\n      <td>6</td>\n      <td>2008</td>\n      <td>Home</td>\n      <td>1</td>\n      <td>Kentucky</td>\n      <td>200</td>\n      <td>...</td>\n      <td>17</td>\n      <td>21</td>\n      <td>11</td>\n      <td>0</td>\n      <td>25</td>\n      <td>5</td>\n      <td>5</td>\n      <td>4</td>\n      <td>18</td>\n      <td>18</td>\n    </tr>\n    <tr>\n      <th>...</th>\n      <td>...</td>\n      <td>...</td>\n      <td>...</td>\n      <td>...</td>\n      <td>...</td>\n      <td>...</td>\n      <td>...</td>\n      <td>...</td>\n      <td>...</td>\n      <td>...</td>\n      <td>...</td>\n      <td>...</td>\n      <td>...</td>\n      <td>...</td>\n      <td>...</td>\n      <td>...</td>\n      <td>...</td>\n      <td>...</td>\n      <td>...</td>\n      <td>...</td>\n      <td>...</td>\n    </tr>\n    <tr>\n      <th>85058</th>\n      <td>a2394567-37c5-48d1-8086-9a1c4fc4691c</td>\n      <td>2023-03-28</td>\n      <td>2023</td>\n      <td>3</td>\n      <td>28</td>\n      <td>2023</td>\n      <td>Away</td>\n      <td>0</td>\n      <td>Utah Valley</td>\n      <td>221</td>\n      <td>...</td>\n      <td>17</td>\n      <td>22</td>\n      <td>11</td>\n      <td>0</td>\n      <td>42</td>\n      <td>14</td>\n      <td>9</td>\n      <td>4</td>\n      <td>10</td>\n      <td>23</td>\n    </tr>\n    <tr>\n      <th>85059</th>\n      <td>192dafc9-e857-4764-9e8e-3a04af1bb73c</td>\n      <td>2023-03-30</td>\n      <td>2023</td>\n      <td>3</td>\n      <td>30</td>\n      <td>2023</td>\n      <td>Home</td>\n      <td>1</td>\n      <td>North Texas</td>\n      <td>196</td>\n      <td>...</td>\n      <td>24</td>\n      <td>31</td>\n      <td>9</td>\n      <td>0</td>\n      <td>27</td>\n      <td>8</td>\n      <td>7</td>\n      <td>2</td>\n      <td>11</td>\n      <td>14</td>\n    </tr>\n    <tr>\n      <th>85060</th>\n      <td>62792664-cb9d-46f6-a0ae-da5b4eac020a</td>\n      <td>2023-04-01</td>\n      <td>2023</td>\n      <td>4</td>\n      <td>1</td>\n      <td>2023</td>\n      <td>Home</td>\n      <td>1</td>\n      <td>San Diego State</td>\n      <td>195</td>\n      <td>...</td>\n      <td>16</td>\n      <td>21</td>\n      <td>7</td>\n      <td>0</td>\n      <td>31</td>\n      <td>6</td>\n      <td>6</td>\n      <td>2</td>\n      <td>9</td>\n      <td>17</td>\n    </tr>\n    <tr>\n      <th>85061</th>\n      <td>7ed7115c-cb3a-43d4-9aff-d05ffa5b0156</td>\n      <td>2023-04-01</td>\n      <td>2023</td>\n      <td>4</td>\n      <td>1</td>\n      <td>2023</td>\n      <td>Away</td>\n      <td>0</td>\n      <td>Miami (Fla.)</td>\n      <td>195</td>\n      <td>...</td>\n      <td>7</td>\n      <td>13</td>\n      <td>13</td>\n      <td>0</td>\n      <td>40</td>\n      <td>19</td>\n      <td>5</td>\n      <td>5</td>\n      <td>14</td>\n      <td>11</td>\n    </tr>\n    <tr>\n      <th>85062</th>\n      <td>9ba510b2-bd9b-4180-9602-0042dc6bd324</td>\n      <td>2023-04-03</td>\n      <td>2023</td>\n      <td>4</td>\n      <td>3</td>\n      <td>2023</td>\n      <td>Away</td>\n      <td>0</td>\n      <td>San Diego State</td>\n      <td>193</td>\n      <td>...</td>\n      <td>24</td>\n      <td>27</td>\n      <td>10</td>\n      <td>0</td>\n      <td>40</td>\n      <td>13</td>\n      <td>8</td>\n      <td>6</td>\n      <td>13</td>\n      <td>15</td>\n    </tr>\n  </tbody>\n</table>\n<p>85063 rows × 50 columns</p>\n</div>"
     },
     "execution_count": 578,
     "metadata": {},
     "output_type": "execute_result"
    }
   ],
   "source": [
    "statline_df = statline_df[['UUID', 'Date', 'Year', 'Month', 'Day', 'Season', 'Team_1_Location', 'Team_1_Victory',\n",
    "                           'Team_1', 'MIN_1', 'Points_1', 'Points Per Possession_1', 'Possessions_1', 'FGM_1', 'FGA_1',  '2FM_1', '2FA_1', \n",
    "                           '3FM_1', '3FA_1', 'FTM_1', 'FTA_1', 'OREB_1', 'TmRb_1', 'REB_1', 'AST_1', 'STL_1', 'BLK_1', 'TO_1', 'F_1',\n",
    "                           'Team_2', 'MIN_2', 'Points_2', 'Points Per Possession_2', 'Possessions_2', 'FGM_2', 'FGA_2',  '2FM_2', '2FA_2',\n",
    "                           '3FM_2', '3FA_2', 'FTM_2', 'FTA_2', 'OREB_2', 'TmRb_2', 'REB_2', 'AST_2', 'STL_2', 'BLK_2', 'TO_2', 'F_2']]\n",
    "statline_df = statline_df.sort_values(by='Date').reset_index(drop=True)\n",
    "statline_df"
   ],
   "metadata": {
    "collapsed": false,
    "ExecuteTime": {
     "end_time": "2023-12-29T22:02:05.010941400Z",
     "start_time": "2023-12-29T22:02:04.906117700Z"
    }
   },
   "id": "54e75e8de0143ece",
   "execution_count": 578
  },
  {
   "cell_type": "code",
   "outputs": [],
   "source": [
    "statline_df.to_csv('Historical Data/Team Statlines/team-statlines-2007-23.csv', index=False)"
   ],
   "metadata": {
    "collapsed": false,
    "ExecuteTime": {
     "end_time": "2023-12-29T22:02:05.565245600Z",
     "start_time": "2023-12-29T22:02:04.993726500Z"
    }
   },
   "id": "a015c5ea2e051d51",
   "execution_count": 579
  },
  {
   "cell_type": "markdown",
   "source": [
    "# Basic Calculations"
   ],
   "metadata": {
    "collapsed": false
   },
   "id": "c608159da54a205b"
  },
  {
   "cell_type": "code",
   "outputs": [
    {
     "data": {
      "text/plain": "                                       UUID        Date  Year  Month  Day  \\\n0      01dbf56d-681b-47e1-917a-af746d6f906d  2007-11-05  2007     11    5   \n1      3a1dcea9-5dc4-4468-af40-bbdeb727914b  2007-11-05  2007     11    5   \n2      a83307d5-9410-475f-b95a-f054f5cb2111  2007-11-06  2007     11    6   \n3      4ced5612-488a-42dd-ac40-cd016d5f7644  2007-11-06  2007     11    6   \n4      c7635057-16be-4f56-ad92-102d30d33caf  2007-11-06  2007     11    6   \n...                                     ...         ...   ...    ...  ...   \n85058  a2394567-37c5-48d1-8086-9a1c4fc4691c  2023-03-28  2023      3   28   \n85059  192dafc9-e857-4764-9e8e-3a04af1bb73c  2023-03-30  2023      3   30   \n85060  62792664-cb9d-46f6-a0ae-da5b4eac020a  2023-04-01  2023      4    1   \n85061  7ed7115c-cb3a-43d4-9aff-d05ffa5b0156  2023-04-01  2023      4    1   \n85062  9ba510b2-bd9b-4180-9602-0042dc6bd324  2023-04-03  2023      4    3   \n\n       Season Team_1_Location  Team_1_Victory           Team_1  MIN_1  ...  \\\n0        2008         Neutral               1         Richmond    200  ...   \n1        2008            Home               1          Memphis    200  ...   \n2        2008         Neutral               1     Gardner-Webb    200  ...   \n3        2008            Away               0         Richmond    200  ...   \n4        2008            Home               1         Kentucky    200  ...   \n...       ...             ...             ...              ...    ...  ...   \n85058    2023            Away               0      Utah Valley    221  ...   \n85059    2023            Home               1      North Texas    196  ...   \n85060    2023            Home               1  San Diego State    195  ...   \n85061    2023            Away               0     Miami (Fla.)    195  ...   \n85062    2023            Away               0  San Diego State    193  ...   \n\n       FTM_2  FTA_2  OREB_2  TmRb_2  REB_2  AST_2  STL_2  BLK_2  TO_2  F_2  \n0          3      5      11       0     39      9      9      1    28   12  \n1         13     22      15       0     41     16      5      2    18   22  \n2         17     26      10       0     30      9      4      8    27   24  \n3         21     32      11       0     36     15     13     10    17   18  \n4         17     21      11       0     25      5      5      4    18   18  \n...      ...    ...     ...     ...    ...    ...    ...    ...   ...  ...  \n85058     17     22      11       0     42     14      9      4    10   23  \n85059     24     31       9       0     27      8      7      2    11   14  \n85060     16     21       7       0     31      6      6      2     9   17  \n85061      7     13      13       0     40     19      5      5    14   11  \n85062     24     27      10       0     40     13      8      6    13   15  \n\n[85063 rows x 50 columns]",
      "text/html": "<div>\n<style scoped>\n    .dataframe tbody tr th:only-of-type {\n        vertical-align: middle;\n    }\n\n    .dataframe tbody tr th {\n        vertical-align: top;\n    }\n\n    .dataframe thead th {\n        text-align: right;\n    }\n</style>\n<table border=\"1\" class=\"dataframe\">\n  <thead>\n    <tr style=\"text-align: right;\">\n      <th></th>\n      <th>UUID</th>\n      <th>Date</th>\n      <th>Year</th>\n      <th>Month</th>\n      <th>Day</th>\n      <th>Season</th>\n      <th>Team_1_Location</th>\n      <th>Team_1_Victory</th>\n      <th>Team_1</th>\n      <th>MIN_1</th>\n      <th>...</th>\n      <th>FTM_2</th>\n      <th>FTA_2</th>\n      <th>OREB_2</th>\n      <th>TmRb_2</th>\n      <th>REB_2</th>\n      <th>AST_2</th>\n      <th>STL_2</th>\n      <th>BLK_2</th>\n      <th>TO_2</th>\n      <th>F_2</th>\n    </tr>\n  </thead>\n  <tbody>\n    <tr>\n      <th>0</th>\n      <td>01dbf56d-681b-47e1-917a-af746d6f906d</td>\n      <td>2007-11-05</td>\n      <td>2007</td>\n      <td>11</td>\n      <td>5</td>\n      <td>2008</td>\n      <td>Neutral</td>\n      <td>1</td>\n      <td>Richmond</td>\n      <td>200</td>\n      <td>...</td>\n      <td>3</td>\n      <td>5</td>\n      <td>11</td>\n      <td>0</td>\n      <td>39</td>\n      <td>9</td>\n      <td>9</td>\n      <td>1</td>\n      <td>28</td>\n      <td>12</td>\n    </tr>\n    <tr>\n      <th>1</th>\n      <td>3a1dcea9-5dc4-4468-af40-bbdeb727914b</td>\n      <td>2007-11-05</td>\n      <td>2007</td>\n      <td>11</td>\n      <td>5</td>\n      <td>2008</td>\n      <td>Home</td>\n      <td>1</td>\n      <td>Memphis</td>\n      <td>200</td>\n      <td>...</td>\n      <td>13</td>\n      <td>22</td>\n      <td>15</td>\n      <td>0</td>\n      <td>41</td>\n      <td>16</td>\n      <td>5</td>\n      <td>2</td>\n      <td>18</td>\n      <td>22</td>\n    </tr>\n    <tr>\n      <th>2</th>\n      <td>a83307d5-9410-475f-b95a-f054f5cb2111</td>\n      <td>2007-11-06</td>\n      <td>2007</td>\n      <td>11</td>\n      <td>6</td>\n      <td>2008</td>\n      <td>Neutral</td>\n      <td>1</td>\n      <td>Gardner-Webb</td>\n      <td>200</td>\n      <td>...</td>\n      <td>17</td>\n      <td>26</td>\n      <td>10</td>\n      <td>0</td>\n      <td>30</td>\n      <td>9</td>\n      <td>4</td>\n      <td>8</td>\n      <td>27</td>\n      <td>24</td>\n    </tr>\n    <tr>\n      <th>3</th>\n      <td>4ced5612-488a-42dd-ac40-cd016d5f7644</td>\n      <td>2007-11-06</td>\n      <td>2007</td>\n      <td>11</td>\n      <td>6</td>\n      <td>2008</td>\n      <td>Away</td>\n      <td>0</td>\n      <td>Richmond</td>\n      <td>200</td>\n      <td>...</td>\n      <td>21</td>\n      <td>32</td>\n      <td>11</td>\n      <td>0</td>\n      <td>36</td>\n      <td>15</td>\n      <td>13</td>\n      <td>10</td>\n      <td>17</td>\n      <td>18</td>\n    </tr>\n    <tr>\n      <th>4</th>\n      <td>c7635057-16be-4f56-ad92-102d30d33caf</td>\n      <td>2007-11-06</td>\n      <td>2007</td>\n      <td>11</td>\n      <td>6</td>\n      <td>2008</td>\n      <td>Home</td>\n      <td>1</td>\n      <td>Kentucky</td>\n      <td>200</td>\n      <td>...</td>\n      <td>17</td>\n      <td>21</td>\n      <td>11</td>\n      <td>0</td>\n      <td>25</td>\n      <td>5</td>\n      <td>5</td>\n      <td>4</td>\n      <td>18</td>\n      <td>18</td>\n    </tr>\n    <tr>\n      <th>...</th>\n      <td>...</td>\n      <td>...</td>\n      <td>...</td>\n      <td>...</td>\n      <td>...</td>\n      <td>...</td>\n      <td>...</td>\n      <td>...</td>\n      <td>...</td>\n      <td>...</td>\n      <td>...</td>\n      <td>...</td>\n      <td>...</td>\n      <td>...</td>\n      <td>...</td>\n      <td>...</td>\n      <td>...</td>\n      <td>...</td>\n      <td>...</td>\n      <td>...</td>\n      <td>...</td>\n    </tr>\n    <tr>\n      <th>85058</th>\n      <td>a2394567-37c5-48d1-8086-9a1c4fc4691c</td>\n      <td>2023-03-28</td>\n      <td>2023</td>\n      <td>3</td>\n      <td>28</td>\n      <td>2023</td>\n      <td>Away</td>\n      <td>0</td>\n      <td>Utah Valley</td>\n      <td>221</td>\n      <td>...</td>\n      <td>17</td>\n      <td>22</td>\n      <td>11</td>\n      <td>0</td>\n      <td>42</td>\n      <td>14</td>\n      <td>9</td>\n      <td>4</td>\n      <td>10</td>\n      <td>23</td>\n    </tr>\n    <tr>\n      <th>85059</th>\n      <td>192dafc9-e857-4764-9e8e-3a04af1bb73c</td>\n      <td>2023-03-30</td>\n      <td>2023</td>\n      <td>3</td>\n      <td>30</td>\n      <td>2023</td>\n      <td>Home</td>\n      <td>1</td>\n      <td>North Texas</td>\n      <td>196</td>\n      <td>...</td>\n      <td>24</td>\n      <td>31</td>\n      <td>9</td>\n      <td>0</td>\n      <td>27</td>\n      <td>8</td>\n      <td>7</td>\n      <td>2</td>\n      <td>11</td>\n      <td>14</td>\n    </tr>\n    <tr>\n      <th>85060</th>\n      <td>62792664-cb9d-46f6-a0ae-da5b4eac020a</td>\n      <td>2023-04-01</td>\n      <td>2023</td>\n      <td>4</td>\n      <td>1</td>\n      <td>2023</td>\n      <td>Home</td>\n      <td>1</td>\n      <td>San Diego State</td>\n      <td>195</td>\n      <td>...</td>\n      <td>16</td>\n      <td>21</td>\n      <td>7</td>\n      <td>0</td>\n      <td>31</td>\n      <td>6</td>\n      <td>6</td>\n      <td>2</td>\n      <td>9</td>\n      <td>17</td>\n    </tr>\n    <tr>\n      <th>85061</th>\n      <td>7ed7115c-cb3a-43d4-9aff-d05ffa5b0156</td>\n      <td>2023-04-01</td>\n      <td>2023</td>\n      <td>4</td>\n      <td>1</td>\n      <td>2023</td>\n      <td>Away</td>\n      <td>0</td>\n      <td>Miami (Fla.)</td>\n      <td>195</td>\n      <td>...</td>\n      <td>7</td>\n      <td>13</td>\n      <td>13</td>\n      <td>0</td>\n      <td>40</td>\n      <td>19</td>\n      <td>5</td>\n      <td>5</td>\n      <td>14</td>\n      <td>11</td>\n    </tr>\n    <tr>\n      <th>85062</th>\n      <td>9ba510b2-bd9b-4180-9602-0042dc6bd324</td>\n      <td>2023-04-03</td>\n      <td>2023</td>\n      <td>4</td>\n      <td>3</td>\n      <td>2023</td>\n      <td>Away</td>\n      <td>0</td>\n      <td>San Diego State</td>\n      <td>193</td>\n      <td>...</td>\n      <td>24</td>\n      <td>27</td>\n      <td>10</td>\n      <td>0</td>\n      <td>40</td>\n      <td>13</td>\n      <td>8</td>\n      <td>6</td>\n      <td>13</td>\n      <td>15</td>\n    </tr>\n  </tbody>\n</table>\n<p>85063 rows × 50 columns</p>\n</div>"
     },
     "execution_count": 580,
     "metadata": {},
     "output_type": "execute_result"
    }
   ],
   "source": [
    "statline_df = pd.read_csv('Historical Data/Team Statlines/team-statlines-2007-23.csv')\n",
    "statline_df"
   ],
   "metadata": {
    "collapsed": false,
    "ExecuteTime": {
     "end_time": "2023-12-29T22:02:05.841686200Z",
     "start_time": "2023-12-29T22:02:05.567238300Z"
    }
   },
   "id": "def1acfe88c471e7",
   "execution_count": 580
  },
  {
   "cell_type": "code",
   "outputs": [],
   "source": [],
   "metadata": {
    "collapsed": false
   },
   "id": "74d6ed045d5d4d71"
  }
 ],
 "metadata": {
  "kernelspec": {
   "display_name": "Python 3",
   "language": "python",
   "name": "python3"
  },
  "language_info": {
   "codemirror_mode": {
    "name": "ipython",
    "version": 2
   },
   "file_extension": ".py",
   "mimetype": "text/x-python",
   "name": "python",
   "nbconvert_exporter": "python",
   "pygments_lexer": "ipython2",
   "version": "2.7.6"
  }
 },
 "nbformat": 4,
 "nbformat_minor": 5
}
